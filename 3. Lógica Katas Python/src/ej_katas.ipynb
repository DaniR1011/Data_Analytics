{
 "cells": [
  {
   "cell_type": "markdown",
   "metadata": {},
   "source": [
    "<h1>Ejercicios Katas Python</h1>"
   ]
  },
  {
   "cell_type": "markdown",
   "metadata": {},
   "source": [
    "#### 1. Escribe una función que reciba una cadena de texto como parámetro y devuelva un diccionario con las frecuencias de cada letra en la cadena. Los espacios no deben ser considerados."
   ]
  },
  {
   "cell_type": "code",
   "execution_count": null,
   "metadata": {},
   "outputs": [],
   "source": [
    "def frecuencia_letras(cadena):\n",
    "# Generamos un diccionario vacío donde añadiremos la frecuencia de las letras\n",
    "    repetidas = {}\n",
    "# Con el .replace eliminamos los espacios que pueden existir entre las letras\n",
    "    for letra in cadena.replace(\" \", \"\"):\n",
    "        if letra in repetidas:\n",
    "            repetidas[letra] += 1\n",
    "        else:\n",
    "            repetidas[letra] = 1\n",
    "    return repetidas\n",
    "\n",
    "# Ejemplo de la función\n",
    "cadena = \"ejemplo repetidas\"\n",
    "repetidas = frecuencia_letras(cadena)\n",
    "print(repetidas)"
   ]
  },
  {
   "cell_type": "markdown",
   "metadata": {},
   "source": [
    "#### 2. Dada una lista de números, obtén una nueva lista con el doble de cada valor. Usa la función map()"
   ]
  },
  {
   "cell_type": "code",
   "execution_count": null,
   "metadata": {},
   "outputs": [],
   "source": [
    "# Generamos la función que haga el doble del número elegido\n",
    "def valor_doble(numero):\n",
    "    return numero * 2\n",
    "\n",
    "# Generamos el mapeo de los valores en forma de lista\n",
    "def mapeo_valores(numeros):\n",
    "    return list(map(valor_doble, numeros))\n",
    "\n",
    "# Ejemplo de la función\n",
    "numeros = [5, 10, 15, 20, 25]\n",
    "nueva_lista = mapeo_valores(numeros)\n",
    "print(nueva_lista)"
   ]
  },
  {
   "cell_type": "markdown",
   "metadata": {},
   "source": [
    "#### 3. Escribe una función que tome una lista de palabras y una palabra objetivo como parámetros. La función debe devolver una lista con todas las palabras de la lista original que contengan la palabra objetivo."
   ]
  },
  {
   "cell_type": "code",
   "execution_count": null,
   "metadata": {},
   "outputs": [],
   "source": [
    "# Definimos la función donde busque la palabra en la lista, con la condición de que se encuentre en la palabra objetivo\n",
    "def resultado_palabras(palabras, palabra_objetivo):\n",
    "    return [palabra for palabra in palabras if palabra_objetivo in palabra]\n",
    "\n",
    "# Ejemplo de la función\n",
    "palabras = [\"jardin\", \"jardinero\", \"jardineria\", \"hoja\", \"arbol\", \"jarron\"]\n",
    "objetivo = \"jard\"\n",
    "resultado = resultado_palabras(palabras, objetivo)\n",
    "print(resultado)"
   ]
  },
  {
   "cell_type": "markdown",
   "metadata": {},
   "source": [
    "#### 4. Genera una función que calcule la diferencia entre los valores de dos listas. Usa la función map()"
   ]
  },
  {
   "cell_type": "code",
   "execution_count": null,
   "metadata": {},
   "outputs": [],
   "source": [
    "# Definimos la función con map, donde genera una lista que es la resta entre el primer y el segundo valor. Utilizamos lambda porque nos permite darle condiciones de los dos parámetros\n",
    "def calcular_diferencia(lista1, lista2):\n",
    "    return list(map(lambda x, y: x - y, lista1, lista2))\n",
    "\n",
    "# Ejemplo de la función\n",
    "lista1 = [1, 2, 3, 4, 5, 6]\n",
    "lista2 = [0, 1, 2, 3, 5, 9]\n",
    "diferencia = calcular_diferencia(lista1, lista2)\n",
    "print(diferencia)"
   ]
  },
  {
   "cell_type": "markdown",
   "metadata": {},
   "source": [
    "#### 5. Escribe una función que tome una lista de números como parámetro y un valor opcional nota_aprobado, que por defecto es 5. La función debe calcular la media de los números en la lista y determinar si la media es mayor o igual que nota aprobado. Si es así, el estado será \"aprobado\", de lo contrario, será \"suspenso\". La función debe devolver una tupla que contenga la media y el estado."
   ]
  },
  {
   "cell_type": "code",
   "execution_count": null,
   "metadata": {},
   "outputs": [],
   "source": [
    "# Definimos la función donde realiza la suma y divide entre la longitud de las notas. Else 0 se utiliza por si la lista está vacía y para que no genere error. Luego un condicional donde si no se supera la media que es 5, devuelva suspenso.\n",
    "def calcular_nota(notas, aprobado = 5):\n",
    "    media = sum(notas) / len(notas) if notas else 0\n",
    "    estado = \"aprobado\" if media >= aprobado else \"suspenso\"\n",
    "    return (media, estado)\n",
    "\n",
    "# Ejemplo de la función\n",
    "notas = [3, 10, 3, 4, 6]\n",
    "resultado = calcular_nota(notas)\n",
    "print(resultado)"
   ]
  },
  {
   "cell_type": "markdown",
   "metadata": {},
   "source": [
    "#### 6. Escribe una función que calcule el factorial de un número de manera recursiva."
   ]
  },
  {
   "cell_type": "code",
   "execution_count": null,
   "metadata": {},
   "outputs": [],
   "source": [
    "# Definimos la función en la que si el número es 0 o 1, su factorial es 1. Por el contrario, va a multiplicar el número elegido por todos los números -1 del elegido. Ejemplo x = 3 -> (3*2*1 = 6)\n",
    "def calculo_factorial(x):\n",
    "    if x == 0 or x == 1:\n",
    "        return 1\n",
    "    else:\n",
    "        return x * calculo_factorial(x - 1)\n",
    "\n",
    "# Ejemplo de la función\n",
    "numero = 8\n",
    "resultado = calculo_factorial(numero)\n",
    "print(resultado)"
   ]
  },
  {
   "cell_type": "markdown",
   "metadata": {},
   "source": [
    "#### 7. Genera una función que convierta una lista de tuplas a una lista de strings. Usa la función map()"
   ]
  },
  {
   "cell_type": "code",
   "execution_count": null,
   "metadata": {},
   "outputs": [],
   "source": [
    "# Definimos una función que convierta las tuplas en string, a través de la función str. Siempre que utilicemos map, es necesario concretar que queremos una lista, porque map solo itera sobre los elementos. Lambda es fundamental, porque genera una cadena de las tuplas que utilicemos.\n",
    "def convertir_string(tuplas):\n",
    "    return list(map(lambda tupla: str(tupla), tuplas))\n",
    "\n",
    "# Ejemplo de la función\n",
    "ejemplo_tuplas = [(0, -2), (8, 4), (9, 22)]\n",
    "resultado = convertir_string(ejemplo_tuplas)\n",
    "print(resultado)"
   ]
  },
  {
   "cell_type": "markdown",
   "metadata": {},
   "source": [
    "#### 8. Escribe un programa que pida al usuario dos números e intente dividirlos. Si el usuario ingresa un valor no numérico o intenta dividir por cero, maneja esas excepciones de manera adecuada. Asegúrate de mostrar un mensaje indicando si la división fue exitosa o no."
   ]
  },
  {
   "cell_type": "code",
   "execution_count": null,
   "metadata": {},
   "outputs": [],
   "source": [
    "# Definimos la función para que divida num1 entre num2. Después generamos las condiciones\n",
    "def dividir_numeros(num1, num2):\n",
    "    try:\n",
    "        resultado = num1 / num2\n",
    "# Utilizamos el ZeroDivisionError si el usuario añade un 0, debido a que la división causaría error\n",
    "    except ZeroDivisionError:\n",
    "        print(\"❌ No se puede dividir por 0\")\n",
    "        return\n",
    "# Utilizamos el ValueError si el usuario ingresa valores no numéricos\n",
    "    except ValueError:\n",
    "        print(\"❌ Ingresa valores numéricos\")\n",
    "        return\n",
    "# Si los dos casos anteriores no se cumplen, significa que la división se realizó correctamente\n",
    "    else:\n",
    "        print(f\"La división se realizó correctamente, el resultado es: {resultado}\")\n",
    "\n",
    "# Ejemplo de la función\n",
    "print(dividir_numeros(10,4))"
   ]
  },
  {
   "cell_type": "markdown",
   "metadata": {},
   "source": [
    "#### 9. Escribe una función que tome una lista de nombres de mascotas como parámetro y devuelva una nueva lista excluyendo ciertas mascotas prohibidas en España. La lista de mascotas a excluir es [\"Mapache\", \"Tigre\", \"Serpiente Pitón\", \"Cocodrilo\", \"Oso\"]. Usa la función filter()"
   ]
  },
  {
   "cell_type": "code",
   "execution_count": null,
   "metadata": {},
   "outputs": [],
   "source": [
    "def filtrar_mascotas(mascotas):\n",
    "# Definimos las mascotas exactas prohibidas\n",
    "    mascotas_prohibidas = [\"Mapache\", \"Tigre\", \"Serpiente Pitón\", \"Cocodrilo\", \"Oso\"]\n",
    "# Definimos las mascotas permitidas, y utilizamos un filter donde no aparezcan las mascotas prohibidas. Volvemos a utilizar lambda para generar dos condiciones sobre mascotas.\n",
    "    mascotas_permitidas = list(filter(lambda mascota: mascota not in mascotas_prohibidas, mascotas))\n",
    "    return mascotas_permitidas\n",
    "\n",
    "# Ejemplo de la función\n",
    "mascotas = [\"Perro\", \"Gato\", \"Mapache\", \"Tigre\", \"Conejo\", \"Serpiente Pitón\"]\n",
    "resultado = filtrar_mascotas(mascotas)\n",
    "print(resultado)"
   ]
  },
  {
   "cell_type": "markdown",
   "metadata": {},
   "source": [
    "#### 10. Escribe una función que reciba una lista de números y calcule su promedio. Si la lista está vacía, lanza una excepción personalizada y maneja el error adecuadamente."
   ]
  },
  {
   "cell_type": "code",
   "execution_count": null,
   "metadata": {},
   "outputs": [],
   "source": [
    "def calcular_promedio(numeros):\n",
    "    try:\n",
    "        if not numeros:\n",
    "# Excepción si la lista está vacía\n",
    "            raise Exception(\"La lista está vacía. Por favor completa la lista con valores.\")\n",
    "        promedio = sum(numeros) / len(numeros)\n",
    "        return promedio\n",
    "\n",
    "    except Exception as error:\n",
    "        # Manejar el error y mostrar el mensaje si se lanza una excepción\n",
    "        print(f\"❌ Error: {error}\")\n",
    "\n",
    "# Ejemplo de la función\n",
    "numeros = [1, 2, 3, 4, 6]\n",
    "print(\"El promedio de los valores es: \", calcular_promedio(numeros))"
   ]
  },
  {
   "cell_type": "markdown",
   "metadata": {},
   "source": [
    "#### 11. Escribe un programa que pida al usuario que introduzca su edad. Si el usuario ingresa un valor no numérico o un valor fuera del rango esperado (por ejemplo, menor que 0 o mayor que 120), maneja las excepciones adecuadamente."
   ]
  },
  {
   "cell_type": "code",
   "execution_count": null,
   "metadata": {},
   "outputs": [],
   "source": [
    "# Definimos esta función que calcula la edad introducida, como número entero\n",
    "def introduce_edad(edad):\n",
    "    try:\n",
    "        edad = int(edad)\n",
    "# Comprobar que la edad esté en el rango solicitado\n",
    "        if edad < 0 or edad > 120:\n",
    "            raise ValueError(\"❌ Error. La edad debe estar entre 0 y 120.\")\n",
    "        print(f\"Tienes: {edad} años.\")\n",
    "# Manejar el error si el valor es no numérico o está fuera del rango permitido\n",
    "    except ValueError as error:\n",
    "        print(f\"Error: {error}\")\n",
    "\n",
    "# Ejemplo de la función\n",
    "print(introduce_edad(132))"
   ]
  },
  {
   "cell_type": "markdown",
   "metadata": {},
   "source": [
    "#### 12. Genera una función que al recibir una frase devuelva una lista con la longitud de cada palabra. Usa la función map()"
   ]
  },
  {
   "cell_type": "code",
   "execution_count": null,
   "metadata": {},
   "outputs": [],
   "source": [
    "# Definimos esta función para calcular la longitud de cada palabra. El split divide la frase en palabras sueltas.\n",
    "def longitud_palabras(frase):\n",
    "    palabras = frase.split()\n",
    "# Con map obtenemos la longitud exacta de cada palabra\n",
    "    longitudes = list(map(len, palabras))\n",
    "    return longitudes\n",
    "\n",
    "# Ejemplo de uso\n",
    "frase = \"Calcula la longitud de cada palabra\"\n",
    "print(longitud_palabras(frase))"
   ]
  },
  {
   "cell_type": "markdown",
   "metadata": {},
   "source": [
    "#### 13. Genera una función la cual, para un conjunto de caracteres, devuelva una lista de tuplas con cada letra en mayúsculas y minúsculas. Las letras no pueden estar repetidas .Usa la función map()"
   ]
  },
  {
   "cell_type": "code",
   "execution_count": null,
   "metadata": {},
   "outputs": [],
   "source": [
    "# Definimos esta función para transformar en mayus y minus. El set transforma el conjunto en uno único\n",
    "def convertir_minus_mayus(conjunto):\n",
    "    letras_unicas = set(conjunto)\n",
    "# Generamos map y lambda para darle esa doble condición de letras mayúsculas y minúsculas\n",
    "    resultado = list(map(lambda letra: (letra.upper(), letra.lower()), letras_unicas))\n",
    "    return resultado\n",
    "\n",
    "# Ejemplo de la función\n",
    "letras = {'A','B','C','a','b','c'}\n",
    "print(convertir_minus_mayus(letras))"
   ]
  },
  {
   "cell_type": "markdown",
   "metadata": {},
   "source": [
    "#### 14. Crea una función que retorne las palabras de una lista de palabras que comience con una letra en especifico. Usa la función filter()"
   ]
  },
  {
   "cell_type": "code",
   "execution_count": null,
   "metadata": {},
   "outputs": [],
   "source": [
    "# Definimos una función que seleccione las palabras con la primera letra elegida\n",
    "def palabras_primera_letra(palabras, primera_letra):\n",
    "# Usamos filter() para obtener las palabras que comienzan con la letra especificada, gracias a startswith\n",
    "    resultado = list(filter(lambda palabra: palabra.startswith(primera_letra), palabras))\n",
    "    return resultado\n",
    "\n",
    "# Ejemplo de la función\n",
    "lista_palabras = [\"dinero\", \"dedo\", \"doble\", \"dejar\", \"hola\", \"adios\"]\n",
    "print(palabras_primera_letra(lista_palabras, \"d\"))"
   ]
  },
  {
   "cell_type": "markdown",
   "metadata": {},
   "source": [
    "#### 15. Crea una función lambda que sume 3 a cada número de una lista dada."
   ]
  },
  {
   "cell_type": "code",
   "execution_count": null,
   "metadata": {},
   "outputs": [],
   "source": [
    "# Definimos la función que sume 3 a cada número elegido. Lambda nos permite dar esa condición\n",
    "def sumar_tres(numeros):\n",
    "    return list(map(lambda x: x + 3, numeros))\n",
    "\n",
    "# Ejemplo de la función\n",
    "numeros = [2, 4, 6, 8, 10]\n",
    "print(sumar_tres(numeros))"
   ]
  },
  {
   "cell_type": "markdown",
   "metadata": {},
   "source": [
    "#### 16. Escribe una función que tome una cadena de texto y un número entero n como parámetros y devuelva una lista de todas las palabras que sean más largas que n. Usa la función filter()"
   ]
  },
  {
   "cell_type": "code",
   "execution_count": null,
   "metadata": {},
   "outputs": [],
   "source": [
    "# Definimos una función que retorne palabras más largas que n. Como hicimos previamente, con split separamos las palabras\n",
    "def palabras_mas_largas_n(frase, n):\n",
    "    palabras = frase.split()\n",
    "# Con filter definimos que las palabras tienen que tener mayor len que n\n",
    "    resultado = list(filter(lambda palabra: len(palabra) > n, palabras))\n",
    "    return resultado\n",
    "\n",
    "# Ejemplo de la función\n",
    "frase = \"Palabras de mayor longitud que n\"\n",
    "n = 4\n",
    "print(palabras_mas_largas_n(frase, n))"
   ]
  },
  {
   "cell_type": "markdown",
   "metadata": {},
   "source": [
    "#### 17. Crea una función que tome una lista de dígitos y devuelva el número correspondiente. Por ejemplo, [5,7,2] corresponde al número quinientos setenta y dos (572). Usa la función reduce()"
   ]
  },
  {
   "cell_type": "code",
   "execution_count": null,
   "metadata": {},
   "outputs": [],
   "source": [
    "# Reduce se encuentra en el módulo functools, por lo que primero se debe importar\n",
    "from functools import reduce\n",
    "# Definimos la función y con reduce combinamos los dígitos para formar el número completo. Lambda multiplica por 10 el dígito y suma el siguiente\n",
    "def numero_digitos(digitos):\n",
    "    return reduce(lambda x, y: x * 10 + y, digitos)\n",
    "\n",
    "# Ejemplo de la función\n",
    "lista_digitos = [9,4,6,5,2]\n",
    "print(numero_digitos(lista_digitos))"
   ]
  },
  {
   "cell_type": "markdown",
   "metadata": {},
   "source": [
    "#### 18. Escribe un programa en Python que cree una lista de diccionarios que contenga información de estudiantes (nombre, edad, calificación) y use la función filter para extraer a los estudiantes con una calificación mayor o igual a 90.Usa la función filter()"
   ]
  },
  {
   "cell_type": "code",
   "execution_count": null,
   "metadata": {},
   "outputs": [],
   "source": [
    "# Definimos la función de aprobados, con filter establecemos que el aprobado es a partir de 90 en calificación\n",
    "def calcular_aprobados(estudiantes):\n",
    "    return list(filter(lambda estudiante: estudiante['calificacion'] >= 90, estudiantes))\n",
    "\n",
    "# Listado de alumnos\n",
    "estudiantes = [\n",
    "    {\"nombre\": \"Daniel\", \"edad\": 20, \"calificacion\": 85},\n",
    "    {\"nombre\": \"Jaime\", \"edad\": 20, \"calificacion\": 92},\n",
    "    {\"nombre\": \"Pablo\", \"edad\": 20, \"calificacion\": 88},\n",
    "    {\"nombre\": \"Luisa\", \"edad\": 20, \"calificacion\": 95},\n",
    "    {\"nombre\": \"Luis\", \"edad\": 20, \"calificacion\": 90}\n",
    "]\n",
    "\n",
    "# Ejemplo de la función\n",
    "estudiantes_aprobados = calcular_aprobados(estudiantes)\n",
    "print(estudiantes_aprobados)"
   ]
  },
  {
   "cell_type": "markdown",
   "metadata": {},
   "source": [
    "#### 19. Crea una función lambda que filtre los números impares de una lista dada."
   ]
  },
  {
   "cell_type": "code",
   "execution_count": null,
   "metadata": {},
   "outputs": [],
   "source": [
    "# Definimos la función de filtrar por impares, detallando el !=0, para que coja solo los números impares\n",
    "def numeros_impares(numeros):\n",
    "    return list(filter(lambda x: x % 2 != 0, numeros))\n",
    "\n",
    "# Ejemplo de la función\n",
    "numeros = [1, 2, 3, 4, 5, 6, 7, 8, 9, 10]\n",
    "print(numeros_impares(numeros))"
   ]
  },
  {
   "cell_type": "markdown",
   "metadata": {},
   "source": [
    "#### 20. Para una lista con elementos tipo integer y string obtén una nueva lista sólo con los valores int. Usa la función filter()"
   ]
  },
  {
   "cell_type": "code",
   "execution_count": null,
   "metadata": {},
   "outputs": [],
   "source": [
    "# Definimos una función que filtre enteros. Utilizamos el isinstance para verificar cada elemento y solo filtrar los de tipo int.\n",
    "def filtrar_enteros(elementos):\n",
    "    return list(filter(lambda x: isinstance(x, int), elementos))\n",
    "\n",
    "# Ejemplo de la función\n",
    "elementos = [0, 1, 2, 3, 4, \"ejemplo\", \"int\"]\n",
    "print(filtrar_enteros(elementos))"
   ]
  },
  {
   "cell_type": "markdown",
   "metadata": {},
   "source": [
    "#### 21. Escribe un programa en Python que cree una lista de diccionarios que contenga información de estudiantes (nombre, edad, calificación) y use la función filter para extraer a los estudiantes con una calificación mayor o igual a 90.Usa la función filter()"
   ]
  },
  {
   "cell_type": "code",
   "execution_count": null,
   "metadata": {},
   "outputs": [],
   "source": [
    "# Definimos la función de aprobados, con filter establecemos que el aprobado es a partir de 90 en calificación\n",
    "def calcular_aprobados(estudiantes):\n",
    "    return list(filter(lambda estudiante: estudiante['calificacion'] >= 90, estudiantes))\n",
    "\n",
    "# Listado de alumnos\n",
    "estudiantes = [\n",
    "    {\"nombre\": \"Daniel\", \"edad\": 20, \"calificacion\": 85},\n",
    "    {\"nombre\": \"Jaime\", \"edad\": 20, \"calificacion\": 92},\n",
    "    {\"nombre\": \"Pablo\", \"edad\": 20, \"calificacion\": 88},\n",
    "    {\"nombre\": \"Luisa\", \"edad\": 20, \"calificacion\": 95},\n",
    "    {\"nombre\": \"Luis\", \"edad\": 20, \"calificacion\": 90}\n",
    "]\n",
    "\n",
    "# Ejemplo de la función\n",
    "estudiantes_aprobados = calcular_aprobados(estudiantes)\n",
    "print(estudiantes_aprobados)"
   ]
  },
  {
   "cell_type": "markdown",
   "metadata": {},
   "source": [
    "#### 22. Crea una función que calcule el cubo de un número dado mediante una función lambda"
   ]
  },
  {
   "cell_type": "code",
   "execution_count": null,
   "metadata": {},
   "outputs": [],
   "source": [
    "# Definimos la función que calcule el cubo de un número. x -> **3\n",
    "def calcular_cubo_numero(numero):\n",
    "    cubo = lambda x: x ** 3\n",
    "    return cubo(numero)\n",
    "\n",
    "# Ejemplo de la función\n",
    "print(calcular_cubo_numero(5))"
   ]
  },
  {
   "cell_type": "markdown",
   "metadata": {},
   "source": [
    "#### 23. Dada una lista numérica, obtén el producto total de los valores de dicha lista. Usa la función reduce()."
   ]
  },
  {
   "cell_type": "code",
   "execution_count": null,
   "metadata": {},
   "outputs": [],
   "source": [
    "# De nuevo importamos reduce desde functools, puesto que es una función que se almacena allí\n",
    "from functools import reduce\n",
    "# Definimos la función, detallando con reduce que multiplique todos los números entre ellos\n",
    "def mult_numeros(numeros):\n",
    "    return reduce(lambda x, y: x * y, numeros)\n",
    "\n",
    "# Ejemplo de la función\n",
    "numeros = [1, 2, 3, 4]\n",
    "print(mult_numeros(numeros))"
   ]
  },
  {
   "cell_type": "markdown",
   "metadata": {},
   "source": [
    "#### 24. Concatena una lista de palabras. Usa la función reduce()."
   ]
  },
  {
   "cell_type": "code",
   "execution_count": null,
   "metadata": {},
   "outputs": [],
   "source": [
    "# Importamos reduce\n",
    "from functools import reduce\n",
    "# Definimos la función con reduce, que esta vez suma las palabras entre ellas\n",
    "def sumar_palabras(palabras):\n",
    "    return reduce(lambda x, y: x + y, palabras)\n",
    "\n",
    "# Ejemplo de la función\n",
    "palabras = [\"Ejemplo\", \" \", \"de\", \" \", \"suma\", \" \", \"de\", \" \", \"palabras\"]\n",
    "print(sumar_palabras(palabras))"
   ]
  },
  {
   "cell_type": "markdown",
   "metadata": {},
   "source": [
    "#### 25. Calcula la diferencia total en los valores de una lista. Usa la función reduce()."
   ]
  },
  {
   "cell_type": "code",
   "execution_count": null,
   "metadata": {},
   "outputs": [],
   "source": [
    "# Importamos reduce\n",
    "from functools import reduce\n",
    "# Definimos la función de resta con reduce\n",
    "def resta_valores(valores):\n",
    "    return reduce(lambda x, y: x - y, valores)\n",
    "\n",
    "# Ejemplo de la función\n",
    "valores = [10, 3, 2, 1]\n",
    "print(resta_valores(valores))"
   ]
  },
  {
   "cell_type": "markdown",
   "metadata": {},
   "source": [
    "#### 26. Crea una función que cuente el número de caracteres en una cadena de texto dada."
   ]
  },
  {
   "cell_type": "code",
   "execution_count": null,
   "metadata": {},
   "outputs": [],
   "source": [
    "# Definimos la función que cuente la longitud de la cadena\n",
    "def calcular_longitud(cadena):\n",
    "    return len(cadena)\n",
    "\n",
    "# Ejemplo de la función\n",
    "cadena = \"Longitud de esta cadena\"\n",
    "print(calcular_longitud(cadena))"
   ]
  },
  {
   "cell_type": "markdown",
   "metadata": {},
   "source": [
    "#### 27. Crea una función lambda que calcule el resto de la división entre dos números dados."
   ]
  },
  {
   "cell_type": "code",
   "execution_count": null,
   "metadata": {},
   "outputs": [],
   "source": [
    "# Definimos la función que calcula el resto de un número entre otro\n",
    "def calcular_resto(a, b):\n",
    "    resto = lambda x, y: x % y\n",
    "    return resto(a, b)\n",
    "\n",
    "# Ejemplo de la función\n",
    "print(calcular_resto(6, 4))"
   ]
  },
  {
   "cell_type": "markdown",
   "metadata": {},
   "source": [
    "#### 28. Crea una función que calcule el promedio de una lista de números."
   ]
  },
  {
   "cell_type": "code",
   "execution_count": null,
   "metadata": {},
   "outputs": [],
   "source": [
    "# Definimos la función que calcule el promedio\n",
    "def calcular_promedio_numeros(numeros):\n",
    "# Aquí sumamos todos los números y dividimos entre la longitud de la lista\n",
    "    return sum(numeros) / len(numeros)\n",
    "# Si la lista está vacía, en este paso retorna 0\n",
    "    if len(numeros) == 0:\n",
    "        return 0\n",
    "\n",
    "# Ejemplo de la función\n",
    "numeros = [2, 4, 6, 8, 10]\n",
    "print(calcular_promedio_numeros(numeros))"
   ]
  },
  {
   "cell_type": "markdown",
   "metadata": {},
   "source": [
    "#### 29. Crea una función que busque y devuelva el primer elemento duplicado en una lista dada."
   ]
  },
  {
   "cell_type": "code",
   "execution_count": null,
   "metadata": {},
   "outputs": [],
   "source": [
    "# Definimos la función, utilizamos set para que sea más preciso a la hora de la búsqueda de repetidos\n",
    "def primer_elemento_repetido(lista):\n",
    "    vistos = set()\n",
    "    for elemento in lista:\n",
    "# Con esta condición devuelve el primer elemento repetido\n",
    "        if elemento in vistos:\n",
    "            return elemento\n",
    "# Aquí verificamos si está duplicado, y si no lo está, lo devuelve a la lista y sigue buscando\n",
    "        vistos.add(elemento)\n",
    "# Aquí verificamos toda la lista y no ha encontrado ningún duplicado\n",
    "    return print(\"❌ No se ha encontrado ningún elemento duplicado\")\n",
    "\n",
    "# Ejemplo de la función\n",
    "lista = [0, 1, 2, 3, 0, 1, 4]\n",
    "print(primer_elemento_repetido(lista))"
   ]
  },
  {
   "cell_type": "markdown",
   "metadata": {},
   "source": [
    "#### 30. Crea una función que convierta una variable en una cadena de texto y enmascare todos los caracteres con el carácter '#', excepto los últimos cuatro."
   ]
  },
  {
   "cell_type": "code",
   "execution_count": null,
   "metadata": {},
   "outputs": [],
   "source": [
    "# Definimos la función y lo pasamos a cadena de texto (str)\n",
    "def enmascarar_caracteres(caracteres):\n",
    "    caracteres_str = str(caracteres)\n",
    "# Definimos que todos los caracteres sean # excepto los 4 últimos, y que a su vez muestre por pantalla los 4 últimos caracteres\n",
    "    enmascarado = \"#\" * (len(caracteres_str) - 4) + caracteres_str[-4:]\n",
    "    return enmascarado\n",
    "\n",
    "# Ejemplo de la función\n",
    "resultado = enmascarar_caracteres(123456700)\n",
    "print(resultado)"
   ]
  },
  {
   "cell_type": "markdown",
   "metadata": {},
   "source": [
    "#### 31. Crea una función que determine si dos palabras son anagramas, es decir, si están formadas por las mismas letras pero en diferente orden."
   ]
  },
  {
   "cell_type": "code",
   "execution_count": null,
   "metadata": {},
   "outputs": [],
   "source": [
    "# Definimos la función, transformamos todo a minúsculas y con sorted ordenamos las letras\n",
    "def calcular_anagramas(x, y):\n",
    "    return sorted(x.lower()) == sorted(y.lower())\n",
    "\n",
    "# Ejemplo de la función\n",
    "resultado = calcular_anagramas(\"Daniel\", \"Pedro\")\n",
    "print(resultado)"
   ]
  },
  {
   "cell_type": "markdown",
   "metadata": {},
   "source": [
    "#### 32. Crea una función que solicite al usuario ingresar una lista de nombres y luego solicite un nombre para buscar en esa lista. Si el nombre está en la lista, se imprime un mensaje indicando que fue encontrado, de lo contrario, se lanza una excepción."
   ]
  },
  {
   "cell_type": "code",
   "execution_count": null,
   "metadata": {},
   "outputs": [],
   "source": [
    "# Definimos la función y con strip eliminamos espacios existentes en los nombres\n",
    "def buscar_nombre(nombres, nombre_a_buscar):\n",
    "    try:\n",
    "        nombres = [nombre.strip() for nombre in nombres]\n",
    "# Con esta condición nos aseguramos que el nombre existe en la lista\n",
    "        if nombre_a_buscar in nombres:\n",
    "            print(f\"✅ El nombre '{nombre_a_buscar}' pertenece al listado.\")\n",
    "        else:\n",
    "# Con esta otra condición definimos que el nombre no se encuentra en la lista\n",
    "            raise ValueError(f\"❌ El nombre '{nombre_a_buscar}' no pertenece al listado.\")\n",
    "# Except forma parte del try, si no se cumple ninguna condición muestra el error\n",
    "    except ValueError as error:\n",
    "        print(error)\n",
    "\n",
    "# Ejemplo de la función\n",
    "lista_nombres = [\"Daniel\", \"Jaime\", \"Silvia\"]\n",
    "nombre_buscado = \"Silvia\"\n",
    "buscar_nombre(lista_nombres, nombre_buscado)"
   ]
  },
  {
   "cell_type": "markdown",
   "metadata": {},
   "source": [
    "#### 33. Crea una función que tome un nombre completo y una lista de empleados, busque el nombre completo en la lista y devuelve el puesto del empleado si está en la lista, de lo contrario, devuelve un mensaje indicando que la persona no trabaja aquí."
   ]
  },
  {
   "cell_type": "code",
   "execution_count": null,
   "metadata": {},
   "outputs": [],
   "source": [
    "# Definimos la función que busque el nombre del empleado y retorne si se encuentra o no\n",
    "def buscar_trabajador_y_puesto(nombre, empleados_puestos):\n",
    "    if nombre in empleados:\n",
    "        return f\"✅ {nombre} trabaja como {empleados[nombre]} en la empresa\"\n",
    "    else:\n",
    "        return f\"❌ {nombre} no trabaja aquí.\"\n",
    "\n",
    "# Ejemplo de la función\n",
    "empleados = {\n",
    "    \"Pedro Rodriguez\": \"Abogado\",\n",
    "    \"Pablo Paez\": \"Programador\",\n",
    "    \"Fernando Rosales\": \"Contable\",\n",
    "    \"Juan Martin\": \"Contable\"\n",
    "}\n",
    "\n",
    "nombre_buscado = \"Juan Martin\"\n",
    "resultado = buscar_trabajador_y_puesto(nombre_buscado, empleados)\n",
    "print(resultado)"
   ]
  },
  {
   "cell_type": "markdown",
   "metadata": {},
   "source": [
    "#### 34. Crea una función lambda que sume elementos correspondientes de dos listas dadas."
   ]
  },
  {
   "cell_type": "code",
   "execution_count": null,
   "metadata": {},
   "outputs": [],
   "source": [
    "# Definimos la función donde cada posición de la listaA sume la listaB en la misma posición, hasta su longitud final\n",
    "def suma_listas(listaA, listaB):\n",
    "    return [listaA[i] + listaB[i] for i in range(len(listaA))]\n",
    "\n",
    "# Ejemplo de la función\n",
    "listaA = [0, 1, 2]\n",
    "listaB = [1, 3, 4]\n",
    "\n",
    "resultado = suma_listas(listaA, listaB)\n",
    "print(resultado)"
   ]
  },
  {
   "cell_type": "markdown",
   "metadata": {},
   "source": [
    "#### 35. Crea la clase Arbol , define un árbol genérico con un tronco y ramas como atributos. Los métodos disponibles son: crecer_tronco , nueva_rama , crecer_ramas , quitar_rama e info_arbol . El objetivo es implementar estos métodos para manipular la estructura del árbol.\n",
    "#### Código a seguir:\n",
    "1. Inicializar un árbol con un tronco de longitud 1 y una lista vacía de\n",
    "ramas.\n",
    "2. Implementar el método crecer_tronco para aumentar la longitud del tronco en una unidad.\n",
    "3. Implementar el método nueva_rama para agregar una nueva rama de longitud 1 a la lista de ramas.\n",
    "4. Implementar el método crecer_ramas para aumentar en una unidad la longitud de todas las ramas existentes.\n",
    "5. Implementar el método quitar_rama para eliminar una rama en una posición específica.\n",
    "6. Implementar el método info_arbol para devolver información sobre la longitud del tronco, el\n",
    "número de ramas y las longitudes de las mismas.\n",
    "\n",
    "#### Caso de uso:\n",
    "1. Crear un árbol.\n",
    "2. Hacer crecer el tronco del árbol una unidad.\n",
    "3. Añadir una nueva rama al árbol.\n",
    "4. Hacer crecer todas las ramas del árbol una unidad.\n",
    "5. Añadir dos nuevas ramas al árbol.\n",
    "6. Retirar la rama situada en la posición 2.\n",
    "7. Obtener información sobre el árbol."
   ]
  },
  {
   "cell_type": "code",
   "execution_count": null,
   "metadata": {},
   "outputs": [],
   "source": [
    "# Creamos la clase arbol y definimos las funciones\n",
    "class Arbol:\n",
    "# Inicializamos que el arbol tiene un tronco y no tiene ramas\n",
    "    def __init__(self):\n",
    "        self.tronco = 1\n",
    "        self.ramas = []\n",
    "# Esta función aumenta el tronco +1\n",
    "    def crecer_tronco(self):\n",
    "        self.tronco += 1\n",
    "# Esta función aumenta la rama con una longitud de 1\n",
    "    def nueva_rama(self):\n",
    "        self.ramas.append(1)\n",
    "# Aumenta la longitud de todas las ramas en 1\n",
    "    def crecer_ramas(self):\n",
    "        self.ramas = [rama + 1 for rama in self.ramas]\n",
    "# Elimina la rama en la posición especificada\n",
    "    def quitar_rama(self, posicion):\n",
    "        if 0 <= posicion < len(self.ramas):\n",
    "            self.ramas.pop(posicion)\n",
    "        else:\n",
    "            print(\"❌ Esta posición no existe, no se puede quitar la rama.\")\n",
    "# Información actual del arbol con las modificaciones\n",
    "    def info_arbol(self):\n",
    "        info = {\n",
    "            \"longitud_tronco\": self.tronco,\n",
    "            \"numero_ramas\": len(self.ramas),\n",
    "            \"longitudes_ramas\": self.ramas\n",
    "        }\n",
    "        return info\n",
    "\n",
    "# Ejemplo de uso\n",
    "# Paso 1\n",
    "arbol = Arbol()\n",
    "# Paso 2\n",
    "arbol.crecer_tronco()\n",
    "# Paso 3\n",
    "arbol.nueva_rama()\n",
    "# Paso 4\n",
    "arbol.crecer_ramas()\n",
    "# Paso 5\n",
    "arbol.nueva_rama()\n",
    "arbol.nueva_rama()\n",
    "# Paso 6\n",
    "arbol.quitar_rama(2)\n",
    "# Paso 7\n",
    "informacion = arbol.info_arbol()\n",
    "print(informacion)"
   ]
  },
  {
   "cell_type": "markdown",
   "metadata": {},
   "source": [
    "#### 36. Crea la clase UsuarioBanco ,representa a un usuario de un banco con su nombre, saldo y si tiene o no cuenta corriente. Proporciona métodos para realizar operaciones como retirar dinero, transferir dinero desde otro usuario y agregar dinero al saldo.\n",
    "#### Código a seguir:\n",
    "1. Inicializar un usuario con su nombre, saldo y si tiene o no cuenta\n",
    "corriente mediante True y False.\n",
    "2. Implementar el método retirar_dinero para retirar dinero del saldo del usuario. Lanzará un error en caso de no poder hacerse.\n",
    "3. Implementar el método transferir_dinero para realizar una transferencia desde otro usuario al usuario actual. Lanzará un error en caso de no poder hacerse.\n",
    "4. Implementar el método agregar_dinero para agregar dinero al saldo del usuario.\n",
    "\n",
    "#### Caso de uso:\n",
    "1. Crear dos usuarios: \"Alicia\" con saldo inicial de 100 y \"Bob\" con saldo inicial de 50, ambos con cuenta corriente.\n",
    "2. Agregar 20 unidades de saldo de \"Alicia\".\n",
    "3. Hacer una transferencia de 80 unidades desde \"Bob\" a \"Alicia\".\n",
    "4. Retirar 50 unidades de saldo a \"Alicia\"."
   ]
  },
  {
   "cell_type": "code",
   "execution_count": null,
   "metadata": {},
   "outputs": [],
   "source": [
    "# Creamos la clase y definimos las diferentes funciones\n",
    "class UsuarioBanco:\n",
    "    def __init__(self, nombre, saldo, cuenta_corriente):\n",
    "        self.nombre = nombre\n",
    "        self.saldo = saldo\n",
    "        self.cuenta_corriente = cuenta_corriente\n",
    "        \n",
    "# Definimos la función de retirar saldo\n",
    "    def retirar_dinero(self, cantidad):\n",
    "# En esta condición, definimos que si la cantidad a retirar es mayor que el saldo, no se puede realizar la retirada\n",
    "        if cantidad > self.saldo:\n",
    "            raise ValueError(f\"❌ No se puede retirar {cantidad} unidades: debido al saldo insuficiente.\")\n",
    "        self.saldo -= cantidad\n",
    "        print(f\"✅ {self.nombre} ha retirado {cantidad}. El saldo actual es: {self.saldo}\")\n",
    "\n",
    "# Definimos la función de transferencia\n",
    "    def transferir_dinero(self, otra_persona, cantidad):\n",
    "# En esta condición, definimos que si la cantidad a transferir es mayor que el saldo en la cuenta, no es posible realizar la transferencia\n",
    "        if cantidad > otra_persona.saldo:\n",
    "            raise ValueError(f\"❌ No se puede transferir {cantidad} desde {otra_persona.nombre}: debido al saldo insuficiente.\")\n",
    "        otra_persona.saldo -= cantidad\n",
    "        self.saldo += cantidad\n",
    "        print(f\"✅ {self.nombre} ha recibido una transferencia de {cantidad} desde {otra_persona.nombre}. El saldo actual es: {self.saldo}\")\n",
    "\n",
    "# Definimos la función agregar dinero, la cual añade dinero extra a la cantidad actual. Utilizamos self para distinguir atributos entre los parámetros\n",
    "    def agregar_dinero(self, cantidad):\n",
    "        self.saldo += cantidad\n",
    "        print(f\"✅ {self.nombre} ha agregado {cantidad} unidades. Saldo actual: {self.saldo}\")\n",
    "\n",
    "# Caso de uso:\n",
    "# Paso 1\n",
    "alicia = UsuarioBanco(\"Alicia\", 100, True)\n",
    "bob = UsuarioBanco(\"Bob\", 50, True)\n",
    "# Paso 2\n",
    "alicia.agregar_dinero(20)\n",
    "# Paso 3\n",
    "alicia.transferir_dinero(bob, 80)\n",
    "# Paso 4\n",
    "alicia.retirar_dinero(50)"
   ]
  },
  {
   "cell_type": "markdown",
   "metadata": {},
   "source": [
    "#### 37. Crea una función llamada procesar_texto que procesa un texto según la opción especificada: contar_palabras , reemplazar_palabras , eliminar_palabra. Estas opciones son otras funciones que tenemos que definir primero y llamar dentro de la función procesar_texto.\n",
    "#### Código a seguir:\n",
    "1. Crear una función contar_palabras para contar el número de veces que aparece cada palabra en el texto. Tiene que devolver un diccionario.\n",
    "2. Crear una función reemplazar_palabras para remplazar una palabra_original del texto por una palabra_nueva . Tiene que devolver el texto con el remplazo de palabras.\n",
    "3. Crear una función eliminar_palabra para eliminar una palabra del texto. Tiene que devolver el texto con la palabra eliminada.\n",
    "4. Crear la función procesar_texto que tome un texto, una opción(entre \"contar\", \"reemplazar\", \"eliminar\") y un número de argumentos variable según la opción indicada.\n",
    "#### Caso de uso:\n",
    "Comprueba el funcionamiento completo de la función procesar_texto"
   ]
  },
  {
   "cell_type": "code",
   "execution_count": null,
   "metadata": {},
   "outputs": [],
   "source": [
    "# Definimos la función contar palabras, que se encarga de contar el número de veces que aparece cada palabra\n",
    "def contar_palabras(texto):\n",
    "    palabras = texto.split()\n",
    "    contador = {}\n",
    "    for palabra in palabras:\n",
    "# Definimos la condición de que si se repite la palabra se suma a contador (nuestro diccionario vacío)\n",
    "        if palabra in contador:\n",
    "            contador[palabra] += 1\n",
    "        else:\n",
    "            contador[palabra] = 1\n",
    "    return contador\n",
    "# Definimos esta función para reemplazar la palabra original por otra nueva\n",
    "def reemplazar_palabras(texto, palabra, palabra_nueva):\n",
    "    return texto.replace(palabra, palabra_nueva)\n",
    "# Definimos esta función para eliminar una palabra del texto\n",
    "def eliminar_palabra(texto, palabra):\n",
    "    return ' '.join([palabra for palabra in texto.split() if palabra != palabra])\n",
    "# Definimos la función procesar_texto que almacena las otras tres funciones dentro. En caso de elegir una función concreta, se ejecuta cumpliendo su objetivo\n",
    "def procesar_texto(texto, opcion, *args):\n",
    "    if opcion == \"contar\":\n",
    "        return contar_palabras(texto)\n",
    "# En esta condición, definimos que mínimo debe haber 2 palabras o más para poder reemplazar una por la otra\n",
    "    elif opcion == \"reemplazar\":\n",
    "        if len(args) != 2:\n",
    "            raise ValueError(\"❌ Es necesario tener dos palabras para reemplazar una por otra.\")\n",
    "        palabra_original, palabra_nueva = args\n",
    "        return reemplazar_palabras(texto, palabra_original, palabra_nueva)\n",
    "# En esta condición, definimos que mínimo debe haber una palabra para poder eliminarla\n",
    "    elif opcion == \"eliminar\":\n",
    "        if len(args) != 1:\n",
    "            raise ValueError(\"❌ Debe existir mínimo una palabra para poder eliminar.\")\n",
    "        palabra = args[0]\n",
    "        return eliminar_palabra(texto, palabra)\n",
    "    else:\n",
    "        raise ValueError(\"❌ La opción no es válida. Selecciona una entre: contar, reemplazar y eliminar\")\n",
    "\n",
    "# Ejemplo de la función\n",
    "texto = \"en este fragmento hay que contar las veces que se repite cada palabra en este fragmento\"\n",
    "print(procesar_texto(texto, \"contar\"))"
   ]
  },
  {
   "cell_type": "markdown",
   "metadata": {},
   "source": [
    "#### 38. Genera un programa que nos diga si es de noche, de día o tarde según la hora proporcionada por el usuario."
   ]
  },
  {
   "cell_type": "code",
   "execution_count": null,
   "metadata": {},
   "outputs": [],
   "source": [
    "# Definimos la función con las horas del día. El segundo elif nos permite elegir la noche, con las horas sobrantes respecto las dos primeras condiciones dadas\n",
    "def momento_del_dia(hora):\n",
    "    if 7 <= hora < 14:\n",
    "        return \"☀️ Actualmente es de Día\"\n",
    "    elif 14 <= hora < 21:\n",
    "        return \"🌄 Actualmente es de Tarde\"\n",
    "    elif (21 <= hora < 24) or (0 <= hora < 7):\n",
    "        return \"🌚 Actualmente es de Noche\"\n",
    "    else:\n",
    "        return \"❌ No existe esa hora\"\n",
    "\n",
    "# Ejemplo de la función\n",
    "hora_elegida = 8\n",
    "resultado = momento_del_dia(hora_elegida)\n",
    "print(resultado)"
   ]
  },
  {
   "cell_type": "markdown",
   "metadata": {},
   "source": [
    "#### 39. Escribe un programa que determine qué calificación en texto tiene un alumno en base a su calificación numérica. Las reglas de calificación son:\n",
    "- 0 - 69 insuficiente\n",
    "- 70 - 79 bien\n",
    "- 80 - 89 muy bien\n",
    "- 90 - 100 excelente"
   ]
  },
  {
   "cell_type": "code",
   "execution_count": null,
   "metadata": {},
   "outputs": [],
   "source": [
    "# Definimos la función con las calificaciones obtenidas\n",
    "def calificacion_final(calificacion):\n",
    "    if 0 <= calificacion <= 69:\n",
    "        return \"Insuficiente\"\n",
    "    elif 70 <= calificacion <= 79:\n",
    "        return \"Bien\"\n",
    "    elif 80 <= calificacion <= 89:\n",
    "        return \"Muy bien\"\n",
    "    elif 90 <= calificacion <= 100:\n",
    "        return \"Excelente\"\n",
    "    else:\n",
    "        return \"❌ No existe esa calificación\"\n",
    "\n",
    "# Ejemplo de la función\n",
    "calificacion_alumno = 66\n",
    "resultado = calificacion_final(calificacion_alumno)\n",
    "print(f\"El alumno ha obtenido {calificacion_alumno} puntos, que equivale a un {resultado}\")"
   ]
  },
  {
   "cell_type": "markdown",
   "metadata": {},
   "source": [
    "#### 40. Escribe una función que tome dos parámetros: figura (una cadena que puede ser \"rectangulo\", \"circulo\" o \"triangulo\" ) y datos (una tupla con los datos necesarios para calcular el área de la figura)."
   ]
  },
  {
   "cell_type": "code",
   "execution_count": null,
   "metadata": {},
   "outputs": [],
   "source": [
    "# Definimos la función con las fórmulas correctas del área de cada figura\n",
    "def calcular_area_figura(figura, datos):\n",
    "    if figura == \"rectangulo\":\n",
    "        base, altura = datos\n",
    "        return base * altura\n",
    "    elif figura == \"triangulo\":\n",
    "        base, altura = datos\n",
    "        return (base * altura) / 2\n",
    "    elif figura == \"circulo\":\n",
    "        radio, = datos\n",
    "        pi = 3.14\n",
    "        return pi * radio ** 2\n",
    "    else:\n",
    "        return \"❌ La figura seleccionada no puede ser calculada\"\n",
    "\n",
    "# Ejemplo de la función\n",
    "figura_seleccionada = \"rectangulo\"\n",
    "resultado = calcular_area_figura(\"rectangulo\", (10,20))\n",
    "print(f\"Has elegido {figura_seleccionada} y su area es {resultado}\")"
   ]
  },
  {
   "cell_type": "markdown",
   "metadata": {},
   "source": [
    "#### 41. En este ejercicio, se te pedirá que escribas un programa en Python que utilice condicionales para determinar el monto final de una compra en una tienda en línea, después de aplicar un descuento. El programa debe hacer lo siguiente:\n",
    "1. Solicita al usuario que ingrese el precio original de un artículo.\n",
    "2. Pregunta al usuario si tiene un cupón de descuento (respuesta sí o\n",
    "no).\n",
    "3. Si el usuario responde que sí, solicita que ingrese el valor del cupón\n",
    "de descuento.\n",
    "4. Aplica el descuento al precio original del artículo, siempre y cuando el\n",
    "valor del cupón sea válido (es decir, mayor a cero). Por ejemplo,\n",
    "descuento de 15€.\n",
    "5. Muestra el precio final de la compra, teniendo en cuenta el descuento\n",
    "aplicado o sin él.\n",
    "6. Recuerda utilizar estructuras de control de flujo como if, elif y else\n",
    "para llevar a cabo estas acciones en tu programa de Python."
   ]
  },
  {
   "cell_type": "code",
   "execution_count": null,
   "metadata": {},
   "outputs": [],
   "source": [
    "# Definimos la función y pedimos al usuario que ingrese el precio original\n",
    "def calcular_precio():\n",
    "    precio_original = float(input(\"Ingresa el precio original del artículo: €\"))\n",
    "# Definimos si el usuario tiene o no cupón de descuento. Con strip eliminamos espacios en blanco y lower todo a minúsculas\n",
    "    cupon = input(\"¿Tienes un cupón de descuento? (sí/no): \").strip().lower()\n",
    "# Inicializar el valor del descuento\n",
    "    valor_descuento = 0\n",
    "# Condición si el usuario tiene cupón\n",
    "    if cupon == \"sí\":\n",
    "        valor_cupon = float(input(\"Ingresa el valor del cupón de descuento (€): \"))\n",
    "# El cupón es válido si es mayor de 0\n",
    "        if valor_cupon > 0:\n",
    "            valor_descuento = valor_cupon\n",
    "        elif valor_cupon <= 0:\n",
    "            print(\"❌ Este cupón no es válido\")\n",
    "# En caso de que no haya cupón\n",
    "    elif cupon == \"no\":\n",
    "        print(\"❌ No hay cupón, el precio original se mantiene sin descuentos\")\n",
    "    else:\n",
    "        print(\"❌ Respuesta no válida. Por favor, ingresa 'sí' o 'no'.\")\n",
    "# Precio final descontando el descuento del cupón\n",
    "    precio_final = precio_original - valor_descuento\n",
    "    \n",
    "# Ejemplo de la función\n",
    "    print(f\"El precio final de la compra es: €{precio_final}\")\n",
    "calcular_precio()"
   ]
  }
 ],
 "metadata": {
  "language_info": {
   "name": "python"
  },
  "orig_nbformat": 4
 },
 "nbformat": 4,
 "nbformat_minor": 2
}
