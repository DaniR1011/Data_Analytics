{
 "cells": [
  {
   "cell_type": "markdown",
   "metadata": {},
   "source": [
    "<h1>Ejercicios Katas Python</h1>"
   ]
  },
  {
   "cell_type": "markdown",
   "metadata": {},
   "source": [
    "#### 1. Escribe una función que reciba una cadena de texto como parámetro y devuelva un diccionario con las frecuencias de cada letra en la cadena. Los espacios no deben ser considerados."
   ]
  },
  {
   "cell_type": "code",
   "execution_count": 10,
   "metadata": {},
   "outputs": [
    {
     "name": "stdout",
     "output_type": "stream",
     "text": [
      "{'e': 4, 'j': 1, 'm': 1, 'p': 2, 'l': 1, 'o': 1, 'r': 1, 't': 1, 'i': 1, 'd': 1, 'a': 1, 's': 1}\n"
     ]
    }
   ],
   "source": [
    "def frecuencia_letras(cadena):\n",
    "# Generamos un diccionario vacío donde añadiremos la frecuencia de las letras\n",
    "    repetidas = {}\n",
    "# Con el .replace eliminamos los espacios que pueden existir entre las letras\n",
    "    for letra in cadena.replace(\" \", \"\"):\n",
    "        if letra in repetidas:\n",
    "            repetidas[letra] += 1\n",
    "        else:\n",
    "            repetidas[letra] = 1\n",
    "    return repetidas\n",
    "\n",
    "# Ejemplo de la función\n",
    "cadena = \"ejemplo repetidas\"\n",
    "repetidas = frecuencia_letras(cadena)\n",
    "print(repetidas)"
   ]
  },
  {
   "cell_type": "markdown",
   "metadata": {},
   "source": [
    "#### 2. Dada una lista de números, obtén una nueva lista con el doble de cada valor. Usa la función map()"
   ]
  },
  {
   "cell_type": "code",
   "execution_count": 12,
   "metadata": {},
   "outputs": [
    {
     "name": "stdout",
     "output_type": "stream",
     "text": [
      "[10, 20, 30, 40, 50]\n"
     ]
    }
   ],
   "source": [
    "# Generamos la función que haga el doble del número elegido\n",
    "def valor_doble(numero):\n",
    "    return numero * 2\n",
    "\n",
    "# Generamos el mapeo de los valores en forma de lista\n",
    "def mapeo_valores(numeros):\n",
    "    return list(map(valor_doble, numeros))\n",
    "\n",
    "# Ejemplo de la función\n",
    "numeros = [5, 10, 15, 20, 25]\n",
    "nueva_lista = mapeo_valores(numeros)\n",
    "print(nueva_lista)"
   ]
  },
  {
   "cell_type": "markdown",
   "metadata": {},
   "source": [
    "#### 3. Escribe una función que tome una lista de palabras y una palabra objetivo como parámetros. La función debe devolver una lista con todas las palabras de la lista original que contengan la palabra objetivo."
   ]
  },
  {
   "cell_type": "code",
   "execution_count": 13,
   "metadata": {},
   "outputs": [
    {
     "name": "stdout",
     "output_type": "stream",
     "text": [
      "['jardin', 'jardinero', 'jardineria']\n"
     ]
    }
   ],
   "source": [
    "# Definimos la función donde busque la palabra en la lista, con la condición de que se encuentre en la palabra objetivo\n",
    "def resultado_palabras(palabras, palabra_objetivo):\n",
    "    return [palabra for palabra in palabras if palabra_objetivo in palabra]\n",
    "\n",
    "# Ejemplo de la función\n",
    "palabras = [\"jardin\", \"jardinero\", \"jardineria\", \"hoja\", \"arbol\", \"jarron\"]\n",
    "objetivo = \"jard\"\n",
    "resultado = resultado_palabras(palabras, objetivo)\n",
    "print(resultado)"
   ]
  },
  {
   "cell_type": "markdown",
   "metadata": {},
   "source": [
    "#### 4. Genera una función que calcule la diferencia entre los valores de dos listas. Usa la función map()"
   ]
  },
  {
   "cell_type": "code",
   "execution_count": 15,
   "metadata": {},
   "outputs": [
    {
     "name": "stdout",
     "output_type": "stream",
     "text": [
      "[1, 1, 1, 1, 0, -3]\n"
     ]
    }
   ],
   "source": [
    "# Definimos la función con map, donde genera una lista que es la resta entre el primer y el segundo valor. Utilizamos lambda porque nos permite darle condiciones de los dos parámetros\n",
    "def calcular_diferencia(lista1, lista2):\n",
    "    return list(map(lambda x, y: x - y, lista1, lista2))\n",
    "\n",
    "# Ejemplo de la función\n",
    "lista1 = [1, 2, 3, 4, 5, 6]\n",
    "lista2 = [0, 1, 2, 3, 5, 9]\n",
    "diferencia = calcular_diferencia(lista1, lista2)\n",
    "print(diferencia)"
   ]
  },
  {
   "cell_type": "markdown",
   "metadata": {},
   "source": [
    "#### 5. Escribe una función que tome una lista de números como parámetro y un valor opcional nota_aprobado, que por defecto es 5. La función debe calcular la media de los números en la lista y determinar si la media es mayor o igual que nota aprobado. Si es así, el estado será \"aprobado\", de lo contrario, será \"suspenso\". La función debe devolver una tupla que contenga la media y el estado."
   ]
  },
  {
   "cell_type": "code",
   "execution_count": 22,
   "metadata": {},
   "outputs": [
    {
     "name": "stdout",
     "output_type": "stream",
     "text": [
      "(5.2, 'aprobado')\n"
     ]
    }
   ],
   "source": [
    "# Definimos la función donde realiza la suma y divide entre la longitud de las notas. Else 0 se utiliza por si la lista está vacía y para que no genere error. Luego un condicional donde si no se supera la media que es 5, devuelva suspenso.\n",
    "def calcular_nota(notas, aprobado = 5):\n",
    "    media = sum(notas) / len(notas) if notas else 0\n",
    "    estado = \"aprobado\" if media >= aprobado else \"suspenso\"\n",
    "    return (media, estado)\n",
    "\n",
    "# Ejemplo de la función\n",
    "notas = [3, 10, 3, 4, 6]\n",
    "resultado = calcular_nota(notas)\n",
    "print(resultado)"
   ]
  },
  {
   "cell_type": "markdown",
   "metadata": {},
   "source": [
    "#### 6. Escribe una función que calcule el factorial de un número de manera recursiva."
   ]
  },
  {
   "cell_type": "code",
   "execution_count": 24,
   "metadata": {},
   "outputs": [
    {
     "name": "stdout",
     "output_type": "stream",
     "text": [
      "40320\n"
     ]
    }
   ],
   "source": [
    "# Definimos la función en la que si el número es 0 o 1, su factorial es 1. Por el contrario, va a multiplicar el número elegido por todos los números -1 del elegido. Ejemplo x = 3 -> (3*2*1 = 6)\n",
    "def calculo_factorial(x):\n",
    "    if x == 0 or x == 1:\n",
    "        return 1\n",
    "    else:\n",
    "        return x * calculo_factorial(x - 1)\n",
    "\n",
    "# Ejemplo de la función\n",
    "numero = 8\n",
    "resultado = calculo_factorial(numero)\n",
    "print(resultado)"
   ]
  },
  {
   "cell_type": "markdown",
   "metadata": {},
   "source": [
    "#### 7. Genera una función que convierta una lista de tuplas a una lista de strings. Usa la función map()"
   ]
  },
  {
   "cell_type": "code",
   "execution_count": 25,
   "metadata": {},
   "outputs": [
    {
     "name": "stdout",
     "output_type": "stream",
     "text": [
      "['(0, -2)', '(8, 4)', '(9, 22)']\n"
     ]
    }
   ],
   "source": [
    "# Definimos una función que convierta las tuplas en string, a través de la función str. Siempre que utilicemos map, es necesario concretar que queremos una lista, porque map solo itera sobre los elementos. Lambda es fundamental, porque genera una cadena de las tuplas que utilicemos.\n",
    "def convertir_string(tuplas):\n",
    "    return list(map(lambda tupla: str(tupla), tuplas))\n",
    "\n",
    "# Ejemplo de uso\n",
    "ejemplo_tuplas = [(0, -2), (8, 4), (9, 22)]\n",
    "resultado = convertir_string(ejemplo_tuplas)\n",
    "print(resultado)"
   ]
  },
  {
   "cell_type": "markdown",
   "metadata": {},
   "source": [
    "#### 8. Escribe un programa que pida al usuario dos números e intente dividirlos. Si el usuario ingresa un valor no numérico o intenta dividir por cero, maneja esas excepciones de manera adecuada. Asegúrate de mostrar un mensaje indicando si la división fue exitosa o no."
   ]
  },
  {
   "cell_type": "code",
   "execution_count": 41,
   "metadata": {},
   "outputs": [
    {
     "name": "stdout",
     "output_type": "stream",
     "text": [
      "La división se realizó correctamente, el resultado es: 2.5\n",
      "None\n"
     ]
    }
   ],
   "source": [
    "# Definimos la función para que divida num1 entre num2. Después generamos las condiciones\n",
    "def dividir_numeros(num1, num2):\n",
    "    try:\n",
    "        resultado = num1 / num2\n",
    "# Utilizamos el ZeroDivisionError si el usuario añade un 0, debido a que la división causaría error\n",
    "    except ZeroDivisionError:\n",
    "        print(\"❌ No se puede dividir por 0\")\n",
    "        return\n",
    "# Utilizamos el ValueError si el usuario ingresa valores no numéricos\n",
    "    except ValueError:\n",
    "        print(\"❌ Ingresa valores numéricos\")\n",
    "        return\n",
    "# Si los dos casos anteriores no se cumplen, significa que la división se realizó correctamente\n",
    "    else:\n",
    "        print(f\"La división se realizó correctamente, el resultado es: {resultado}\")\n",
    "\n",
    "# Ejemplo de uso\n",
    "print(dividir_numeros(10,4))"
   ]
  },
  {
   "cell_type": "markdown",
   "metadata": {},
   "source": [
    "#### 9. Escribe una función que tome una lista de nombres de mascotas como parámetro y devuelva una nueva lista excluyendo ciertas mascotas prohibidas en España. La lista de mascotas a excluir es [\"Mapache\", \"Tigre\", \"Serpiente Pitón\", \"Cocodrilo\", \"Oso\"]. Usa la función filter()"
   ]
  },
  {
   "cell_type": "code",
   "execution_count": null,
   "metadata": {},
   "outputs": [],
   "source": [
    "def filtrar_mascotas(mascotas):\n",
    "# Definimos las mascotas exactas prohibidas\n",
    "    mascotas_prohibidas = [\"Mapache\", \"Tigre\", \"Serpiente Pitón\", \"Cocodrilo\", \"Oso\"]\n",
    "# Definimos las mascotas permitidas, y utilizamos un filter donde no aparezcan las mascotas prohibidas. Volvemos a utilizar lambda para generar dos condiciones sobre mascotas.\n",
    "    mascotas_permitidas = list(filter(lambda mascota: mascota not in mascotas_prohibidas, mascotas))\n",
    "    return mascotas_permitidas\n",
    "\n",
    "# Ejemplo de la función\n",
    "mascotas = [\"Perro\", \"Gato\", \"Mapache\", \"Tigre\", \"Conejo\", \"Serpiente Pitón\"]\n",
    "resultado = filtrar_mascotas(mascotas)\n",
    "print(resultado)"
   ]
  },
  {
   "cell_type": "markdown",
   "metadata": {},
   "source": [
    "#### 10. Escribe una función que reciba una lista de números y calcule su promedio. Si la lista está vacía, lanza una excepción personalizada y maneja el error adecuadamente."
   ]
  },
  {
   "cell_type": "markdown",
   "metadata": {},
   "source": [
    "#### 11. Escribe un programa que pida al usuario que introduzca su edad. Si el usuario ingresa un valor no numérico o un valor fuera del rango esperado (por ejemplo, menor que 0 o mayor que 120), maneja las excepciones adecuadamente."
   ]
  },
  {
   "cell_type": "markdown",
   "metadata": {},
   "source": [
    "#### 12. Genera una función que al recibir una frase devuelva una lista con la longitud de cada palabra. Usa la función map()"
   ]
  },
  {
   "cell_type": "markdown",
   "metadata": {},
   "source": [
    "#### 13. Genera una función la cual, para un conjunto de caracteres, devuelva una lista de tuplas con cada letra en mayúsculas y minúsculas. Las letras no pueden estar repetidas .Usa la función map()"
   ]
  },
  {
   "cell_type": "markdown",
   "metadata": {},
   "source": [
    "#### 14. Crea una función que retorne las palabras de una lista de palabras que comience con una letra en especifico. Usa la función filter()"
   ]
  },
  {
   "cell_type": "markdown",
   "metadata": {},
   "source": [
    "#### 15. Crea una función lambda que sume 3 a cada número de una lista dada."
   ]
  },
  {
   "cell_type": "markdown",
   "metadata": {},
   "source": [
    "#### 16. Escribe una función que tome una cadena de texto y un número entero n como parámetros y devuelva una lista de todas las palabras que sean más largas que n. Usa la función filter()"
   ]
  },
  {
   "cell_type": "markdown",
   "metadata": {},
   "source": [
    "#### 17. Crea una función que tome una lista de dígitos y devuelva el número correspondiente. Por ejemplo, [5,7,2] corresponde al número quinientos setenta y dos (572). Usa la función reduce()"
   ]
  },
  {
   "cell_type": "markdown",
   "metadata": {},
   "source": [
    "#### 18. Escribe un programa en Python que cree una lista de diccionarios que contenga información de estudiantes (nombre, edad, calificación) y use la función filter para extraer a los estudiantes con una calificación mayor o igual a 90.Usa la función filter()"
   ]
  },
  {
   "cell_type": "markdown",
   "metadata": {},
   "source": [
    "#### 19. Crea una función lambda que filtre los números impares de una lista dada."
   ]
  },
  {
   "cell_type": "markdown",
   "metadata": {},
   "source": [
    "#### 20. Para una lista con elementos tipo integer y string obtén una nueva lista sólo con los valores int. Usa la función filter()"
   ]
  },
  {
   "cell_type": "markdown",
   "metadata": {},
   "source": [
    "#### 21. Escribe un programa en Python que cree una lista de diccionarios que contenga información de estudiantes (nombre, edad, calificación) y use la función filter para extraer a los estudiantes con una calificación mayor o igual a 90.Usa la función filter()"
   ]
  },
  {
   "cell_type": "markdown",
   "metadata": {},
   "source": [
    "#### 22. Crea una función que calcule el cubo de un número dado mediante una función lambda"
   ]
  },
  {
   "cell_type": "markdown",
   "metadata": {},
   "source": [
    "#### 23. Dada una lista numérica, obtén el producto total de los valores de dicha lista. Usa la función reduce()."
   ]
  },
  {
   "cell_type": "markdown",
   "metadata": {},
   "source": [
    "#### 24. Concatena una lista de palabras.Usa la función reduce()."
   ]
  },
  {
   "cell_type": "markdown",
   "metadata": {},
   "source": [
    "#### 25. Calcula la diferencia total en los valores de una lista. Usa la función reduce()."
   ]
  },
  {
   "cell_type": "markdown",
   "metadata": {},
   "source": [
    "#### 26. Crea una función que cuente el número de caracteres en una cadena de texto dada."
   ]
  },
  {
   "cell_type": "markdown",
   "metadata": {},
   "source": [
    "#### 27. Crea una función lambda que calcule el resto de la división entre dos números dados."
   ]
  },
  {
   "cell_type": "markdown",
   "metadata": {},
   "source": [
    "#### 28. Crea una función que calcule el promedio de una lista de números."
   ]
  },
  {
   "cell_type": "markdown",
   "metadata": {},
   "source": [
    "#### 29. Crea una función que busque y devuelva el primer elemento duplicado en una lista dada."
   ]
  },
  {
   "cell_type": "markdown",
   "metadata": {},
   "source": [
    "#### 30. Crea una función que convierta una variable en una cadena de texto y enmascare todos los caracteres con el carácter '#', excepto los últimos cuatro."
   ]
  },
  {
   "cell_type": "markdown",
   "metadata": {},
   "source": [
    "#### 31. Crea una función que determine si dos palabras son anagramas, es decir, si están formadas por las mismas letras pero en diferente orden."
   ]
  },
  {
   "cell_type": "markdown",
   "metadata": {},
   "source": [
    "#### 32. Crea una función que solicite al usuario ingresar una lista de nombres y luego solicite un nombre para buscar en esa lista. Si el nombre está en la lista, se imprime un mensaje indicando que fue encontrado, de lo contrario, se lanza una excepción."
   ]
  },
  {
   "cell_type": "markdown",
   "metadata": {},
   "source": [
    "#### 33. Crea una función que tome un nombre completo y una lista de empleados, busque el nombre completo en la lista y devuelve el puesto del empleado si está en la lista, de lo contrario, devuelve un mensaje indicando que la persona no trabaja aquí."
   ]
  },
  {
   "cell_type": "markdown",
   "metadata": {},
   "source": [
    "#### 34. Crea una función lambda que sume elementos correspondientes de dos listas dadas."
   ]
  },
  {
   "cell_type": "markdown",
   "metadata": {},
   "source": [
    "#### 35. Crea la clase Arbol , define un árbol genérico con un tronco y ramas como atributos. Los métodos disponibles son: crecer_tronco , nueva_rama , crecer_ramas , quitar_rama e info_arbol . El objetivo es implementar estos métodos para manipular la estructura del árbol.\n",
    "#### Código a seguir:\n",
    "1. Inicializar un árbol con un tronco de longitud 1 y una lista vacía de\n",
    "ramas.\n",
    "2. Implementar el método crecer_tronco para aumentar la longitud del tronco en una unidad.\n",
    "3. Implementar el método nueva_rama para agregar una nueva rama de longitud 1 a la lista de ramas.\n",
    "4. Implementar el método crecer_ramas para aumentar en una unidad la longitud de todas las ramas existentes.\n",
    "5. Implementar el método quitar_rama para eliminar una rama en una posición específica.\n",
    "6. Implementar el método info_arbol para devolver información sobre la longitud del tronco, el\n",
    "número de ramas y las longitudes de las mismas.\n",
    "\n",
    "#### Caso de uso:\n",
    "1. Crear un árbol.\n",
    "2. Hacer crecer el tronco del árbol una unidad.\n",
    "3. Añadir una nueva rama al árbol.\n",
    "4. Hacer crecer todas las ramas del árbol una unidad.\n",
    "5. Añadir dos nuevas ramas al árbol.\n",
    "6. Retirar la rama situada en la posición 2.\n",
    "7. Obtener información sobre el árbol."
   ]
  },
  {
   "cell_type": "markdown",
   "metadata": {},
   "source": [
    "#### 36. Crea la clase UsuarioBanco ,representa a un usuario de un banco con su\n",
    "nombre, saldo y si tiene o no cuenta corriente. Proporciona métodos\n",
    "para realizar operaciones como retirar dinero, transferir dinero desde\n",
    "otro usuario y agregar dinero al saldo.\n",
    "#### Código a seguir:\n",
    "1. Inicializar un usuario con su nombre, saldo y si tiene o no cuenta\n",
    "corriente mediante True y False.\n",
    "2. Implementar el método retirar_dinero para retirar dinero del saldo del usuario. Lanzará un error en caso de no poder hacerse.\n",
    "3. Implementar el método transferir_dinero para realizar una transferencia desde otro usuario al usuario actual. Lanzará un error en caso de no poder hacerse.\n",
    "4. Implementar el método agregar_dinero para agregar dinero al saldo del usuario.\n",
    "\n",
    "#### Caso de uso:\n",
    "1. Crear dos usuarios: \"Alicia\" con saldo inicial de 100 y \"Bob\" con saldo inicial de 50, ambos con cuenta corriente.\n",
    "2. Agregar 20 unidades de saldo de \"Alicia\".\n",
    "3. Hacer una transferencia de 80 unidades desde \"Bob\" a \"Alicia\".\n",
    "4. Retirar 50 unidades de saldo a \"Alicia\"."
   ]
  },
  {
   "cell_type": "markdown",
   "metadata": {},
   "source": [
    "#### 37. Crea una función llamada procesar_texto que procesa un texto según la opción especificada: contar_palabras , reemplazar_palabras , eliminar_palabra. Estas opciones son otras funciones que tenemos que definir primero y llamar dentro de la función procesar_texto.\n",
    "#### Código a seguir:\n",
    "1. Crear una función contar_palabras para contar el número de veces que aparece cada palabra en el texto. Tiene que devolver un diccionario.\n",
    "2. Crear una función reemplazar_palabras para remplazar una palabra_original del texto por una palabra_nueva . Tiene que devolver el texto con el remplazo de palabras.\n",
    "3. Crear una función eliminar_palabra para eliminar una palabra del texto. Tiene que devolver el texto con la palabra eliminada.\n",
    "4. Crear la función procesar_texto que tome un texto, una opción(entre \"contar\", \"reemplazar\", \"eliminar\") y un número de argumentos variable según la opción indicada.\n",
    "#### Caso de uso:\n",
    "Comprueba el funcionamiento completo de la función procesar_texto"
   ]
  },
  {
   "cell_type": "markdown",
   "metadata": {},
   "source": [
    "#### 38. Genera un programa que nos diga si es de noche, de día o tarde según la hora proporcionada por el usuario."
   ]
  },
  {
   "cell_type": "markdown",
   "metadata": {},
   "source": [
    "#### 39. Escribe un programa que determine qué calificación en texto tiene un alumno en base a su calificación numérica. Las reglas de calificación son:\n",
    "- 0 - 69 insuficiente\n",
    "- 70 - 79 bien\n",
    "- 80 - 89 muy bien\n",
    "- 90 - 100 excelente"
   ]
  },
  {
   "cell_type": "markdown",
   "metadata": {},
   "source": [
    "#### 40. Escribe una función que tome dos parámetros: figura (una cadena que puede ser \"rectangulo\", \"circulo\" o \"triangulo\" ) y datos (una tupla con los datos necesarios para calcular el área de la figura)."
   ]
  },
  {
   "cell_type": "markdown",
   "metadata": {},
   "source": [
    "#### 41. En este ejercicio, se te pedirá que escribas un programa en Python que utilice condicionales para determinar el monto final de una compra en una tienda en línea, después de aplicar un descuento. El programa debe hacer lo siguiente:\n",
    "1. Solicita al usuario que ingrese el precio original de un artículo.\n",
    "2. Pregunta al usuario si tiene un cupón de descuento (respuesta sí o\n",
    "no).\n",
    "3. Si el usuario responde que sí, solicita que ingrese el valor del cupón\n",
    "de descuento.\n",
    "4. Aplica el descuento al precio original del artículo, siempre y cuando el\n",
    "valor del cupón sea válido (es decir, mayor a cero). Por ejemplo,\n",
    "descuento de 15€.\n",
    "5. Muestra el precio final de la compra, teniendo en cuenta el descuento\n",
    "aplicado o sin él.\n",
    "6. Recuerda utilizar estructuras de control de flujo como if, elif y else\n",
    "para llevar a cabo estas acciones en tu programa de Python."
   ]
  }
 ],
 "metadata": {
  "kernelspec": {
   "display_name": "Python 3.12.0 64-bit",
   "language": "python",
   "name": "python3"
  },
  "language_info": {
   "codemirror_mode": {
    "name": "ipython",
    "version": 3
   },
   "file_extension": ".py",
   "mimetype": "text/x-python",
   "name": "python",
   "nbconvert_exporter": "python",
   "pygments_lexer": "ipython3",
   "version": "3.12.0"
  },
  "orig_nbformat": 4,
  "vscode": {
   "interpreter": {
    "hash": "aee8b7b246df8f9039afb4144a1f6fd8d2ca17a180786b69acc140d282b71a49"
   }
  }
 },
 "nbformat": 4,
 "nbformat_minor": 2
}
