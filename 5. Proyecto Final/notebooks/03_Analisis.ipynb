{
 "cells": [
  {
   "cell_type": "markdown",
   "metadata": {},
   "source": [
    "# Fase 3: Análisis descriptivo de los datos\n",
    "\n",
    "El análisis descriptivo tiene como objetivo proporcionar una comprensión profunda de la estructura y los patrones de los datos antes de aplicar cualquier modelo predictivo o transformaciones más complejas. A través de este proceso, no solo identificamos patrones, sino también problemas de calidad de los datos que deben ser abordados."
   ]
  },
  {
   "cell_type": "markdown",
   "metadata": {},
   "source": [
    "#### 1. Importamos el archivo csv y procedemos a realizar el análisis de los datos"
   ]
  },
  {
   "cell_type": "code",
   "execution_count": 88,
   "metadata": {},
   "outputs": [],
   "source": [
    "import pandas as pd\n",
    "import numpy as np\n",
    "df = pd.read_csv('../data/transform_data/data_clean.csv', low_memory=False)"
   ]
  },
  {
   "cell_type": "markdown",
   "metadata": {},
   "source": [
    "#### **2. Cálculo de Estadísticas Descriptivas Básicas**\n",
    "\n",
    "Primero, es importante obtener las estadísticas descriptivas de las variables continuas. Esto nos permitirá obtener un panorama general sobre las medias, medianas, desviaciones estándar y valores atípicos. Este cálculo se debe realizar sobre las columnas numéricas. En nuestro caso, lo realizaremos para las columnas: squad_size, national_team_players, stadium_seats, . Para ello, usamos el método .describe() de Pandas:"
   ]
  },
  {
   "cell_type": "code",
   "execution_count": 89,
   "metadata": {},
   "outputs": [
    {
     "data": {
      "text/html": [
       "<div>\n",
       "<style scoped>\n",
       "    .dataframe tbody tr th:only-of-type {\n",
       "        vertical-align: middle;\n",
       "    }\n",
       "\n",
       "    .dataframe tbody tr th {\n",
       "        vertical-align: top;\n",
       "    }\n",
       "\n",
       "    .dataframe thead th {\n",
       "        text-align: right;\n",
       "    }\n",
       "</style>\n",
       "<table border=\"1\" class=\"dataframe\">\n",
       "  <thead>\n",
       "    <tr style=\"text-align: right;\">\n",
       "      <th></th>\n",
       "      <th>squad_size</th>\n",
       "      <th>national_team_players</th>\n",
       "      <th>stadium_seats</th>\n",
       "    </tr>\n",
       "  </thead>\n",
       "  <tbody>\n",
       "    <tr>\n",
       "      <th>count</th>\n",
       "      <td>120099.000000</td>\n",
       "      <td>120099.000000</td>\n",
       "      <td>120099.000000</td>\n",
       "    </tr>\n",
       "    <tr>\n",
       "      <th>mean</th>\n",
       "      <td>26.042740</td>\n",
       "      <td>6.955936</td>\n",
       "      <td>30278.971215</td>\n",
       "    </tr>\n",
       "    <tr>\n",
       "      <th>std</th>\n",
       "      <td>6.477525</td>\n",
       "      <td>5.528892</td>\n",
       "      <td>19318.398260</td>\n",
       "    </tr>\n",
       "    <tr>\n",
       "      <th>min</th>\n",
       "      <td>0.000000</td>\n",
       "      <td>0.000000</td>\n",
       "      <td>0.000000</td>\n",
       "    </tr>\n",
       "    <tr>\n",
       "      <th>25%</th>\n",
       "      <td>25.000000</td>\n",
       "      <td>2.000000</td>\n",
       "      <td>14708.000000</td>\n",
       "    </tr>\n",
       "    <tr>\n",
       "      <th>50%</th>\n",
       "      <td>27.000000</td>\n",
       "      <td>6.000000</td>\n",
       "      <td>27084.000000</td>\n",
       "    </tr>\n",
       "    <tr>\n",
       "      <th>75%</th>\n",
       "      <td>29.000000</td>\n",
       "      <td>11.000000</td>\n",
       "      <td>42115.000000</td>\n",
       "    </tr>\n",
       "    <tr>\n",
       "      <th>max</th>\n",
       "      <td>41.000000</td>\n",
       "      <td>22.000000</td>\n",
       "      <td>81365.000000</td>\n",
       "    </tr>\n",
       "  </tbody>\n",
       "</table>\n",
       "</div>"
      ],
      "text/plain": [
       "          squad_size  national_team_players  stadium_seats\n",
       "count  120099.000000          120099.000000  120099.000000\n",
       "mean       26.042740               6.955936   30278.971215\n",
       "std         6.477525               5.528892   19318.398260\n",
       "min         0.000000               0.000000       0.000000\n",
       "25%        25.000000               2.000000   14708.000000\n",
       "50%        27.000000               6.000000   27084.000000\n",
       "75%        29.000000              11.000000   42115.000000\n",
       "max        41.000000              22.000000   81365.000000"
      ]
     },
     "execution_count": 89,
     "metadata": {},
     "output_type": "execute_result"
    }
   ],
   "source": [
    "# Calculamos estadísticas descriptivas\n",
    "df[['squad_size', 'national_team_players', 'stadium_seats']].describe()"
   ]
  },
  {
   "cell_type": "markdown",
   "metadata": {},
   "source": [
    "Obtenemos las siguientes conclusiones:\n",
    "1. Squad_size:<br>\n",
    "La media de jugadores en el equipo es de 26, lo que indica que la mayoría de equipos contiene una amplia plantilla.<br>\n",
    "La desviacion estándar de 6.47 lo que indica que la mayoría de equipos contienen el mismo número jugadores.\n",
    "\n",
    "2. National_team_players:<br>\n",
    "Los equipos tienen una media de 6.9 jugadores que juegan con su selección, lo que indica que los equipos componen una plantilla de alto nivel.<br>\n",
    "La desviación estándar es de 5.52, lo que indica que cada equipo siempre contiene un jugador que juega con la selección.\n",
    "\n",
    "3. Stadium_seats:<br>\n",
    "El promedio de estadios tienen una capacidad de 30278 espectadores, lo que significa que los equipos juegan en estadios de gran capacidad.<br>\n",
    "Hay una desviación estándar de 19318 asientos, lo que significa que existen estadios con una grandísima capacidad, y estadios con poca capacidad."
   ]
  },
  {
   "cell_type": "markdown",
   "metadata": {},
   "source": [
    "#### **3. Análisis de Frecuencia y Proporciones para Variables Categóricas**\n",
    "\n",
    "Las variables categóricas, como name, domestic_competition_id, hosting pueden analizarse mediante el cálculo de frecuencias y proporciones. Esto nos ayudará a entender la distribución de estas variables en el conjunto de datos."
   ]
  },
  {
   "cell_type": "markdown",
   "metadata": {},
   "source": [
    "#### 3.1 Frecuencia de Name (club name)\n",
    "\n",
    "Para obtener los equipos que más partidos han disputado, utilizamos value_counts():"
   ]
  },
  {
   "cell_type": "code",
   "execution_count": 90,
   "metadata": {},
   "outputs": [
    {
     "name": "stdout",
     "output_type": "stream",
     "text": [
      "name\n",
      "Real Madrid Club de Fútbol                                      709\n",
      "Futbol Club Barcelona                                           706\n",
      "Sevilla Fútbol Club S.A.D.                                      687\n",
      "Club Atlético de Madrid S.A.D.                                  674\n",
      "Manchester City Football Club                                   670\n",
      "                                                               ... \n",
      "FK Karpaty Lviv                                                  22\n",
      "FC Verbroedering Denderhoutem Denderleeuw Eendracht Hekelgem     17\n",
      "Avs Futebol SAD                                                  17\n",
      "Eyüp Spor Kulübü                                                 15\n",
      "Bodrumspor Spor Faaliyetleri Anonim Şirketi                      14\n",
      "Name: count, Length: 439, dtype: int64\n"
     ]
    }
   ],
   "source": [
    "# Frecuencia de estado civil\n",
    "partidos_disputados = df['name'].value_counts()\n",
    "\n",
    "print(partidos_disputados)"
   ]
  },
  {
   "cell_type": "markdown",
   "metadata": {},
   "source": [
    "Obtenemos las siguientes conclusiones:\n",
    "1. La mayoría de partidos han sido jugados por Real Madrid y FC Barcelona.\n",
    "2. Los equipos españoles lideran la clasificación general."
   ]
  },
  {
   "cell_type": "markdown",
   "metadata": {},
   "source": [
    "#### 3.2 Frecuencia y Proporción de Domestic_Competition_Id\n",
    "\n",
    "Calculamos la frecuencia y la proporción:"
   ]
  },
  {
   "cell_type": "code",
   "execution_count": 91,
   "metadata": {},
   "outputs": [
    {
     "name": "stdout",
     "output_type": "stream",
     "text": [
      "domestic_competition_id\n",
      "ES1     11917\n",
      "GB1     11738\n",
      "IT1     11294\n",
      "FR1      9717\n",
      "L1       9471\n",
      "NL1      8924\n",
      "PO1      8883\n",
      "TR1      8702\n",
      "RU1      7682\n",
      "GR1      7368\n",
      "BE1      6996\n",
      "SC1      6130\n",
      "UKR1     5804\n",
      "DK1      5473\n",
      "Name: count, dtype: int64\n",
      "domestic_competition_id\n",
      "ES1     0.099226\n",
      "GB1     0.097736\n",
      "IT1     0.094039\n",
      "FR1     0.080908\n",
      "L1      0.078860\n",
      "NL1     0.074305\n",
      "PO1     0.073964\n",
      "TR1     0.072457\n",
      "RU1     0.063964\n",
      "GR1     0.061349\n",
      "BE1     0.058252\n",
      "SC1     0.051041\n",
      "UKR1    0.048327\n",
      "DK1     0.045571\n",
      "Name: proportion, dtype: float64\n"
     ]
    }
   ],
   "source": [
    "# Frecuencia de nivel educativo\n",
    "education_freq = df['domestic_competition_id'].value_counts()\n",
    "education_proporciones = df['domestic_competition_id'].value_counts(normalize=True)\n",
    "\n",
    "print(education_freq)\n",
    "print(education_proporciones)"
   ]
  },
  {
   "cell_type": "markdown",
   "metadata": {},
   "source": [
    "Obtenemos las siguientes conclusiones:\n",
    "1. La mayor parte de los equipos provienen de España y Gran Bretaña.\n",
    "2. Las cinco grandes ligas dominan casi con un 40% del total de equipos.\n",
    "3. Existen más del doble de equipos españoles que ucranianos y daneses."
   ]
  },
  {
   "cell_type": "markdown",
   "metadata": {},
   "source": [
    "#### 3.3 Análisis de la posición del equipo (hosting)\n",
    "\n",
    "Servirá para entender si el equipo jugó el partido como local, o como visitante. Útil para entender si la victoria o derrota de cada equipo, depende de si el partido lo disputaron como local o visitante."
   ]
  },
  {
   "cell_type": "code",
   "execution_count": 92,
   "metadata": {},
   "outputs": [
    {
     "name": "stdout",
     "output_type": "stream",
     "text": [
      "hosting\n",
      "Away    60742\n",
      "Home    59357\n",
      "Name: count, dtype: int64\n",
      "hosting\n",
      "Away    0.505766\n",
      "Home    0.494234\n",
      "Name: proportion, dtype: float64\n"
     ]
    }
   ],
   "source": [
    "# Frecuencia de resultados de la campaña\n",
    "resultado_freq = df['hosting'].value_counts()\n",
    "resultado_proporciones = df['hosting'].value_counts(normalize=True)\n",
    "\n",
    "print(resultado_freq)\n",
    "print(resultado_proporciones)"
   ]
  },
  {
   "cell_type": "markdown",
   "metadata": {},
   "source": [
    "Obtenemos las siguientes conclusiones:\n",
    "1. Existe una mayor cifra de partidos visitantes que locales. \n",
    "2. El 49% de las veces, los equipos han jugado en casa y no han tenido que viajar."
   ]
  },
  {
   "cell_type": "markdown",
   "metadata": {},
   "source": [
    "#### **4. Análisis por Grupos (GroupBy)**\n",
    "\n",
    "El análisis por grupos es útil para obtener insights sobre cómo ciertas características afectan a otras variables, especialmente la variable objetivo is_win. Aquí analizamos cómo las variables categóricas impactan la variable objetivo."
   ]
  },
  {
   "cell_type": "markdown",
   "metadata": {},
   "source": [
    "#### 4.1 Análisis de la Variable 'name' vs 'is_win'\n",
    "\n",
    "En este apartado, queremos calcular la media de partidos ganados de los equipos. Se mostrarán los 5 mejores equipos que más media tienen de partidos ganados."
   ]
  },
  {
   "cell_type": "code",
   "execution_count": 93,
   "metadata": {},
   "outputs": [
    {
     "name": "stdout",
     "output_type": "stream",
     "text": [
      "name\n",
      "FC Bayern München                    0.746855\n",
      "The Celtic Football Club             0.685535\n",
      "Futbol Club Barcelona                0.684136\n",
      "Real Madrid Club de Fútbol           0.681241\n",
      "Paris Saint-Germain Football Club    0.679727\n",
      "Name: is_win, dtype: float64\n"
     ]
    }
   ],
   "source": [
    "# Análisis de partidos ganados de cada equipo\n",
    "equipos_con_mas_victorias = df.groupby('name')['is_win'].mean()\n",
    "print(equipos_con_mas_victorias.nlargest(5))"
   ]
  },
  {
   "cell_type": "markdown",
   "metadata": {},
   "source": [
    "Obtenemos las siguientes conclusiones:\n",
    "1. Se observa que el equipo con más victorias es el Bayern Munchen.\n",
    "2. Todos los equipos tienen un ratio de victoria superior al 65%.\n",
    "3. España es el país que más equipos aporta con un mayo ratio de equipos (2), por lo que revaloriza la competición."
   ]
  },
  {
   "cell_type": "markdown",
   "metadata": {},
   "source": [
    "#### 4.2 Análisis de la Variable 'name' vs 'national_team_players':\n",
    "\n",
    "En este apartado, queremos calcular los equipos que más jugadores aportan a la selección:"
   ]
  },
  {
   "cell_type": "code",
   "execution_count": 94,
   "metadata": {},
   "outputs": [
    {
     "name": "stdout",
     "output_type": "stream",
     "text": [
      "name\n",
      "Liverpool Football Club              22.0\n",
      "Manchester City Football Club        20.0\n",
      "Atalanta Bergamasca Calcio S.p.a.    19.0\n",
      "Juventus Football Club               19.0\n",
      "Manchester United Football Club      19.0\n",
      "Name: national_team_players, dtype: float64\n"
     ]
    }
   ],
   "source": [
    "# Análisis de equipos con más jugadores internacionales\n",
    "equipos_con_mas_jugadores_internacionales = df.groupby('name')['national_team_players'].mean()\n",
    "print(equipos_con_mas_jugadores_internacionales.nlargest(5))"
   ]
  },
  {
   "cell_type": "markdown",
   "metadata": {},
   "source": [
    "Obtenemos las siguientes conclusiones:\n",
    "1. Sorprendentemente, pese a no estar en el top 5 de equipos con más victorias, los equipos ingleses aportan mayor número de jugadores internacionales.\n",
    "2. Prácticamente toda la plantilla del Liverpool viaja con su selección.\n",
    "3. No aparece ningún equipo español en el top 5, pese a ser de los equipos con más victorias (Real Madrid y FC Barcelona)."
   ]
  },
  {
   "cell_type": "markdown",
   "metadata": {},
   "source": [
    "#### 4.3 Análisis de la Variable 'name' vs 'own_goals':\n",
    "\n",
    "En este apartado, vamos a calcular los equipos que más goles anotan de media por partido"
   ]
  },
  {
   "cell_type": "code",
   "execution_count": 95,
   "metadata": {},
   "outputs": [
    {
     "name": "stdout",
     "output_type": "stream",
     "text": [
      "name\n",
      "FC Bayern München                                         2.735849\n",
      "Kieler Sportvereinigung Holstein von 1900                 2.441176\n",
      "Futbol Club Barcelona                                     2.423513\n",
      "Eindhovense Voetbalvereniging Philips Sport Vereniging    2.389456\n",
      "AFC Ajax Amsterdam                                        2.389163\n",
      "Name: own_goals, dtype: float64\n"
     ]
    }
   ],
   "source": [
    "# Análisis de goles anotados por partido\n",
    "goles_anotados_por_partido = df.groupby('name')['own_goals'].mean()\n",
    "print(goles_anotados_por_partido.nlargest(5))"
   ]
  },
  {
   "cell_type": "markdown",
   "metadata": {},
   "source": [
    "Obtenemos las siguientes conclusiones:\n",
    "1. Observamos como el Bayern Munchen era el equipo con más victorias, y con más goles anotados, media de 2,7 goles a favor por partido.\n",
    "2. Además del Bayern, también aparece el Barcelona con una media de 2.4 goles.\n",
    "3. Sorprendentemente, no aparece ningún equipo más del top 5 con más victorias, lo que deducimos que esos equipos ganan sus partidos con un marcador ajustado.\n",
    "4. Obtenemos dos equipos holandeses, por lo que se estima que en la liga holandesa hay una gran diferencia entre estos dos equipos y el resto."
   ]
  },
  {
   "cell_type": "markdown",
   "metadata": {},
   "source": [
    "#### 4.4 Análisis de la Variable 'name' vs 'opponent_goals':\n",
    "\n",
    "En este apartado, vamos a calcular los equipos que más goles reciben de media por partido"
   ]
  },
  {
   "cell_type": "code",
   "execution_count": 96,
   "metadata": {},
   "outputs": [
    {
     "name": "stdout",
     "output_type": "stream",
     "text": [
      "name\n",
      "Kieler Sportvereinigung Holstein von 1900    2.852941\n",
      "FC Volendam                                  2.272727\n",
      "Delfino Pescara 1936                         2.255102\n",
      "RWD Molenbeek                                2.233333\n",
      "Metalurg Zaporizhya (-2016)                  2.222222\n",
      "Name: opponent_goals, dtype: float64\n"
     ]
    }
   ],
   "source": [
    "# Análisis de goles recibidos por partido\n",
    "goles_anotados_por_partido = df.groupby('name')['opponent_goals'].mean()\n",
    "print(goles_anotados_por_partido.nlargest(5))"
   ]
  },
  {
   "cell_type": "markdown",
   "metadata": {},
   "source": [
    "Obtenemos las siguientes conclusiones:\n",
    "1. Observamos como hay dos equipos con una gran diferencia sobre el resto, que encajan 2.8 y 2.7 goles por partido, una cifra elevada.\n",
    "2. Obtenemos un sorprendente dato, el equipo con más goles encajados (2.8), es el segundo que más goles anota (2.4), por lo que pierde la mayoría de sus partidos."
   ]
  },
  {
   "cell_type": "markdown",
   "metadata": {},
   "source": [
    "#### **5. Análisis de la Distribución de Variables Continuas (Asimetría)**"
   ]
  },
  {
   "cell_type": "markdown",
   "metadata": {},
   "source": [
    "#### 5.1 Cálculo de asimetría de la columna 'stadium_seats'\n",
    "\n",
    "Como se mencionó antes, la asimetría de stadium_seats nos ayuda a entender si la mayoría de equipos poseen la misma capacidad de espectadores en su estadio:"
   ]
  },
  {
   "cell_type": "code",
   "execution_count": 97,
   "metadata": {},
   "outputs": [
    {
     "name": "stdout",
     "output_type": "stream",
     "text": [
      "Asimetría de la capacidad de los estadios: 0.7508420780950992\n"
     ]
    }
   ],
   "source": [
    "asimetria_stadium_seats = df['stadium_seats'].skew()\n",
    "print(f'Asimetría de la capacidad de los estadios: {asimetria_stadium_seats}')"
   ]
  },
  {
   "cell_type": "markdown",
   "metadata": {},
   "source": [
    "La asimetría de la capacidad de los estadios nos da un valor de 0.75084, por lo que obtenemos las siguientes conclusiones:<br>\n",
    "\n",
    "1.- La distribución de la capacidad de los estadios no es completamente simétrica. Hay más estadios con capacidad menor a la media, mientras que unos pocos tienen capacidades muy altas, lo que genera una \"cola\" hacia la derecha.<br>\n",
    "2.- La presencia de estadios muy grandes (outliers en la parte alta) está afectando la media y empujándola hacia valores más altos.<br>\n",
    "3.- Un valor de 0.75 indica una asimetría moderada, pero no lo suficientemente grande como para ser considerada altamente sesgada. En la práctica, esto sugiere que la mayoría de los estadios tienen capacidades cercanas al promedio, con algunas excepciones más grandes."
   ]
  },
  {
   "cell_type": "markdown",
   "metadata": {},
   "source": [
    "#### 5.2 Cálculo de asimetría de la columna 'squad_size'\n",
    "\n",
    "Este cálculo, nos permite saber la media de jugadores que contiene cada equipo, y para analizar si un equipo tiene una plantilla muy corta o muy grande."
   ]
  },
  {
   "cell_type": "code",
   "execution_count": 98,
   "metadata": {},
   "outputs": [
    {
     "name": "stdout",
     "output_type": "stream",
     "text": [
      "Asimetría del tamaño de la plantilla: -2.827649527407504\n"
     ]
    }
   ],
   "source": [
    "asimetria_squad_size = df['squad_size'].skew()\n",
    "print(f'Asimetría del tamaño de la plantilla: {asimetria_squad_size}')"
   ]
  },
  {
   "cell_type": "markdown",
   "metadata": {},
   "source": [
    "La asimetría del tamaño de la plantilla nos da un valor de -2.82764, por lo que obtenemos las siguientes conclusiones:<br>\n",
    "\n",
    "1.- La mayoría de los equipos tienen un tamaño de plantilla relativamente grande, pero hay algunos equipos con plantillas muy pequeñas que crean una \"cola\" larga en el extremo izquierdo de la distribución.<br>\n",
    "2.- La fuerte asimetría negativa sugiere que hay algunos equipos con plantillas extremadamente reducidas que están afectando la distribución general.<br>\n",
    "3.- En distribuciones con asimetría negativa, la media suele ser menor que la mediana, ya que los valores pequeños arrastran la media hacia abajo. Esto indica que la mayoría de los equipos tienen un tamaño de plantilla más grande que el promedio aritmético."
   ]
  },
  {
   "cell_type": "markdown",
   "metadata": {},
   "source": [
    "#### **Conclusiones Generales**\n",
    "\n",
    "**1️. Dominio de ciertos equipos y ligas.**<br>\n",
    "Equipos como el Bayern Múnich y el FC Barcelona destacan tanto en victorias como en goles anotados, lo que indica un alto rendimiento.<br>\n",
    "Las cinco grandes ligas europeas dominan la competición, con una gran representación de equipos españoles e ingleses.<br>\n",
    "\n",
    "**2️. Diferencias en la competitividad de las ligas.**<br>\n",
    "La liga holandesa muestra una gran disparidad, con dos equipos muy superiores en términos de goles anotados y recibidos.<br>\n",
    "Equipos con muchas victorias no siempre son los que más goles anotan, lo que sugiere estrategias defensivas o partidos ajustados.<br>\n",
    "\n",
    "**3. Equipos con más jugadores internacionales no siempre son los más exitosos.**<br>\n",
    "Aunque los equipos ingleses aportan más jugadores a sus selecciones nacionales, no necesariamente son los que más victorias consiguen.<br>\n",
    "El Liverpool destaca con casi toda su plantilla participando en selecciones, pero no aparece en el top 5 de victorias.<br>\n",
    "\n",
    "**4. Diferencias significativas en la capacidad de los estadios.**<br>\n",
    "La gran desviación estándar en la capacidad de los estadios indica que hay clubes con estadios muy pequeños y otros con capacidades masivas.<br>\n",
    "La asimetría positiva en los asientos del estadio confirma que la mayoría de los equipos tienen estadios de tamaño medio, con algunos \n",
    "pocos de gran capacidad.<br>\n",
    "\n",
    "**5. Distribución desigual en el tamaño de las plantillas.**<br>\n",
    "La asimetría negativa en squad_size (-2.827) sugiere que la mayoría de equipos tienen plantillas grandes, pero existen algunos con números \n",
    "inusualmente bajos de jugadores.<br>\n",
    "Esto puede deberse a estrategias diferentes de gestión de plantilla o restricciones económicas en ciertos clubes."
   ]
  }
 ],
 "metadata": {
  "kernelspec": {
   "display_name": "Python 3.12.0 64-bit",
   "language": "python",
   "name": "python3"
  },
  "language_info": {
   "codemirror_mode": {
    "name": "ipython",
    "version": 3
   },
   "file_extension": ".py",
   "mimetype": "text/x-python",
   "name": "python",
   "nbconvert_exporter": "python",
   "pygments_lexer": "ipython3",
   "version": "3.12.0"
  },
  "orig_nbformat": 4,
  "vscode": {
   "interpreter": {
    "hash": "aee8b7b246df8f9039afb4144a1f6fd8d2ca17a180786b69acc140d282b71a49"
   }
  }
 },
 "nbformat": 4,
 "nbformat_minor": 2
}
