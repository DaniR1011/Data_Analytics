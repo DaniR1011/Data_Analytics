{
 "cells": [
  {
   "cell_type": "markdown",
   "metadata": {},
   "source": [
    "# Fase 3: Análisis descriptivo de los datos\n",
    "\n",
    "El análisis descriptivo tiene como objetivo proporcionar una comprensión profunda de la estructura y los patrones de los datos antes de aplicar cualquier modelo predictivo o transformaciones más complejas. A través de este proceso, no solo identificamos patrones, sino también problemas de calidad de los datos que deben ser abordados."
   ]
  },
  {
   "cell_type": "markdown",
   "metadata": {},
   "source": [
    "#### 1. Importamos el archivo csv y procedemos a realizar el análisis de los datos"
   ]
  },
  {
   "cell_type": "code",
   "execution_count": 19,
   "metadata": {},
   "outputs": [],
   "source": [
    "import pandas as pd\n",
    "import numpy as np\n",
    "df = pd.read_csv('../data/transform_data/data_clean.csv', low_memory=False)"
   ]
  },
  {
   "cell_type": "markdown",
   "metadata": {},
   "source": [
    "#### **2. Cálculo de Estadísticas Descriptivas Básicas**\n",
    "\n",
    "Primero, es importante obtener las estadísticas descriptivas de las variables continuas. Esto nos permitirá obtener un panorama general sobre las medias, medianas, desviaciones estándar y valores atípicos. Este cálculo se debe realizar sobre las columnas numéricas. En nuestro caso, lo realizaremos para las columnas: squad_size, national_team_players, stadium_seats, . Para ello, usamos el método .describe() de Pandas:"
   ]
  },
  {
   "cell_type": "code",
   "execution_count": 20,
   "metadata": {},
   "outputs": [
    {
     "data": {
      "text/html": [
       "<div>\n",
       "<style scoped>\n",
       "    .dataframe tbody tr th:only-of-type {\n",
       "        vertical-align: middle;\n",
       "    }\n",
       "\n",
       "    .dataframe tbody tr th {\n",
       "        vertical-align: top;\n",
       "    }\n",
       "\n",
       "    .dataframe thead th {\n",
       "        text-align: right;\n",
       "    }\n",
       "</style>\n",
       "<table border=\"1\" class=\"dataframe\">\n",
       "  <thead>\n",
       "    <tr style=\"text-align: right;\">\n",
       "      <th></th>\n",
       "      <th>squad_size</th>\n",
       "      <th>national_team_players</th>\n",
       "      <th>stadium_seats</th>\n",
       "    </tr>\n",
       "  </thead>\n",
       "  <tbody>\n",
       "    <tr>\n",
       "      <th>count</th>\n",
       "      <td>120099.000000</td>\n",
       "      <td>120099.000000</td>\n",
       "      <td>120099.000000</td>\n",
       "    </tr>\n",
       "    <tr>\n",
       "      <th>mean</th>\n",
       "      <td>26.042740</td>\n",
       "      <td>6.955936</td>\n",
       "      <td>30278.971215</td>\n",
       "    </tr>\n",
       "    <tr>\n",
       "      <th>std</th>\n",
       "      <td>6.477525</td>\n",
       "      <td>5.528892</td>\n",
       "      <td>19318.398260</td>\n",
       "    </tr>\n",
       "    <tr>\n",
       "      <th>min</th>\n",
       "      <td>0.000000</td>\n",
       "      <td>0.000000</td>\n",
       "      <td>0.000000</td>\n",
       "    </tr>\n",
       "    <tr>\n",
       "      <th>25%</th>\n",
       "      <td>25.000000</td>\n",
       "      <td>2.000000</td>\n",
       "      <td>14708.000000</td>\n",
       "    </tr>\n",
       "    <tr>\n",
       "      <th>50%</th>\n",
       "      <td>27.000000</td>\n",
       "      <td>6.000000</td>\n",
       "      <td>27084.000000</td>\n",
       "    </tr>\n",
       "    <tr>\n",
       "      <th>75%</th>\n",
       "      <td>29.000000</td>\n",
       "      <td>11.000000</td>\n",
       "      <td>42115.000000</td>\n",
       "    </tr>\n",
       "    <tr>\n",
       "      <th>max</th>\n",
       "      <td>41.000000</td>\n",
       "      <td>22.000000</td>\n",
       "      <td>81365.000000</td>\n",
       "    </tr>\n",
       "  </tbody>\n",
       "</table>\n",
       "</div>"
      ],
      "text/plain": [
       "          squad_size  national_team_players  stadium_seats\n",
       "count  120099.000000          120099.000000  120099.000000\n",
       "mean       26.042740               6.955936   30278.971215\n",
       "std         6.477525               5.528892   19318.398260\n",
       "min         0.000000               0.000000       0.000000\n",
       "25%        25.000000               2.000000   14708.000000\n",
       "50%        27.000000               6.000000   27084.000000\n",
       "75%        29.000000              11.000000   42115.000000\n",
       "max        41.000000              22.000000   81365.000000"
      ]
     },
     "execution_count": 20,
     "metadata": {},
     "output_type": "execute_result"
    }
   ],
   "source": [
    "# Calculamos estadísticas descriptivas\n",
    "df[['squad_size', 'national_team_players', 'stadium_seats']].describe()"
   ]
  },
  {
   "cell_type": "markdown",
   "metadata": {},
   "source": [
    "Obtenemos las siguientes conclusiones:\n",
    "1. Squad_size:<br>\n",
    "La media de jugadores en el equipo es de 26, lo que indica que la mayoría de equipos contiene una amplia plantilla.<br>\n",
    "La desviacion estándar de 6.47 lo que indica que la mayoría de equipos contienen el mismo número jugadores.\n",
    "\n",
    "2. National_team_players:<br>\n",
    "Los equipos tienen una media de 6.9 jugadores que juegan con su selección, lo que indica que los equipos componen una plantilla de alto nivel.<br>\n",
    "La desviación estándar es de 5.52, lo que indica que cada equipo siempre contiene un jugador que juega con la selección.\n",
    "\n",
    "3. Stadium_seats:<br>\n",
    "El promedio de estadios tienen una capacidad de 30278 espectadores, lo que significa que los equipos juegan en estadios de gran capacidad.<br>\n",
    "Hay una desviación estándar de 19318 asientos, lo que significa que existen estadios con una grandísima capacidad, y estadios con poca capacidad."
   ]
  },
  {
   "cell_type": "markdown",
   "metadata": {},
   "source": [
    "#### **3. Análisis de Frecuencia y Proporciones para Variables Categóricas**\n",
    "\n",
    "Las variables categóricas, como name, domestic_competition_id, hosting pueden analizarse mediante el cálculo de frecuencias y proporciones. Esto nos ayudará a entender la distribución de estas variables en el conjunto de datos."
   ]
  },
  {
   "cell_type": "markdown",
   "metadata": {},
   "source": [
    "#### 3.1 Frecuencia de Name (club name)\n",
    "\n",
    "Para obtener los equipos que más partidos han disputado, utilizamos value_counts():"
   ]
  },
  {
   "cell_type": "code",
   "execution_count": 21,
   "metadata": {},
   "outputs": [
    {
     "name": "stdout",
     "output_type": "stream",
     "text": [
      "name\n",
      "Real Madrid Club de Fútbol                                      709\n",
      "Futbol Club Barcelona                                           706\n",
      "Sevilla Fútbol Club S.A.D.                                      687\n",
      "Club Atlético de Madrid S.A.D.                                  674\n",
      "Manchester City Football Club                                   670\n",
      "                                                               ... \n",
      "FK Karpaty Lviv                                                  22\n",
      "FC Verbroedering Denderhoutem Denderleeuw Eendracht Hekelgem     17\n",
      "Avs Futebol SAD                                                  17\n",
      "Eyüp Spor Kulübü                                                 15\n",
      "Bodrumspor Spor Faaliyetleri Anonim Şirketi                      14\n",
      "Name: count, Length: 439, dtype: int64\n"
     ]
    }
   ],
   "source": [
    "# Frecuencia de estado civil\n",
    "estado_civil_freq = df['name'].value_counts()\n",
    "\n",
    "print(estado_civil_freq)"
   ]
  },
  {
   "cell_type": "markdown",
   "metadata": {},
   "source": [
    "Obtenemos las siguientes conclusiones:\n",
    "1. La mayoría de partidos han sido jugados por Real Madrid y FC Barcelona.\n",
    "2. Los equipos españoles lideran la clasificación general."
   ]
  },
  {
   "cell_type": "markdown",
   "metadata": {},
   "source": [
    "#### 3.2 Frecuencia y Proporción de Domestic_Competition_Id\n",
    "\n",
    "Calculamos la frecuencia y la proporción:"
   ]
  },
  {
   "cell_type": "code",
   "execution_count": 22,
   "metadata": {},
   "outputs": [
    {
     "name": "stdout",
     "output_type": "stream",
     "text": [
      "domestic_competition_id\n",
      "ES1     11917\n",
      "GB1     11738\n",
      "IT1     11294\n",
      "FR1      9717\n",
      "L1       9471\n",
      "NL1      8924\n",
      "PO1      8883\n",
      "TR1      8702\n",
      "RU1      7682\n",
      "GR1      7368\n",
      "BE1      6996\n",
      "SC1      6130\n",
      "UKR1     5804\n",
      "DK1      5473\n",
      "Name: count, dtype: int64\n",
      "domestic_competition_id\n",
      "ES1     0.099226\n",
      "GB1     0.097736\n",
      "IT1     0.094039\n",
      "FR1     0.080908\n",
      "L1      0.078860\n",
      "NL1     0.074305\n",
      "PO1     0.073964\n",
      "TR1     0.072457\n",
      "RU1     0.063964\n",
      "GR1     0.061349\n",
      "BE1     0.058252\n",
      "SC1     0.051041\n",
      "UKR1    0.048327\n",
      "DK1     0.045571\n",
      "Name: proportion, dtype: float64\n"
     ]
    }
   ],
   "source": [
    "# Frecuencia de nivel educativo\n",
    "education_freq = df['domestic_competition_id'].value_counts()\n",
    "education_proporciones = df['domestic_competition_id'].value_counts(normalize=True)\n",
    "\n",
    "print(education_freq)\n",
    "print(education_proporciones)"
   ]
  },
  {
   "cell_type": "markdown",
   "metadata": {},
   "source": [
    "Obtenemos las siguientes conclusiones:\n",
    "1. La mayor parte de los equipos provienen de España y Gran Bretaña.\n",
    "2. Las cinco grandes ligas dominan casi con un 40% del total de equipos.\n",
    "3. Existen más del doble de equipos españoles que ucranianos y daneses."
   ]
  },
  {
   "cell_type": "markdown",
   "metadata": {},
   "source": [
    "#### 3.3 Análisis de la posición del equipo (hosting)\n",
    "\n",
    "Servirá para entender si el equipo jugó el partido como local, o como visitante. Útil para entender si la victoria o derrota de cada equipo, depende de si el partido lo disputaron como local o visitante."
   ]
  },
  {
   "cell_type": "code",
   "execution_count": 23,
   "metadata": {},
   "outputs": [
    {
     "name": "stdout",
     "output_type": "stream",
     "text": [
      "hosting\n",
      "Away    60742\n",
      "Home    59357\n",
      "Name: count, dtype: int64\n",
      "hosting\n",
      "Away    0.505766\n",
      "Home    0.494234\n",
      "Name: proportion, dtype: float64\n"
     ]
    }
   ],
   "source": [
    "# Frecuencia de resultados de la campaña\n",
    "resultado_freq = df['hosting'].value_counts()\n",
    "resultado_proporciones = df['hosting'].value_counts(normalize=True)\n",
    "\n",
    "print(resultado_freq)\n",
    "print(resultado_proporciones)"
   ]
  },
  {
   "cell_type": "markdown",
   "metadata": {},
   "source": [
    "Obtenemos las siguientes conclusiones:\n",
    "1. Existe una mayor cifra de partidos visitantes que locales. \n",
    "2. El 49% de las veces, los equipos han jugado en casa y no han tenido que viajar."
   ]
  }
 ],
 "metadata": {
  "kernelspec": {
   "display_name": "Python 3.12.0 64-bit",
   "language": "python",
   "name": "python3"
  },
  "language_info": {
   "codemirror_mode": {
    "name": "ipython",
    "version": 3
   },
   "file_extension": ".py",
   "mimetype": "text/x-python",
   "name": "python",
   "nbconvert_exporter": "python",
   "pygments_lexer": "ipython3",
   "version": "3.12.0"
  },
  "orig_nbformat": 4,
  "vscode": {
   "interpreter": {
    "hash": "aee8b7b246df8f9039afb4144a1f6fd8d2ca17a180786b69acc140d282b71a49"
   }
  }
 },
 "nbformat": 4,
 "nbformat_minor": 2
}
