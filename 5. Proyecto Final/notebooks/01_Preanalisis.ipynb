{
 "cells": [
  {
   "cell_type": "code",
   "execution_count": 7,
   "metadata": {},
   "outputs": [
    {
     "name": "stdout",
     "output_type": "stream",
     "text": [
      "   club_id        club_code             name domestic_competition_id  \\\n",
      "0      105  sv-darmstadt-98  SV Darmstadt 98                      L1   \n",
      "1      105  sv-darmstadt-98  SV Darmstadt 98                      L1   \n",
      "2      105  sv-darmstadt-98  SV Darmstadt 98                      L1   \n",
      "3      105  sv-darmstadt-98  SV Darmstadt 98                      L1   \n",
      "4      105  sv-darmstadt-98  SV Darmstadt 98                      L1   \n",
      "\n",
      "   total_market_value  squad_size  average_age  foreigners_number  \\\n",
      "0                 NaN          27         25.6                 13   \n",
      "1                 NaN          27         25.6                 13   \n",
      "2                 NaN          27         25.6                 13   \n",
      "3                 NaN          27         25.6                 13   \n",
      "4                 NaN          27         25.6                 13   \n",
      "\n",
      "   foreigners_percentage  national_team_players  ...  game_id  own_goals  \\\n",
      "0                   48.1                      1  ...  2581153        2.0   \n",
      "1                   48.1                      1  ...  2581674        2.0   \n",
      "2                   48.1                      1  ...  2704228        1.0   \n",
      "3                   48.1                      1  ...  4096140        0.0   \n",
      "4                   48.1                      1  ...  2361070        1.0   \n",
      "\n",
      "  own_position      own_manager_name  opponent_id opponent_goals  \\\n",
      "0         10.0         Dirk Schuster         42.0            2.0   \n",
      "1         10.0         Dirk Schuster         39.0            3.0   \n",
      "2         12.0         Norbert Meier         24.0            0.0   \n",
      "3         18.0  Torsten Lieberknecht         15.0            2.0   \n",
      "4          NaN         Dirk Schuster         33.0            3.0   \n",
      "\n",
      "  opponent_position  opponent_manager_name  hosting  is_win  \n",
      "0               9.0      Michael Frontzeck     Home       0  \n",
      "1               8.0         Martin Schmidt     Home       0  \n",
      "2               9.0             Niko Kovac     Home       1  \n",
      "3               1.0            Xabi Alonso     Home       0  \n",
      "4               NaN            Jens Keller     Home       0  \n",
      "\n",
      "[5 rows x 27 columns]\n"
     ]
    }
   ],
   "source": [
    "import pandas as pd\n",
    "\n",
    "# Leer archivos CSV\n",
    "df1 = pd.read_csv(\"../data/raw_data/clubs.csv\")\n",
    "df2 = pd.read_csv(\"../data/raw_data/club_games.csv\")\n",
    "\n",
    "# Combinar los DataFrames por una columna común\n",
    "df = pd.merge(df1, df2, on=\"club_id\")\n",
    "\n",
    "# Mostrar los primeros registros\n",
    "print(df.head())\n"
   ]
  },
  {
   "cell_type": "code",
   "execution_count": 8,
   "metadata": {},
   "outputs": [
    {
     "name": "stdout",
     "output_type": "stream",
     "text": [
      "El dataset combinado tiene 120099 filas y 27 columnas.\n"
     ]
    }
   ],
   "source": [
    "num_filas, num_columnas = df.shape\n",
    "print(f\"El dataset combinado tiene {num_filas} filas y {num_columnas} columnas.\")"
   ]
  },
  {
   "cell_type": "code",
   "execution_count": 9,
   "metadata": {},
   "outputs": [
    {
     "name": "stdout",
     "output_type": "stream",
     "text": [
      "<class 'pandas.core.frame.DataFrame'>\n",
      "RangeIndex: 120099 entries, 0 to 120098\n",
      "Data columns (total 27 columns):\n",
      " #   Column                   Non-Null Count   Dtype  \n",
      "---  ------                   --------------   -----  \n",
      " 0   club_id                  120099 non-null  int64  \n",
      " 1   club_code                120099 non-null  object \n",
      " 2   name                     120099 non-null  object \n",
      " 3   domestic_competition_id  120099 non-null  object \n",
      " 4   total_market_value       0 non-null       float64\n",
      " 5   squad_size               120099 non-null  int64  \n",
      " 6   average_age              115110 non-null  float64\n",
      " 7   foreigners_number        120099 non-null  int64  \n",
      " 8   foreigners_percentage    113684 non-null  float64\n",
      " 9   national_team_players    120099 non-null  int64  \n",
      " 10  stadium_name             120099 non-null  object \n",
      " 11  stadium_seats            120099 non-null  int64  \n",
      " 12  net_transfer_record      120099 non-null  object \n",
      " 13  coach_name               0 non-null       float64\n",
      " 14  last_season              120099 non-null  int64  \n",
      " 15  filename                 120099 non-null  object \n",
      " 16  url                      120099 non-null  object \n",
      " 17  game_id                  120099 non-null  int64  \n",
      " 18  own_goals                120099 non-null  float64\n",
      " 19  own_position             100074 non-null  float64\n",
      " 20  own_manager_name         119591 non-null  object \n",
      " 21  opponent_id              120099 non-null  float64\n",
      " 22  opponent_goals           120099 non-null  float64\n",
      " 23  opponent_position        100074 non-null  float64\n",
      " 24  opponent_manager_name    119591 non-null  object \n",
      " 25  hosting                  120099 non-null  object \n",
      " 26  is_win                   120099 non-null  int64  \n",
      "dtypes: float64(9), int64(8), object(10)\n",
      "memory usage: 24.7+ MB\n",
      "None\n"
     ]
    }
   ],
   "source": [
    "print(df.info())"
   ]
  }
 ],
 "metadata": {
  "kernelspec": {
   "display_name": "Python 3.12.0 64-bit",
   "language": "python",
   "name": "python3"
  },
  "language_info": {
   "codemirror_mode": {
    "name": "ipython",
    "version": 3
   },
   "file_extension": ".py",
   "mimetype": "text/x-python",
   "name": "python",
   "nbconvert_exporter": "python",
   "pygments_lexer": "ipython3",
   "version": "3.12.0"
  },
  "orig_nbformat": 4,
  "vscode": {
   "interpreter": {
    "hash": "aee8b7b246df8f9039afb4144a1f6fd8d2ca17a180786b69acc140d282b71a49"
   }
  }
 },
 "nbformat": 4,
 "nbformat_minor": 2
}
