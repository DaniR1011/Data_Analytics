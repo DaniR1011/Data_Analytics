{
 "cells": [
  {
   "cell_type": "markdown",
   "metadata": {},
   "source": [
    "# Fase 1. Preanálisis"
   ]
  },
  {
   "cell_type": "markdown",
   "metadata": {},
   "source": [
    "#### 1. Importamos Pandas con el alias que decidamos y cargamos nuestro primer archivo csv"
   ]
  },
  {
   "cell_type": "code",
   "execution_count": 1,
   "metadata": {},
   "outputs": [],
   "source": [
    "import pandas as pd\n",
    "df1 = pd.read_csv(\"../data/raw_data/clubs.csv\")"
   ]
  },
  {
   "cell_type": "markdown",
   "metadata": {},
   "source": [
    "#### 2. Cargamos nuestro segundo archivo csv"
   ]
  },
  {
   "cell_type": "code",
   "execution_count": 2,
   "metadata": {},
   "outputs": [],
   "source": [
    "df2 = pd.read_csv(\"../data/raw_data/club_games.csv\")"
   ]
  },
  {
   "cell_type": "markdown",
   "metadata": {},
   "source": [
    "#### 3. Realizamos el análisis de ambos archivos"
   ]
  },
  {
   "cell_type": "code",
   "execution_count": 3,
   "metadata": {},
   "outputs": [
    {
     "name": "stdout",
     "output_type": "stream",
     "text": [
      "El primer dataset csv tiene 439 filas y 17 columnas.\n",
      "El segundo dataset csv tiene 144154 filas y 11 columnas.\n"
     ]
    }
   ],
   "source": [
    "# Calculamos el número de filas y de columnas\n",
    "num_filas, num_columnas = df1.shape\n",
    "print(f\"El primer dataset csv tiene {num_filas} filas y {num_columnas} columnas.\")\n",
    "\n",
    "num_filas, num_columnas = df2.shape\n",
    "print(f\"El segundo dataset csv tiene {num_filas} filas y {num_columnas} columnas.\")"
   ]
  },
  {
   "cell_type": "markdown",
   "metadata": {},
   "source": [
    "#### 4. Analizamos las columnas que tiene cada archivo"
   ]
  },
  {
   "cell_type": "code",
   "execution_count": 4,
   "metadata": {},
   "outputs": [
    {
     "name": "stdout",
     "output_type": "stream",
     "text": [
      "Columnas en el archivo CSV 1:\n",
      "Index(['club_id', 'club_code', 'name', 'domestic_competition_id',\n",
      "       'total_market_value', 'squad_size', 'average_age', 'foreigners_number',\n",
      "       'foreigners_percentage', 'national_team_players', 'stadium_name',\n",
      "       'stadium_seats', 'net_transfer_record', 'coach_name', 'last_season',\n",
      "       'filename', 'url'],\n",
      "      dtype='object')\n",
      "Columnas en el archivo CSV 2:\n",
      "Index(['game_id', 'club_id', 'own_goals', 'own_position', 'own_manager_name',\n",
      "       'opponent_id', 'opponent_goals', 'opponent_position',\n",
      "       'opponent_manager_name', 'hosting', 'is_win'],\n",
      "      dtype='object')\n"
     ]
    }
   ],
   "source": [
    "# Inspeccionamos las columnas de cada DataFrame\n",
    "print(\"Columnas en el archivo CSV 1:\")\n",
    "print(df1.columns)\n",
    "\n",
    "print(\"Columnas en el archivo CSV 2:\")\n",
    "print(df2.columns)"
   ]
  },
  {
   "cell_type": "markdown",
   "metadata": {},
   "source": [
    "#### 5. Obtenemos la columna 'club_id' como coincidente. Verificamos si existen o no valores nulos"
   ]
  },
  {
   "cell_type": "code",
   "execution_count": 5,
   "metadata": {},
   "outputs": [
    {
     "name": "stdout",
     "output_type": "stream",
     "text": [
      "0\n",
      "18\n"
     ]
    }
   ],
   "source": [
    "# Comprobamos que la columna id, no contiene valores nulos, para que la unión se produzca correctamente.\n",
    "print(df1['club_id'].isnull().sum())\n",
    "print(df2['club_id'].isnull().sum())"
   ]
  },
  {
   "cell_type": "markdown",
   "metadata": {},
   "source": [
    "#### 6. Analizamos valores nulos y eliminamos esas columnas, para evitar conflictos"
   ]
  },
  {
   "cell_type": "code",
   "execution_count": 6,
   "metadata": {},
   "outputs": [],
   "source": [
    "# Eliminamos los valores nulos\n",
    "df2 = df2.dropna(subset=[\"club_id\"])"
   ]
  },
  {
   "cell_type": "markdown",
   "metadata": {},
   "source": [
    "#### 7. Verificamos que no existen valores nulos en la columna coincidente"
   ]
  },
  {
   "cell_type": "code",
   "execution_count": 7,
   "metadata": {},
   "outputs": [
    {
     "name": "stdout",
     "output_type": "stream",
     "text": [
      "0\n",
      "0\n"
     ]
    }
   ],
   "source": [
    "# Comprobamos que la columna id, no contiene valores nulos, para que la unión se produzca correctamente.\n",
    "print(df1['club_id'].isnull().sum())\n",
    "print(df2['club_id'].isnull().sum())"
   ]
  },
  {
   "cell_type": "markdown",
   "metadata": {},
   "source": [
    "#### 8. Comprobamos que las columnas clave no contienen valores duplicados"
   ]
  },
  {
   "cell_type": "code",
   "execution_count": 8,
   "metadata": {},
   "outputs": [
    {
     "name": "stdout",
     "output_type": "stream",
     "text": [
      "0\n",
      "0\n"
     ]
    }
   ],
   "source": [
    "# De esta manera, mejoramos y optimizamos la eficiencia de nuestro set de datos\n",
    "print(df1.duplicated().sum())\n",
    "print(df2.duplicated().sum())"
   ]
  },
  {
   "cell_type": "markdown",
   "metadata": {},
   "source": [
    "#### 9. Obtenemos la columna 'club_id' como coincidente. Verificamos el tipo de dato de la columna"
   ]
  },
  {
   "cell_type": "code",
   "execution_count": 9,
   "metadata": {},
   "outputs": [
    {
     "name": "stdout",
     "output_type": "stream",
     "text": [
      "int64\n",
      "float64\n"
     ]
    }
   ],
   "source": [
    "# Revisamos que las columnas que vamos a combinar, sean del mismo tipo de dato para que no genere problemas.\n",
    "print(df1['club_id'].dtype)\n",
    "print(df2['club_id'].dtype)"
   ]
  },
  {
   "cell_type": "markdown",
   "metadata": {},
   "source": [
    "#### 10. Cambiamos el tipo de dato de df2 a int, para que coincida con el de df1. Modificando a int, evitamos decimales en nuestra columna clave"
   ]
  },
  {
   "cell_type": "code",
   "execution_count": 10,
   "metadata": {},
   "outputs": [],
   "source": [
    "df2[\"club_id\"] = df2[\"club_id\"].astype(\"int64\")"
   ]
  },
  {
   "cell_type": "markdown",
   "metadata": {},
   "source": [
    "#### 11. Verificamos que el tipo de dato ha sido modificado correctamente."
   ]
  },
  {
   "cell_type": "code",
   "execution_count": 11,
   "metadata": {},
   "outputs": [
    {
     "name": "stdout",
     "output_type": "stream",
     "text": [
      "int64\n",
      "int64\n"
     ]
    }
   ],
   "source": [
    "# Revisamos que las columnas que vamos a combinar, sean del mismo tipo de dato para que no genere problemas.\n",
    "print(df1['club_id'].dtype)\n",
    "print(df2['club_id'].dtype)"
   ]
  },
  {
   "cell_type": "markdown",
   "metadata": {},
   "source": [
    "#### 12. Decidimos hacer un merge, puesto que solo coincide una columna entre los dos archivos, y queremos traer toda la información restante. Realizamos el merge entre el dataframe csv y el de excel, a través de la columna 'club_id'"
   ]
  },
  {
   "cell_type": "code",
   "execution_count": 12,
   "metadata": {},
   "outputs": [],
   "source": [
    "# Realizamos la unión a través de un inner join, puesto que queremos combinar los archivos a través de la columna id_, y que el resto de información coincidente aparezca en el resultado final.\n",
    "df = pd.merge(df1, df2, on=\"club_id\", how=\"inner\")"
   ]
  },
  {
   "cell_type": "markdown",
   "metadata": {},
   "source": [
    "#### 13. Transformamos el dataframe final en un csv, y lo cremoa en la carpeta adecuada"
   ]
  },
  {
   "cell_type": "code",
   "execution_count": 13,
   "metadata": {},
   "outputs": [],
   "source": [
    "# Especificamos la carpeta exacta donde guardaremos el archivo\n",
    "ruta_carpeta = '../data/transform_data/'\n",
    "\n",
    "# Creamos el archivo CSV en la carpeta especificada\n",
    "df.to_csv(f'{ruta_carpeta}/transform_Data.csv', index=False)"
   ]
  },
  {
   "cell_type": "markdown",
   "metadata": {},
   "source": [
    "#### 14. Realizamos el preanálisis final con las funciones que aloja Pandas, verificando que los datos se han combinado correctamente"
   ]
  },
  {
   "cell_type": "code",
   "execution_count": 14,
   "metadata": {},
   "outputs": [
    {
     "data": {
      "text/html": [
       "<div>\n",
       "<style scoped>\n",
       "    .dataframe tbody tr th:only-of-type {\n",
       "        vertical-align: middle;\n",
       "    }\n",
       "\n",
       "    .dataframe tbody tr th {\n",
       "        vertical-align: top;\n",
       "    }\n",
       "\n",
       "    .dataframe thead th {\n",
       "        text-align: right;\n",
       "    }\n",
       "</style>\n",
       "<table border=\"1\" class=\"dataframe\">\n",
       "  <thead>\n",
       "    <tr style=\"text-align: right;\">\n",
       "      <th></th>\n",
       "      <th>club_id</th>\n",
       "      <th>club_code</th>\n",
       "      <th>name</th>\n",
       "      <th>domestic_competition_id</th>\n",
       "      <th>total_market_value</th>\n",
       "      <th>squad_size</th>\n",
       "      <th>average_age</th>\n",
       "      <th>foreigners_number</th>\n",
       "      <th>foreigners_percentage</th>\n",
       "      <th>national_team_players</th>\n",
       "      <th>...</th>\n",
       "      <th>game_id</th>\n",
       "      <th>own_goals</th>\n",
       "      <th>own_position</th>\n",
       "      <th>own_manager_name</th>\n",
       "      <th>opponent_id</th>\n",
       "      <th>opponent_goals</th>\n",
       "      <th>opponent_position</th>\n",
       "      <th>opponent_manager_name</th>\n",
       "      <th>hosting</th>\n",
       "      <th>is_win</th>\n",
       "    </tr>\n",
       "  </thead>\n",
       "  <tbody>\n",
       "    <tr>\n",
       "      <th>0</th>\n",
       "      <td>105</td>\n",
       "      <td>sv-darmstadt-98</td>\n",
       "      <td>SV Darmstadt 98</td>\n",
       "      <td>L1</td>\n",
       "      <td>NaN</td>\n",
       "      <td>27</td>\n",
       "      <td>25.6</td>\n",
       "      <td>13</td>\n",
       "      <td>48.1</td>\n",
       "      <td>1</td>\n",
       "      <td>...</td>\n",
       "      <td>2581153</td>\n",
       "      <td>2.0</td>\n",
       "      <td>10.0</td>\n",
       "      <td>Dirk Schuster</td>\n",
       "      <td>42.0</td>\n",
       "      <td>2.0</td>\n",
       "      <td>9.0</td>\n",
       "      <td>Michael Frontzeck</td>\n",
       "      <td>Home</td>\n",
       "      <td>0</td>\n",
       "    </tr>\n",
       "    <tr>\n",
       "      <th>1</th>\n",
       "      <td>105</td>\n",
       "      <td>sv-darmstadt-98</td>\n",
       "      <td>SV Darmstadt 98</td>\n",
       "      <td>L1</td>\n",
       "      <td>NaN</td>\n",
       "      <td>27</td>\n",
       "      <td>25.6</td>\n",
       "      <td>13</td>\n",
       "      <td>48.1</td>\n",
       "      <td>1</td>\n",
       "      <td>...</td>\n",
       "      <td>2581674</td>\n",
       "      <td>2.0</td>\n",
       "      <td>10.0</td>\n",
       "      <td>Dirk Schuster</td>\n",
       "      <td>39.0</td>\n",
       "      <td>3.0</td>\n",
       "      <td>8.0</td>\n",
       "      <td>Martin Schmidt</td>\n",
       "      <td>Home</td>\n",
       "      <td>0</td>\n",
       "    </tr>\n",
       "    <tr>\n",
       "      <th>2</th>\n",
       "      <td>105</td>\n",
       "      <td>sv-darmstadt-98</td>\n",
       "      <td>SV Darmstadt 98</td>\n",
       "      <td>L1</td>\n",
       "      <td>NaN</td>\n",
       "      <td>27</td>\n",
       "      <td>25.6</td>\n",
       "      <td>13</td>\n",
       "      <td>48.1</td>\n",
       "      <td>1</td>\n",
       "      <td>...</td>\n",
       "      <td>2704228</td>\n",
       "      <td>1.0</td>\n",
       "      <td>12.0</td>\n",
       "      <td>Norbert Meier</td>\n",
       "      <td>24.0</td>\n",
       "      <td>0.0</td>\n",
       "      <td>9.0</td>\n",
       "      <td>Niko Kovac</td>\n",
       "      <td>Home</td>\n",
       "      <td>1</td>\n",
       "    </tr>\n",
       "    <tr>\n",
       "      <th>3</th>\n",
       "      <td>105</td>\n",
       "      <td>sv-darmstadt-98</td>\n",
       "      <td>SV Darmstadt 98</td>\n",
       "      <td>L1</td>\n",
       "      <td>NaN</td>\n",
       "      <td>27</td>\n",
       "      <td>25.6</td>\n",
       "      <td>13</td>\n",
       "      <td>48.1</td>\n",
       "      <td>1</td>\n",
       "      <td>...</td>\n",
       "      <td>4096140</td>\n",
       "      <td>0.0</td>\n",
       "      <td>18.0</td>\n",
       "      <td>Torsten Lieberknecht</td>\n",
       "      <td>15.0</td>\n",
       "      <td>2.0</td>\n",
       "      <td>1.0</td>\n",
       "      <td>Xabi Alonso</td>\n",
       "      <td>Home</td>\n",
       "      <td>0</td>\n",
       "    </tr>\n",
       "    <tr>\n",
       "      <th>4</th>\n",
       "      <td>105</td>\n",
       "      <td>sv-darmstadt-98</td>\n",
       "      <td>SV Darmstadt 98</td>\n",
       "      <td>L1</td>\n",
       "      <td>NaN</td>\n",
       "      <td>27</td>\n",
       "      <td>25.6</td>\n",
       "      <td>13</td>\n",
       "      <td>48.1</td>\n",
       "      <td>1</td>\n",
       "      <td>...</td>\n",
       "      <td>2361070</td>\n",
       "      <td>1.0</td>\n",
       "      <td>NaN</td>\n",
       "      <td>Dirk Schuster</td>\n",
       "      <td>33.0</td>\n",
       "      <td>3.0</td>\n",
       "      <td>NaN</td>\n",
       "      <td>Jens Keller</td>\n",
       "      <td>Home</td>\n",
       "      <td>0</td>\n",
       "    </tr>\n",
       "  </tbody>\n",
       "</table>\n",
       "<p>5 rows × 27 columns</p>\n",
       "</div>"
      ],
      "text/plain": [
       "   club_id        club_code             name domestic_competition_id  \\\n",
       "0      105  sv-darmstadt-98  SV Darmstadt 98                      L1   \n",
       "1      105  sv-darmstadt-98  SV Darmstadt 98                      L1   \n",
       "2      105  sv-darmstadt-98  SV Darmstadt 98                      L1   \n",
       "3      105  sv-darmstadt-98  SV Darmstadt 98                      L1   \n",
       "4      105  sv-darmstadt-98  SV Darmstadt 98                      L1   \n",
       "\n",
       "   total_market_value  squad_size  average_age  foreigners_number  \\\n",
       "0                 NaN          27         25.6                 13   \n",
       "1                 NaN          27         25.6                 13   \n",
       "2                 NaN          27         25.6                 13   \n",
       "3                 NaN          27         25.6                 13   \n",
       "4                 NaN          27         25.6                 13   \n",
       "\n",
       "   foreigners_percentage  national_team_players  ...  game_id  own_goals  \\\n",
       "0                   48.1                      1  ...  2581153        2.0   \n",
       "1                   48.1                      1  ...  2581674        2.0   \n",
       "2                   48.1                      1  ...  2704228        1.0   \n",
       "3                   48.1                      1  ...  4096140        0.0   \n",
       "4                   48.1                      1  ...  2361070        1.0   \n",
       "\n",
       "  own_position      own_manager_name  opponent_id opponent_goals  \\\n",
       "0         10.0         Dirk Schuster         42.0            2.0   \n",
       "1         10.0         Dirk Schuster         39.0            3.0   \n",
       "2         12.0         Norbert Meier         24.0            0.0   \n",
       "3         18.0  Torsten Lieberknecht         15.0            2.0   \n",
       "4          NaN         Dirk Schuster         33.0            3.0   \n",
       "\n",
       "  opponent_position  opponent_manager_name  hosting  is_win  \n",
       "0               9.0      Michael Frontzeck     Home       0  \n",
       "1               8.0         Martin Schmidt     Home       0  \n",
       "2               9.0             Niko Kovac     Home       1  \n",
       "3               1.0            Xabi Alonso     Home       0  \n",
       "4               NaN            Jens Keller     Home       0  \n",
       "\n",
       "[5 rows x 27 columns]"
      ]
     },
     "execution_count": 14,
     "metadata": {},
     "output_type": "execute_result"
    }
   ],
   "source": [
    "# El .head() nos permite obtener una visualización previa de las 5 primeras filas\n",
    "df.head()"
   ]
  },
  {
   "cell_type": "code",
   "execution_count": 15,
   "metadata": {},
   "outputs": [
    {
     "name": "stdout",
     "output_type": "stream",
     "text": [
      "<class 'pandas.core.frame.DataFrame'>\n",
      "RangeIndex: 120099 entries, 0 to 120098\n",
      "Data columns (total 27 columns):\n",
      " #   Column                   Non-Null Count   Dtype  \n",
      "---  ------                   --------------   -----  \n",
      " 0   club_id                  120099 non-null  int64  \n",
      " 1   club_code                120099 non-null  object \n",
      " 2   name                     120099 non-null  object \n",
      " 3   domestic_competition_id  120099 non-null  object \n",
      " 4   total_market_value       0 non-null       float64\n",
      " 5   squad_size               120099 non-null  int64  \n",
      " 6   average_age              115110 non-null  float64\n",
      " 7   foreigners_number        120099 non-null  int64  \n",
      " 8   foreigners_percentage    113684 non-null  float64\n",
      " 9   national_team_players    120099 non-null  int64  \n",
      " 10  stadium_name             120099 non-null  object \n",
      " 11  stadium_seats            120099 non-null  int64  \n",
      " 12  net_transfer_record      120099 non-null  object \n",
      " 13  coach_name               0 non-null       float64\n",
      " 14  last_season              120099 non-null  int64  \n",
      " 15  filename                 120099 non-null  object \n",
      " 16  url                      120099 non-null  object \n",
      " 17  game_id                  120099 non-null  int64  \n",
      " 18  own_goals                120099 non-null  float64\n",
      " 19  own_position             100074 non-null  float64\n",
      " 20  own_manager_name         119591 non-null  object \n",
      " 21  opponent_id              120099 non-null  float64\n",
      " 22  opponent_goals           120099 non-null  float64\n",
      " 23  opponent_position        100074 non-null  float64\n",
      " 24  opponent_manager_name    119591 non-null  object \n",
      " 25  hosting                  120099 non-null  object \n",
      " 26  is_win                   120099 non-null  int64  \n",
      "dtypes: float64(9), int64(8), object(10)\n",
      "memory usage: 24.7+ MB\n"
     ]
    }
   ],
   "source": [
    "# El .info() nos aporta información sobre el tipo de dato de cada columna\n",
    "df.info()"
   ]
  },
  {
   "cell_type": "code",
   "execution_count": 16,
   "metadata": {},
   "outputs": [
    {
     "data": {
      "text/plain": [
       "club_id                      int64\n",
       "club_code                   object\n",
       "name                        object\n",
       "domestic_competition_id     object\n",
       "total_market_value         float64\n",
       "squad_size                   int64\n",
       "average_age                float64\n",
       "foreigners_number            int64\n",
       "foreigners_percentage      float64\n",
       "national_team_players        int64\n",
       "stadium_name                object\n",
       "stadium_seats                int64\n",
       "net_transfer_record         object\n",
       "coach_name                 float64\n",
       "last_season                  int64\n",
       "filename                    object\n",
       "url                         object\n",
       "game_id                      int64\n",
       "own_goals                  float64\n",
       "own_position               float64\n",
       "own_manager_name            object\n",
       "opponent_id                float64\n",
       "opponent_goals             float64\n",
       "opponent_position          float64\n",
       "opponent_manager_name       object\n",
       "hosting                     object\n",
       "is_win                       int64\n",
       "dtype: object"
      ]
     },
     "execution_count": 16,
     "metadata": {},
     "output_type": "execute_result"
    }
   ],
   "source": [
    "# Comprobamos el tipo de dato de cada columna\n",
    "df.dtypes"
   ]
  },
  {
   "cell_type": "code",
   "execution_count": 17,
   "metadata": {},
   "outputs": [
    {
     "data": {
      "text/plain": [
       "club_id                         0\n",
       "club_code                       0\n",
       "name                            0\n",
       "domestic_competition_id         0\n",
       "total_market_value         120099\n",
       "squad_size                      0\n",
       "average_age                  4989\n",
       "foreigners_number               0\n",
       "foreigners_percentage        6415\n",
       "national_team_players           0\n",
       "stadium_name                    0\n",
       "stadium_seats                   0\n",
       "net_transfer_record             0\n",
       "coach_name                 120099\n",
       "last_season                     0\n",
       "filename                        0\n",
       "url                             0\n",
       "game_id                         0\n",
       "own_goals                       0\n",
       "own_position                20025\n",
       "own_manager_name              508\n",
       "opponent_id                     0\n",
       "opponent_goals                  0\n",
       "opponent_position           20025\n",
       "opponent_manager_name         508\n",
       "hosting                         0\n",
       "is_win                          0\n",
       "dtype: int64"
      ]
     },
     "execution_count": 17,
     "metadata": {},
     "output_type": "execute_result"
    }
   ],
   "source": [
    "# Comprobamos si existen valores nulos\n",
    "df.isnull().sum()"
   ]
  },
  {
   "cell_type": "code",
   "execution_count": 18,
   "metadata": {},
   "outputs": [
    {
     "name": "stdout",
     "output_type": "stream",
     "text": [
      "El dataset combinado tiene 120099 filas y 27 columnas.\n"
     ]
    }
   ],
   "source": [
    "# Calculamos el número de filas y de columnas final, comprobando que no hemos perdido información\n",
    "num_filas, num_columnas = df.shape\n",
    "print(f\"El dataset combinado tiene {num_filas} filas y {num_columnas} columnas.\")"
   ]
  },
  {
   "cell_type": "markdown",
   "metadata": {},
   "source": [
    "#### Conclusiones del Preanálisis\n",
    "\n",
    "1. **Completitud de los datos**:<br>\n",
    "   El conjunto de datos tiene valores nulos, que deben ser reemplazados en función de la columna que corresponda (numérica o categórica),\n",
    "   para que no modifique los valores finales.<br><br>\n",
    "\n",
    "2. **Tipos de datos**:<br>\n",
    "   Las columnas clave que nos van a permitir realizar la unión, tienen el mismo tipo de dato.<br><br>\n",
    "\n",
    "3. **Duplicados**:<br>\n",
    "   No se encontraron filas duplicadas ni en el archivo, ni en las columnas clave, por lo que la unión se puede realizar correctamente.<br><br>\n",
    "\n",
    "4. **Estructura de los datos**:<br>\n",
    "   El archivo contiene **120099 filas** y **27 columnas**. Las columnas parecen ser coherentes y contienen información relevante para el análisis posterior.\n"
   ]
  }
 ],
 "metadata": {
  "kernelspec": {
   "display_name": "Python 3.12.0 64-bit",
   "language": "python",
   "name": "python3"
  },
  "language_info": {
   "codemirror_mode": {
    "name": "ipython",
    "version": 3
   },
   "file_extension": ".py",
   "mimetype": "text/x-python",
   "name": "python",
   "nbconvert_exporter": "python",
   "pygments_lexer": "ipython3",
   "version": "3.12.0"
  },
  "orig_nbformat": 4,
  "vscode": {
   "interpreter": {
    "hash": "aee8b7b246df8f9039afb4144a1f6fd8d2ca17a180786b69acc140d282b71a49"
   }
  }
 },
 "nbformat": 4,
 "nbformat_minor": 2
}
