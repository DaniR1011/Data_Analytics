{
 "cells": [
  {
   "cell_type": "markdown",
   "metadata": {},
   "source": [
    "# Fase 1. Transformación y limpieza de los datos (Excel)"
   ]
  },
  {
   "cell_type": "markdown",
   "metadata": {},
   "source": [
    "#### 1. Transformamos el archivo Excel en CSV"
   ]
  },
  {
   "cell_type": "code",
   "execution_count": 31,
   "metadata": {},
   "outputs": [
    {
     "name": "stdout",
     "output_type": "stream",
     "text": [
      "Archivo convertido a CSV exitosamente.\n"
     ]
    }
   ],
   "source": [
    "import pandas as pd\n",
    "\n",
    "# Leemos el archivo Excel\n",
    "# df = pd.read_excel('../data/customer_details.xlsx')\n",
    "\n",
    "# Guardamos el DataFrame como un archivo CSV, ya que Pandas no es capaz de leer el archivo Excel. Podemos realizar esta opción, o abrir el archivo Excel desde la propia aplicación de Excel. En caso de no ponemos el delimitador, automáticamente detecta las comas (,). Con index false, no guardamos las columnas de índices.\n",
    "# df.to_csv('data_excel.csv', index=False)\n",
    "\n",
    "print(\"Archivo convertido a CSV exitosamente.\")"
   ]
  },
  {
   "cell_type": "markdown",
   "metadata": {},
   "source": [
    "#### 2. Cargamos el archivo Excel convertido a CSV"
   ]
  },
  {
   "cell_type": "code",
   "execution_count": 32,
   "metadata": {},
   "outputs": [
    {
     "name": "stdout",
     "output_type": "stream",
     "text": [
      "            Income  Kidhome  Teenhome Dt_Customer  NumWebVisitsMonth  \\\n",
      "Unnamed: 0                                                             \n",
      "0           161770        1         0  2012-04-04                 29   \n",
      "1            85477        1         1  2012-12-30                  7   \n",
      "2           147233        1         1  2012-02-02                  5   \n",
      "3           121393        1         2  2012-12-21                 29   \n",
      "4            63164        1         2  2012-06-20                 20   \n",
      "\n",
      "                                              ID  \n",
      "Unnamed: 0                                        \n",
      "0           089b39d8-e4d0-461b-87d4-814d71e0e079  \n",
      "1           e9d37224-cb6f-4942-98d7-46672963d097  \n",
      "2           3f9f49b5-e410-4948-bf6e-f9244f04918b  \n",
      "3           9991fafb-4447-451a-8be2-b0df6098d13e  \n",
      "4           eca60b76-70b6-4077-80ba-bc52e8ebb0eb  \n"
     ]
    }
   ],
   "source": [
    "# Cargar el archivo CSV y establecer la columna 'Unnamed: 0' como índice\n",
    "df = pd.read_csv('../data/data_excel.csv', index_col=0)\n",
    "\n",
    "# Ver el DataFrame para comprobar que se ha eliminado la columna 'Unnamed: 0'\n",
    "print(df.head())"
   ]
  },
  {
   "cell_type": "markdown",
   "metadata": {},
   "source": [
    "#### 3. Obtenemos información sobre el tipo de dato de cada columna y su previsualización"
   ]
  },
  {
   "cell_type": "code",
   "execution_count": 33,
   "metadata": {},
   "outputs": [
    {
     "data": {
      "text/html": [
       "<div>\n",
       "<style scoped>\n",
       "    .dataframe tbody tr th:only-of-type {\n",
       "        vertical-align: middle;\n",
       "    }\n",
       "\n",
       "    .dataframe tbody tr th {\n",
       "        vertical-align: top;\n",
       "    }\n",
       "\n",
       "    .dataframe thead th {\n",
       "        text-align: right;\n",
       "    }\n",
       "</style>\n",
       "<table border=\"1\" class=\"dataframe\">\n",
       "  <thead>\n",
       "    <tr style=\"text-align: right;\">\n",
       "      <th></th>\n",
       "      <th>Income</th>\n",
       "      <th>Kidhome</th>\n",
       "      <th>Teenhome</th>\n",
       "      <th>Dt_Customer</th>\n",
       "      <th>NumWebVisitsMonth</th>\n",
       "      <th>ID</th>\n",
       "    </tr>\n",
       "    <tr>\n",
       "      <th>Unnamed: 0</th>\n",
       "      <th></th>\n",
       "      <th></th>\n",
       "      <th></th>\n",
       "      <th></th>\n",
       "      <th></th>\n",
       "      <th></th>\n",
       "    </tr>\n",
       "  </thead>\n",
       "  <tbody>\n",
       "    <tr>\n",
       "      <th>0</th>\n",
       "      <td>161770</td>\n",
       "      <td>1</td>\n",
       "      <td>0</td>\n",
       "      <td>2012-04-04</td>\n",
       "      <td>29</td>\n",
       "      <td>089b39d8-e4d0-461b-87d4-814d71e0e079</td>\n",
       "    </tr>\n",
       "    <tr>\n",
       "      <th>1</th>\n",
       "      <td>85477</td>\n",
       "      <td>1</td>\n",
       "      <td>1</td>\n",
       "      <td>2012-12-30</td>\n",
       "      <td>7</td>\n",
       "      <td>e9d37224-cb6f-4942-98d7-46672963d097</td>\n",
       "    </tr>\n",
       "    <tr>\n",
       "      <th>2</th>\n",
       "      <td>147233</td>\n",
       "      <td>1</td>\n",
       "      <td>1</td>\n",
       "      <td>2012-02-02</td>\n",
       "      <td>5</td>\n",
       "      <td>3f9f49b5-e410-4948-bf6e-f9244f04918b</td>\n",
       "    </tr>\n",
       "    <tr>\n",
       "      <th>3</th>\n",
       "      <td>121393</td>\n",
       "      <td>1</td>\n",
       "      <td>2</td>\n",
       "      <td>2012-12-21</td>\n",
       "      <td>29</td>\n",
       "      <td>9991fafb-4447-451a-8be2-b0df6098d13e</td>\n",
       "    </tr>\n",
       "    <tr>\n",
       "      <th>4</th>\n",
       "      <td>63164</td>\n",
       "      <td>1</td>\n",
       "      <td>2</td>\n",
       "      <td>2012-06-20</td>\n",
       "      <td>20</td>\n",
       "      <td>eca60b76-70b6-4077-80ba-bc52e8ebb0eb</td>\n",
       "    </tr>\n",
       "  </tbody>\n",
       "</table>\n",
       "</div>"
      ],
      "text/plain": [
       "            Income  Kidhome  Teenhome Dt_Customer  NumWebVisitsMonth  \\\n",
       "Unnamed: 0                                                             \n",
       "0           161770        1         0  2012-04-04                 29   \n",
       "1            85477        1         1  2012-12-30                  7   \n",
       "2           147233        1         1  2012-02-02                  5   \n",
       "3           121393        1         2  2012-12-21                 29   \n",
       "4            63164        1         2  2012-06-20                 20   \n",
       "\n",
       "                                              ID  \n",
       "Unnamed: 0                                        \n",
       "0           089b39d8-e4d0-461b-87d4-814d71e0e079  \n",
       "1           e9d37224-cb6f-4942-98d7-46672963d097  \n",
       "2           3f9f49b5-e410-4948-bf6e-f9244f04918b  \n",
       "3           9991fafb-4447-451a-8be2-b0df6098d13e  \n",
       "4           eca60b76-70b6-4077-80ba-bc52e8ebb0eb  "
      ]
     },
     "execution_count": 33,
     "metadata": {},
     "output_type": "execute_result"
    }
   ],
   "source": [
    "# El .head nos permite obtener una visualización previa de las 5 primeras filas\n",
    "df.head()"
   ]
  },
  {
   "cell_type": "code",
   "execution_count": 34,
   "metadata": {},
   "outputs": [
    {
     "name": "stdout",
     "output_type": "stream",
     "text": [
      "<class 'pandas.core.frame.DataFrame'>\n",
      "Index: 20115 entries, 0 to 20114\n",
      "Data columns (total 6 columns):\n",
      " #   Column             Non-Null Count  Dtype \n",
      "---  ------             --------------  ----- \n",
      " 0   Income             20115 non-null  int64 \n",
      " 1   Kidhome            20115 non-null  int64 \n",
      " 2   Teenhome           20115 non-null  int64 \n",
      " 3   Dt_Customer        20115 non-null  object\n",
      " 4   NumWebVisitsMonth  20115 non-null  int64 \n",
      " 5   ID                 20115 non-null  object\n",
      "dtypes: int64(4), object(2)\n",
      "memory usage: 1.1+ MB\n"
     ]
    }
   ],
   "source": [
    "# El .info nos aporta información sobre el tipo de dato de cada columna\n",
    "df.info()"
   ]
  },
  {
   "cell_type": "code",
   "execution_count": 35,
   "metadata": {},
   "outputs": [
    {
     "data": {
      "text/plain": [
       "Income                int64\n",
       "Kidhome               int64\n",
       "Teenhome              int64\n",
       "Dt_Customer          object\n",
       "NumWebVisitsMonth     int64\n",
       "ID                   object\n",
       "dtype: object"
      ]
     },
     "execution_count": 35,
     "metadata": {},
     "output_type": "execute_result"
    }
   ],
   "source": [
    "# Comprobamos el tipo de dato de cada columna\n",
    "df.dtypes"
   ]
  },
  {
   "cell_type": "markdown",
   "metadata": {},
   "source": [
    "#### 4. Analizamos si existen o no valores duplicados"
   ]
  },
  {
   "cell_type": "code",
   "execution_count": 36,
   "metadata": {},
   "outputs": [
    {
     "name": "stdout",
     "output_type": "stream",
     "text": [
      "No existen valores duplicados\n",
      "0\n"
     ]
    }
   ],
   "source": [
    "# Comprobamos si existen valores duplicados\n",
    "if df.duplicated().values.any():\n",
    "    print(\"Existen valores duplicados por eliminar\")\n",
    "else:\n",
    "    print(\"No existen valores duplicados\")\n",
    "\n",
    "# Comprobamos y verificamos que no existen valores duplicados\n",
    "print(df.duplicated().sum())"
   ]
  },
  {
   "cell_type": "markdown",
   "metadata": {},
   "source": [
    "#### 5. Analizamos y eliminamos los valores nulos existentes"
   ]
  },
  {
   "cell_type": "code",
   "execution_count": 37,
   "metadata": {},
   "outputs": [
    {
     "name": "stdout",
     "output_type": "stream",
     "text": [
      "No existen valores nulos.\n",
      "Income               0\n",
      "Kidhome              0\n",
      "Teenhome             0\n",
      "Dt_Customer          0\n",
      "NumWebVisitsMonth    0\n",
      "ID                   0\n",
      "dtype: int64\n"
     ]
    }
   ],
   "source": [
    "# Comprobamos si existen valores nulos\n",
    "if df.isnull().values.any():\n",
    "    print(\"Existen valores nulos en los datos.\")\n",
    "else:\n",
    "    print(\"No existen valores nulos.\")\n",
    "\n",
    "# Comprobamos y verificamos que no existen valores nulos\n",
    "print(df.isnull().sum())"
   ]
  },
  {
   "cell_type": "markdown",
   "metadata": {},
   "source": [
    "#### 6. Revisamos y cambiamos el tipo de dato de cada columna que sea necesario"
   ]
  },
  {
   "cell_type": "code",
   "execution_count": 38,
   "metadata": {},
   "outputs": [
    {
     "name": "stdout",
     "output_type": "stream",
     "text": [
      "Income                        int64\n",
      "Kidhome                       int64\n",
      "Teenhome                      int64\n",
      "Dt_Customer          datetime64[ns]\n",
      "NumWebVisitsMonth             int64\n",
      "ID                           object\n",
      "dtype: object\n"
     ]
    }
   ],
   "source": [
    "# Convertimos 'Dt_Customer' a datetime\n",
    "df['Dt_Customer'] = pd.to_datetime(df['Dt_Customer'], errors='coerce')\n",
    "\n",
    "# Convertimos 'ID' a string\n",
    "df['ID'] = df['ID'].astype(str)\n",
    "\n",
    "# Verificamos los tipos de datos después de las conversiones\n",
    "print(df.dtypes)"
   ]
  },
  {
   "cell_type": "markdown",
   "metadata": {},
   "source": [
    "#### 7. Realizamos la estandarización de valores categóricos"
   ]
  },
  {
   "cell_type": "code",
   "execution_count": 39,
   "metadata": {},
   "outputs": [
    {
     "name": "stdout",
     "output_type": "stream",
     "text": [
      "            Income  Kidhome  Teenhome Dt_Customer  NumWebVisitsMonth  \\\n",
      "Unnamed: 0                                                             \n",
      "0           161770        1         0  2012-04-04                 29   \n",
      "1            85477        1         1  2012-12-30                  7   \n",
      "2           147233        1         1  2012-02-02                  5   \n",
      "3           121393        1         2  2012-12-21                 29   \n",
      "4            63164        1         2  2012-06-20                 20   \n",
      "\n",
      "                                              ID  \n",
      "Unnamed: 0                                        \n",
      "0           089b39d8-e4d0-461b-87d4-814d71e0e079  \n",
      "1           e9d37224-cb6f-4942-98d7-46672963d097  \n",
      "2           3f9f49b5-e410-4948-bf6e-f9244f04918b  \n",
      "3           9991fafb-4447-451a-8be2-b0df6098d13e  \n",
      "4           eca60b76-70b6-4077-80ba-bc52e8ebb0eb  \n"
     ]
    }
   ],
   "source": [
    "# Aplicamos las modificaciones solo a las columnas 'object' puesto que son las únicas que contienen texto. No tendría sentido hacerlo para columnas de tipo int, float etc\n",
    "for columna in df.select_dtypes(include=['object']).columns:\n",
    "\n",
    "# Eliminamos espacios al principio y al final, y convertimos a minúsculas para evitar conflictos\n",
    "    df[columna] = df[columna].str.strip().str.lower()\n",
    "\n",
    "# Verificamos que se aplicaron los cambios\n",
    "print(df.head())"
   ]
  }
 ],
 "metadata": {
  "kernelspec": {
   "display_name": "Python 3.12.0 64-bit",
   "language": "python",
   "name": "python3"
  },
  "language_info": {
   "codemirror_mode": {
    "name": "ipython",
    "version": 3
   },
   "file_extension": ".py",
   "mimetype": "text/x-python",
   "name": "python",
   "nbconvert_exporter": "python",
   "pygments_lexer": "ipython3",
   "version": "3.12.0"
  },
  "orig_nbformat": 4,
  "vscode": {
   "interpreter": {
    "hash": "aee8b7b246df8f9039afb4144a1f6fd8d2ca17a180786b69acc140d282b71a49"
   }
  }
 },
 "nbformat": 4,
 "nbformat_minor": 2
}
