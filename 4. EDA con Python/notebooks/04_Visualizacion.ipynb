{
 "cells": [
  {
   "cell_type": "markdown",
   "metadata": {},
   "source": [
    "# Fase 4: Visualización de los datos"
   ]
  },
  {
   "cell_type": "markdown",
   "metadata": {},
   "source": [
    "#### 1. Importamos el archivo csv y procedemos a realizar el análisis de los datos"
   ]
  },
  {
   "cell_type": "code",
   "execution_count": null,
   "metadata": {},
   "outputs": [],
   "source": [
    "import pandas as pd\n",
    "df = pd.read_csv('../data/transform_data/transform_Data.csv', low_memory=False)"
   ]
  },
  {
   "cell_type": "markdown",
   "metadata": {},
   "source": [
    "#### 2. Instalamos estas dos extensiones, para generar gráficos y tablas"
   ]
  },
  {
   "cell_type": "code",
   "execution_count": null,
   "metadata": {},
   "outputs": [],
   "source": [
    "import matplotlib.pyplot as plt\n",
    "import seaborn as sns"
   ]
  },
  {
   "cell_type": "markdown",
   "metadata": {},
   "source": [
    "#### 3. Creación de histograma para la columna 'age'"
   ]
  },
  {
   "cell_type": "code",
   "execution_count": null,
   "metadata": {},
   "outputs": [],
   "source": [
    "# Mediante el histograma observamos como en nuestro set de datos predominan personas entre 20 y 60 años de edad\n",
    "plt.figure(figsize=(4, 2))\n",
    "sns.histplot(data=df, x='age', bins=30, kde=True, color='aquamarine')\n",
    "plt.title('Distribución de Edad')\n",
    "plt.xlabel('Valores Edad')\n",
    "plt.ylabel('Frecuencia')\n",
    "plt.show()"
   ]
  },
  {
   "cell_type": "markdown",
   "metadata": {},
   "source": [
    "#### 4. Gráfico de barras para la columna 'job' en relación al estado civil del trabajador"
   ]
  },
  {
   "cell_type": "code",
   "execution_count": null,
   "metadata": {},
   "outputs": [],
   "source": [
    "# Número de trabajadores en relación al estado civil\n",
    "plt.figure(figsize=(5, 3))\n",
    "sns.countplot(data=df, x='job', hue='marital', palette='viridis')\n",
    "plt.title('Frecuencia de Trabajos')\n",
    "plt.xlabel('Trabajos')\n",
    "plt.ylabel('Frecuencia')\n",
    "plt.xticks(rotation=45)\n",
    "plt.show()"
   ]
  },
  {
   "cell_type": "markdown",
   "metadata": {},
   "source": [
    "#### 5. Boxplot para detectar outliers de la columna 'job'"
   ]
  },
  {
   "cell_type": "code",
   "execution_count": null,
   "metadata": {},
   "outputs": [],
   "source": [
    "# Observamos como la gran mayoría de trabajos son admin, blue-collar y technician\n",
    "plt.figure(figsize=(5, 4))\n",
    "sns.boxplot(data=df, y='job', color='aquamarine')\n",
    "plt.title('Detección de Outliers sobre Job')\n",
    "plt.ylabel('Valores')\n",
    "plt.show()"
   ]
  },
  {
   "cell_type": "markdown",
   "metadata": {},
   "source": [
    "#### 6. Gráfico de pastel en función del estado civil"
   ]
  },
  {
   "cell_type": "code",
   "execution_count": null,
   "metadata": {},
   "outputs": [],
   "source": [
    "df[\"marital\"].value_counts().plot.pie(autopct=\"%1.1f%%\", figsize=(4, 3))\n",
    "plt.title(\"Proporción por Marital\")\n",
    "plt.ylabel(\"\")\n",
    "plt.show()"
   ]
  },
  {
   "cell_type": "markdown",
   "metadata": {},
   "source": [
    "#### 7. Gráfico de barras en función de la educación"
   ]
  },
  {
   "cell_type": "code",
   "execution_count": null,
   "metadata": {},
   "outputs": [],
   "source": [
    "plt.figure(figsize=(5, 3))\n",
    "sns.countplot(data=df, x=\"education\")\n",
    "plt.title(\"Frecuencia por Education\")\n",
    "plt.xlabel(\"Education\")\n",
    "plt.ylabel(\"Frecuencia\")\n",
    "plt.xticks(rotation=45)\n",
    "plt.show()"
   ]
  },
  {
   "cell_type": "markdown",
   "metadata": {},
   "source": [
    "#### 8. Barplot que calcula el promedio de una variable numérica a partir de una categoría"
   ]
  },
  {
   "cell_type": "code",
   "execution_count": null,
   "metadata": {},
   "outputs": [],
   "source": [
    "# Cálculo del promedio de 'age' a partir de la categoría 'marital'\n",
    "plt.figure(figsize=(5, 3))\n",
    "sns.barplot(data=df, x=\"marital\", y=\"age\", estimator=\"mean\")\n",
    "plt.title(\"Promedio por Age\")\n",
    "plt.xlabel(\"Marital\")\n",
    "plt.ylabel(\"Promedio\")\n",
    "plt.xticks(rotation=45)\n",
    "plt.show()"
   ]
  }
 ],
 "metadata": {
  "language_info": {
   "name": "python"
  },
  "orig_nbformat": 4
 },
 "nbformat": 4,
 "nbformat_minor": 2
}
