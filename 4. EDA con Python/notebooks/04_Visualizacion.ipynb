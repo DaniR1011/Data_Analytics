{
 "cells": [
  {
   "cell_type": "markdown",
   "metadata": {},
   "source": [
    "# Fase 4: Visualización de los datos"
   ]
  },
  {
   "cell_type": "markdown",
   "metadata": {},
   "source": [
    "#### 1. Importamos el archivo csv e instalamos las extensiones necesarias"
   ]
  },
  {
   "cell_type": "code",
   "execution_count": null,
   "metadata": {},
   "outputs": [],
   "source": [
    "import pandas as pd\n",
    "import matplotlib.pyplot as plt\n",
    "import seaborn as sns\n",
    "\n",
    "df = pd.read_csv('../data/transform_data/bank_clean.csv', low_memory=False)"
   ]
  },
  {
   "cell_type": "markdown",
   "metadata": {},
   "source": [
    "#### 2. Histograma columna 'age'"
   ]
  },
  {
   "cell_type": "code",
   "execution_count": null,
   "metadata": {},
   "outputs": [],
   "source": [
    "# Podemos observar la frecuencia de valores sobre la columna age\n",
    "plt.figure(figsize=(10, 6))\n",
    "sns.histplot(df['age'], kde=True)\n",
    "plt.title('Distribución de Age')\n",
    "plt.xlabel('Age')\n",
    "plt.ylabel('Frecuencia')\n",
    "plt.show()"
   ]
  },
  {
   "cell_type": "markdown",
   "metadata": {},
   "source": [
    "#### 3. Countplot de la columna 'education'"
   ]
  },
  {
   "cell_type": "code",
   "execution_count": null,
   "metadata": {},
   "outputs": [],
   "source": [
    "# A través de un Countplot observamos la distribución en la columna 'education'\n",
    "plt.figure(figsize=(10, 6))\n",
    "sns.countplot(x='education', data=df)\n",
    "plt.title('Distribución de Education')\n",
    "plt.xlabel('Education')\n",
    "plt.ylabel('Frecuencia')\n",
    "plt.xticks(rotation=45)\n",
    "plt.show()"
   ]
  },
  {
   "cell_type": "markdown",
   "metadata": {},
   "source": [
    "#### 4. Scatter plot de 'age' y 'duration'"
   ]
  },
  {
   "cell_type": "code",
   "execution_count": null,
   "metadata": {},
   "outputs": [],
   "source": [
    "# Muestra la relación entre la edad de los clientes y la duración de la última llamada\n",
    "plt.figure(figsize=(10, 6))\n",
    "sns.scatterplot(x='age', y='duration', data=df)\n",
    "plt.title('Relación entre Age y Duration')\n",
    "plt.xlabel('Age')\n",
    "plt.ylabel('Duration')\n",
    "plt.show()"
   ]
  },
  {
   "cell_type": "markdown",
   "metadata": {},
   "source": [
    "#### 5. Pie chart de la columna 'marital'"
   ]
  },
  {
   "cell_type": "code",
   "execution_count": null,
   "metadata": {},
   "outputs": [],
   "source": [
    "df[\"marital\"].value_counts().plot.pie(autopct=\"%1.1f%%\", figsize=(10, 6))\n",
    "plt.title(\"Proporción Marital\")\n",
    "plt.ylabel(\"\")\n",
    "plt.show()"
   ]
  },
  {
   "cell_type": "markdown",
   "metadata": {},
   "source": [
    "#### 6. Boxplot entre 'income' y 'marital'"
   ]
  },
  {
   "cell_type": "code",
   "execution_count": null,
   "metadata": {},
   "outputs": [],
   "source": [
    "# Muestra la distribución de los ingresos de los clientes según su estado civil\n",
    "plt.figure(figsize=(10, 6))\n",
    "sns.boxplot(x='marital', y='Income', data=df)\n",
    "plt.title('Distribución de Ingresos según Marital')\n",
    "plt.xlabel('Marital')\n",
    "plt.ylabel('Income')\n",
    "plt.show()"
   ]
  },
  {
   "cell_type": "markdown",
   "metadata": {},
   "source": [
    "#### 7. Heatmap entre 'housing' y 'loan'"
   ]
  },
  {
   "cell_type": "code",
   "execution_count": null,
   "metadata": {},
   "outputs": [],
   "source": [
    "# Muestra la relación entre la posesión de un préstamo hipotecario (housing) y un préstamo personal (loan)\n",
    "housing_loan = pd.crosstab(df['housing'], df['loan'], normalize='index')\n",
    "plt.figure(figsize=(10, 6))\n",
    "sns.heatmap(housing_loan, annot=True, cmap='Blues', fmt='.2f', cbar=False)\n",
    "plt.title('Relación entre Housing y Loan')\n",
    "plt.xlabel('Loan')\n",
    "plt.ylabel('Housing')\n",
    "plt.show()"
   ]
  },
  {
   "cell_type": "markdown",
   "metadata": {},
   "source": [
    "#### 8. Barplot sobre la media de 'duration' según el 'poutcome'"
   ]
  },
  {
   "cell_type": "code",
   "execution_count": null,
   "metadata": {},
   "outputs": [],
   "source": [
    "# Muestra la media de la duración de las llamadas según el resultado de la campaña anterior\n",
    "plt.figure(figsize=(10, 6))\n",
    "sns.barplot(x='poutcome', y='duration', data=df)\n",
    "plt.title('Duration según poutcome')\n",
    "plt.xlabel('Poutcome')\n",
    "plt.ylabel('Duration')\n",
    "plt.xticks(rotation=45)\n",
    "plt.show()"
   ]
  },
  {
   "cell_type": "markdown",
   "metadata": {},
   "source": [
    "#### Conclusiones\n",
    "\n",
    "1. **Histograma columna 'age'**:<br>\n",
    "   La distribución de edades muestra un sesgo hacia la derecha, indicando que la mayoría de los clientes son más jóvenes. La mayoría de los registros se concentran en el rango de 20 a 50 años.<br><br>\n",
    "\n",
    "2. **Countplot columna 'education'**:<br>\n",
    "   La mayoría de los clientes tienen un nivel educativo bajo, específicamente con educación básica de 4 años. Esto puede sugerir que la campaña de marketing está dirigida a personas con un nivel educativo más bajo. <br><br>\n",
    "\n",
    "3. **Scatter plot 'age' y 'duration'**:<br>\n",
    "   No se observa una correlación fuerte entre la edad y la duración de las llamadas. Aunque algunas personas mayores tienen llamadas más largas, no hay un patrón claro que sugiera que la edad influye significativamente en la duración de la llamada.<br><br>\n",
    "\n",
    "4. **Pie chart columna 'marital'**:<br>\n",
    "   La mayoría de los clientes están casados, lo que podría indicar que la campaña está alcanzando predominantemente a personas casadas. El porcentaje de personas solteras es considerablemente menor.<br><br>\n",
    "\n",
    "5. **Cálculo de frecuencias y proporciones**:<br>\n",
    "   Podemos observae que los valores del heatmap, muestran una alta concentración de valores donde housing y loan son True o False juntos, podemos interpretar que las personas que tienen un préstamo hipotecario también tienen un préstamo personal, o que aquellas que no tienen ninguno de los dos, lo mantienen en conjunto.<br><br>"
   ]
  }
 ],
 "metadata": {
  "kernelspec": {
   "display_name": "Python 3.12.0 64-bit",
   "language": "python",
   "name": "python3"
  },
  "language_info": {
   "codemirror_mode": {
    "name": "ipython",
    "version": 3
   },
   "file_extension": ".py",
   "mimetype": "text/x-python",
   "name": "python",
   "nbconvert_exporter": "python",
   "pygments_lexer": "ipython3",
   "version": "3.12.0"
  },
  "orig_nbformat": 4,
  "vscode": {
   "interpreter": {
    "hash": "aee8b7b246df8f9039afb4144a1f6fd8d2ca17a180786b69acc140d282b71a49"
   }
  }
 },
 "nbformat": 4,
 "nbformat_minor": 2
}
