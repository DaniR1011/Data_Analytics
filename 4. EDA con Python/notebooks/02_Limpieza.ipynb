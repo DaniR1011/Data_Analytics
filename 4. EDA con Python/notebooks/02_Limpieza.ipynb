{
 "cells": [
  {
   "cell_type": "markdown",
   "metadata": {},
   "source": [
    "# Fase 2: Limpieza y Transformación"
   ]
  },
  {
   "cell_type": "markdown",
   "metadata": {},
   "source": [
    "#### 1. Importamos el fichero csv que contiene la data transformada, y añadimos low_memory para evitar que salga la advertencia con el tipo de datos mezclados. Cambiaremos el tipo de dato más adelante"
   ]
  },
  {
   "cell_type": "code",
   "execution_count": 1,
   "metadata": {},
   "outputs": [],
   "source": [
    "import pandas as pd\n",
    "df = pd.read_csv('../data/transform_data/transform_Data.csv', low_memory=False)"
   ]
  },
  {
   "cell_type": "markdown",
   "metadata": {},
   "source": [
    "#### 2. Analizamos si existen o no valores duplicados, para poder reducir el tamaño del archivo y mejorar la velocidad del fichero"
   ]
  },
  {
   "cell_type": "code",
   "execution_count": 2,
   "metadata": {},
   "outputs": [
    {
     "name": "stdout",
     "output_type": "stream",
     "text": [
      "No existen valores duplicados\n",
      "0\n"
     ]
    }
   ],
   "source": [
    "# Comprobamos si existen valores duplicados\n",
    "if df.duplicated().values.any():\n",
    "    print(\"Existen valores duplicados por eliminar\")\n",
    "else:\n",
    "    print(\"No existen valores duplicados\")\n",
    "\n",
    "# Comprobamos y verificamos que no existen valores duplicados\n",
    "print(df.duplicated().sum())"
   ]
  },
  {
   "cell_type": "markdown",
   "metadata": {},
   "source": [
    "#### 3. Analizamos y eliminamos los valores nulos existentes, con el fin de obtener un set de datos lo más eficiente posible"
   ]
  },
  {
   "cell_type": "code",
   "execution_count": 3,
   "metadata": {},
   "outputs": [
    {
     "name": "stdout",
     "output_type": "stream",
     "text": [
      "Los valores nulos existentes por columna son:\n",
      "Unnamed: 0               0\n",
      "age                  48290\n",
      "job                  43515\n",
      "marital              43255\n",
      "education            44977\n",
      "default              52151\n",
      "housing              44196\n",
      "loan                 44196\n",
      "contact              43170\n",
      "duration             43170\n",
      "campaign             43170\n",
      "pdays                43170\n",
      "previous             43170\n",
      "poutcome             43170\n",
      "emp.var.rate         43170\n",
      "cons.price.idx       43641\n",
      "cons.conf.idx        43170\n",
      "euribor3m            52426\n",
      "nr.employed          43170\n",
      "y                    43170\n",
      "date                 43418\n",
      "latitude             43170\n",
      "longitude            43170\n",
      "id_                      0\n",
      "Income               43000\n",
      "Kidhome              43000\n",
      "Teenhome             43000\n",
      "Dt_Customer          43000\n",
      "NumWebVisitsMonth    43000\n",
      "dtype: int64\n"
     ]
    }
   ],
   "source": [
    "# Calculamos cuantos valores nulos existen\n",
    "print(\"Los valores nulos existentes por columna son:\")\n",
    "print(df.isnull().sum())"
   ]
  },
  {
   "cell_type": "code",
   "execution_count": 4,
   "metadata": {},
   "outputs": [
    {
     "name": "stdout",
     "output_type": "stream",
     "text": [
      "✅ Todos los valores nulos han sido reemplazados por 0.\n"
     ]
    }
   ],
   "source": [
    "# Reemplazamos los valores nulos por 0\n",
    "df.fillna(0, inplace=True)\n",
    "print(\"✅ Todos los valores nulos han sido reemplazados por 0.\")"
   ]
  },
  {
   "cell_type": "code",
   "execution_count": 5,
   "metadata": {},
   "outputs": [
    {
     "name": "stdout",
     "output_type": "stream",
     "text": [
      "✅ Todos los valores nulos han sido reemplazados por 0.\n",
      "Unnamed: 0           0\n",
      "age                  0\n",
      "job                  0\n",
      "marital              0\n",
      "education            0\n",
      "default              0\n",
      "housing              0\n",
      "loan                 0\n",
      "contact              0\n",
      "duration             0\n",
      "campaign             0\n",
      "pdays                0\n",
      "previous             0\n",
      "poutcome             0\n",
      "emp.var.rate         0\n",
      "cons.price.idx       0\n",
      "cons.conf.idx        0\n",
      "euribor3m            0\n",
      "nr.employed          0\n",
      "y                    0\n",
      "date                 0\n",
      "latitude             0\n",
      "longitude            0\n",
      "id_                  0\n",
      "Income               0\n",
      "Kidhome              0\n",
      "Teenhome             0\n",
      "Dt_Customer          0\n",
      "NumWebVisitsMonth    0\n",
      "dtype: int64\n"
     ]
    }
   ],
   "source": [
    "# Comprobamos si existen valores nulos\n",
    "if df.isnull().values.any():\n",
    "    print(\"❌ Todavía hay valores nulos en los datos.\")\n",
    "else:\n",
    "    print(\"✅ Todos los valores nulos han sido reemplazados por 0.\")\n",
    "\n",
    "# Comprobamos y verificamos que no existen valores nulos\n",
    "print(df.isnull().sum())"
   ]
  },
  {
   "cell_type": "markdown",
   "metadata": {},
   "source": [
    "#### 4. Revisamos y cambiamos el tipo de dato de cada columna que sea necesario, para obtener una buena práctica, de manera que cada columna, tenga el tipo de dato adecuado"
   ]
  },
  {
   "cell_type": "code",
   "execution_count": 6,
   "metadata": {},
   "outputs": [
    {
     "name": "stdout",
     "output_type": "stream",
     "text": [
      "Unnamed: 0                    int64\n",
      "age                           int64\n",
      "job                          object\n",
      "marital                      object\n",
      "education                    object\n",
      "default                        bool\n",
      "housing                        bool\n",
      "loan                           bool\n",
      "contact                      object\n",
      "duration                    float64\n",
      "campaign                    float64\n",
      "pdays                       float64\n",
      "previous                    float64\n",
      "poutcome                     object\n",
      "emp.var.rate                float64\n",
      "cons.price.idx              float64\n",
      "cons.conf.idx               float64\n",
      "euribor3m                   float64\n",
      "nr.employed                 float64\n",
      "y                            object\n",
      "date                 datetime64[ns]\n",
      "latitude                    float64\n",
      "longitude                   float64\n",
      "id_                  string[python]\n",
      "Income                      float64\n",
      "Kidhome                       int64\n",
      "Teenhome                      int64\n",
      "Dt_Customer          datetime64[ns]\n",
      "NumWebVisitsMonth             int64\n",
      "dtype: object\n"
     ]
    }
   ],
   "source": [
    "# Convertimos 'age' a int\n",
    "df['age'] = df['age'].astype(int)\n",
    "\n",
    "# Convertimos 'default', 'housing', y 'loan' a bool\n",
    "df['default'] = df['default'].astype(bool)\n",
    "df['housing'] = df['housing'].astype(bool)\n",
    "df['loan'] = df['loan'].astype(bool)\n",
    "\n",
    "# Convertimos 'cons.price.idx', 'cons.conf.idx', 'euribor3m', 'nr.employed' a float64. Coerce se encarga de añadir valores NaN\n",
    "df['cons.price.idx'] = pd.to_numeric(df['cons.price.idx'], errors='coerce')\n",
    "df['cons.conf.idx'] = pd.to_numeric(df['cons.conf.idx'], errors='coerce')\n",
    "df['euribor3m'] = pd.to_numeric(df['euribor3m'], errors='coerce')\n",
    "df['nr.employed'] = pd.to_numeric(df['nr.employed'], errors='coerce')\n",
    "\n",
    "# Convertimos 'y' a bool o categoría si es binaria\n",
    "df['y'] = df['y'].map({'yes': True, 'no': False})\n",
    "\n",
    "# Convertirmos 'date' a datetime64, especificamos el formato de fecha para que no genere conflicto\n",
    "df['date'] = pd.to_datetime(df['date'], format='%Y-%m-%d', errors='coerce')\n",
    "\n",
    "# Convertimos 'id_' a string, puesto que es más eficiente en Pandas\n",
    "df['id_'] = df['id_'].astype('string')\n",
    "\n",
    "# Convertimos 'Kidhome', 'Teenhome' a int, para no permitir valores decimales\n",
    "df['Kidhome'] = df['Kidhome'].fillna(0).astype('int')\n",
    "df['Teenhome'] = df['Teenhome'].fillna(0).astype('int')\n",
    "\n",
    "# Usamos el errors='coerce', para convertir valores no válidos en NaT\n",
    "df['Dt_Customer'] = pd.to_datetime(df['Dt_Customer'], errors='coerce')\n",
    "\n",
    "# Convertimos 'NumWebVisitsMonth' a int, para evitar valores decimales\n",
    "df['NumWebVisitsMonth'] = df['NumWebVisitsMonth'].fillna(0).astype('int')\n",
    "\n",
    "# Verificamos los tipos de datos después de los cambios\n",
    "print(df.dtypes)"
   ]
  },
  {
   "cell_type": "markdown",
   "metadata": {},
   "source": [
    "#### 5. Realizamos la estandarización de valores categóricos, para evitar posibles conflictos que nos pueda causar el set de datos. Esto es útil a la hora de una búsqueda específica de valores, que contengan espacios y causen conflicto"
   ]
  },
  {
   "cell_type": "code",
   "execution_count": 7,
   "metadata": {},
   "outputs": [
    {
     "name": "stdout",
     "output_type": "stream",
     "text": [
      "   Unnamed: 0  age        job  marital    education  default  housing   loan  \\\n",
      "0           0    0  housemaid  married     basic.4y    False    False  False   \n",
      "1           1   57   services  married  high.school    False    False  False   \n",
      "2           2   37   services  married  high.school    False     True  False   \n",
      "3           3   40     admin.  married     basic.6y    False    False  False   \n",
      "4           4   56   services  married  high.school    False    False   True   \n",
      "\n",
      "     contact  duration  ...      y  date  latitude longitude  \\\n",
      "0  telephone     261.0  ...  false   NaT    41.495   -71.233   \n",
      "1  telephone     149.0  ...  false   NaT    34.601   -83.923   \n",
      "2  telephone     226.0  ...  false   NaT    34.939   -94.847   \n",
      "3  telephone     151.0  ...  false   NaT    49.041   -70.308   \n",
      "4  telephone     307.0  ...  false   NaT    38.033  -104.463   \n",
      "\n",
      "                                    id_  Income  Kidhome  Teenhome  \\\n",
      "0  089b39d8-e4d0-461b-87d4-814d71e0e079     0.0        0         0   \n",
      "1  e9d37224-cb6f-4942-98d7-46672963d097     0.0        0         0   \n",
      "2  3f9f49b5-e410-4948-bf6e-f9244f04918b     0.0        0         0   \n",
      "3  9991fafb-4447-451a-8be2-b0df6098d13e     0.0        0         0   \n",
      "4  eca60b76-70b6-4077-80ba-bc52e8ebb0eb     0.0        0         0   \n",
      "\n",
      "   Dt_Customer NumWebVisitsMonth  \n",
      "0   1970-01-01                 0  \n",
      "1   1970-01-01                 0  \n",
      "2   1970-01-01                 0  \n",
      "3   1970-01-01                 0  \n",
      "4   1970-01-01                 0  \n",
      "\n",
      "[5 rows x 29 columns]\n"
     ]
    }
   ],
   "source": [
    "for columna in df.select_dtypes(include=['object']).columns:\n",
    "    # Rellenar NaN con una cadena vacía y luego aplicar las transformaciones\n",
    "    df[columna] = df[columna].fillna('').astype(str).str.strip().str.lower()\n",
    "\n",
    "# Verificamos que se aplicaron los cambios\n",
    "print(df.head())"
   ]
  },
  {
   "cell_type": "markdown",
   "metadata": {},
   "source": [
    "#### 6. Modificamos el nombre de las columnas necesarias, de modo que las columnas que contienen un punto (.) en su nombre, generan conflicto cuando hacemos la llamada dentro de una función"
   ]
  },
  {
   "cell_type": "code",
   "execution_count": 8,
   "metadata": {},
   "outputs": [],
   "source": [
    "# Modificamos las columnas que poseen caracteres que pueden causar conflicto\n",
    "df.rename(columns={'emp.var.rate': 'emp_var_rate'}, inplace=True)\n",
    "df.rename(columns={'cons.price.idx': 'cons_price_idx'}, inplace=True)\n",
    "df.rename(columns={'cons.conf.idx': 'cons_conf_idx'}, inplace=True)\n",
    "df.rename(columns={'nr.employed': 'nr_employed'}, inplace=True)\n",
    "\n",
    "# Modificamos el nombre de esta columna, para mantener la misma estructura en todas, es decir, guión bajo entre cada palabra.\n",
    "df.rename(columns={'NumWebVisitsMonth': 'Num_Web_Visits_Month'}, inplace=True)"
   ]
  },
  {
   "cell_type": "markdown",
   "metadata": {},
   "source": [
    "#### 7. Verificamos que se han realizado todas las transformaciones"
   ]
  },
  {
   "cell_type": "code",
   "execution_count": 9,
   "metadata": {},
   "outputs": [
    {
     "data": {
      "text/plain": [
       "Unnamed: 0                       int64\n",
       "age                              int64\n",
       "job                             object\n",
       "marital                         object\n",
       "education                       object\n",
       "default                           bool\n",
       "housing                           bool\n",
       "loan                              bool\n",
       "contact                         object\n",
       "duration                       float64\n",
       "campaign                       float64\n",
       "pdays                          float64\n",
       "previous                       float64\n",
       "poutcome                        object\n",
       "emp_var_rate                   float64\n",
       "cons_price_idx                 float64\n",
       "cons_conf_idx                  float64\n",
       "euribor3m                      float64\n",
       "nr_employed                    float64\n",
       "y                               object\n",
       "date                    datetime64[ns]\n",
       "latitude                       float64\n",
       "longitude                      float64\n",
       "id_                     string[python]\n",
       "Income                         float64\n",
       "Kidhome                          int64\n",
       "Teenhome                         int64\n",
       "Dt_Customer             datetime64[ns]\n",
       "Num_Web_Visits_Month             int64\n",
       "dtype: object"
      ]
     },
     "execution_count": 9,
     "metadata": {},
     "output_type": "execute_result"
    }
   ],
   "source": [
    "df.dtypes"
   ]
  }
 ],
 "metadata": {
  "kernelspec": {
   "display_name": "Python 3.12.0 64-bit",
   "language": "python",
   "name": "python3"
  },
  "language_info": {
   "codemirror_mode": {
    "name": "ipython",
    "version": 3
   },
   "file_extension": ".py",
   "mimetype": "text/x-python",
   "name": "python",
   "nbconvert_exporter": "python",
   "pygments_lexer": "ipython3",
   "version": "3.12.0"
  },
  "orig_nbformat": 4,
  "vscode": {
   "interpreter": {
    "hash": "aee8b7b246df8f9039afb4144a1f6fd8d2ca17a180786b69acc140d282b71a49"
   }
  }
 },
 "nbformat": 4,
 "nbformat_minor": 2
}
