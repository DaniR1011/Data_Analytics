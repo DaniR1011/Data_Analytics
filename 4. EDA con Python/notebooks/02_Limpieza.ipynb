{
 "cells": [
  {
   "cell_type": "markdown",
   "metadata": {},
   "source": [
    "# Fase 2: Limpieza y Transformación"
   ]
  },
  {
   "cell_type": "markdown",
   "metadata": {},
   "source": [
    "#### 1. Importamos las librerías necesarias"
   ]
  },
  {
   "cell_type": "code",
   "execution_count": null,
   "metadata": {},
   "outputs": [],
   "source": [
    "import sys\n",
    "import pandas as pd"
   ]
  },
  {
   "cell_type": "markdown",
   "metadata": {},
   "source": [
    "#### 2. Agregamos la ruta de nuestro archivo .py e importamos la función y los diccionarios"
   ]
  },
  {
   "cell_type": "code",
   "execution_count": null,
   "metadata": {},
   "outputs": [],
   "source": [
    "# Agregamos la ruta\n",
    "sys.path.append('../')\n",
    "\n",
    "# Importamos la función procesar_dataframe de limpieza.py\n",
    "from src.limpieza import procesar_dataframe\n",
    "\n",
    "# Importamos los dos diccionarios de variables.py\n",
    "from src.variables import cambiar_nombre_columnas, cambiar_tipo_columnas"
   ]
  },
  {
   "cell_type": "markdown",
   "metadata": {},
   "source": [
    "#### 3. Cargamos el dataframe transformado, hacemos la llamada a la función y comprobamos los cambios"
   ]
  },
  {
   "cell_type": "code",
   "execution_count": null,
   "metadata": {},
   "outputs": [],
   "source": [
    "# Cargamos el DataFrame\n",
    "df_csv = pd.read_csv('../data/transform_data/transform_Data.csv', low_memory=False)\n",
    "\n",
    "# Llamamos a la función procesar_dataframe con los diccionarios importados\n",
    "df = procesar_dataframe(df_csv, cambiar_nombre_columnas, cambiar_tipo_columnas)\n",
    "\n",
    "# Verificamos el resultado mostrando las primeras filas\n",
    "df.dtypes"
   ]
  },
  {
   "cell_type": "markdown",
   "metadata": {},
   "source": [
    "#### 4. Analizamos si existen o no valores duplicados, para poder reducir el tamaño del archivo y mejorar la velocidad del fichero"
   ]
  },
  {
   "cell_type": "code",
   "execution_count": null,
   "metadata": {},
   "outputs": [],
   "source": [
    "# Comprobamos si existen valores duplicados\n",
    "if df.duplicated().values.any():\n",
    "    print(\"Existen valores duplicados por eliminar\")\n",
    "else:\n",
    "    print(\"No existen valores duplicados\")\n",
    "\n",
    "# Comprobamos y verificamos que no existen valores duplicados\n",
    "print(df.duplicated().sum())"
   ]
  },
  {
   "cell_type": "markdown",
   "metadata": {},
   "source": [
    "#### 5. Analizamos y eliminamos los valores nulos existentes, con el fin de obtener un set de datos lo más eficiente posible"
   ]
  },
  {
   "cell_type": "code",
   "execution_count": null,
   "metadata": {},
   "outputs": [],
   "source": [
    "# Calculamos cuantos valores nulos existen\n",
    "print(\"Los valores nulos existentes por columna son:\")\n",
    "print(df.isnull().sum())"
   ]
  },
  {
   "cell_type": "code",
   "execution_count": null,
   "metadata": {},
   "outputs": [],
   "source": [
    "# Reemplazamos los valores nulos por 0\n",
    "df.fillna(0, inplace=True)\n",
    "print(\"✅ Todos los valores nulos han sido reemplazados por 0.\")"
   ]
  },
  {
   "cell_type": "code",
   "execution_count": null,
   "metadata": {},
   "outputs": [],
   "source": [
    "# Comprobamos si existen valores nulos\n",
    "if df.isnull().values.any():\n",
    "    print(\"❌ Todavía hay valores nulos en los datos.\")\n",
    "else:\n",
    "    print(\"✅ Todos los valores nulos han sido reemplazados por 0.\")\n",
    "\n",
    "# Comprobamos y verificamos que no existen valores nulos\n",
    "print(df.isnull().sum())"
   ]
  },
  {
   "cell_type": "markdown",
   "metadata": {},
   "source": [
    "#### 6. Realizamos la estandarización de valores categóricos, para evitar posibles conflictos que nos pueda causar el set de datos. Esto es útil a la hora de una búsqueda específica de valores, que contengan espacios y causen conflicto"
   ]
  },
  {
   "cell_type": "code",
   "execution_count": null,
   "metadata": {},
   "outputs": [],
   "source": [
    "for columna in df.select_dtypes(include=['object']).columns:\n",
    "    # Rellenar NaN con una cadena vacía y luego aplicar las transformaciones\n",
    "    df[columna] = df[columna].fillna('').astype(str).str.strip().str.lower()\n",
    "\n",
    "# Verificamos que se aplicaron los cambios\n",
    "print(df.head())"
   ]
  }
 ],
 "metadata": {
  "language_info": {
   "name": "python"
  },
  "orig_nbformat": 4
 },
 "nbformat": 4,
 "nbformat_minor": 2
}
