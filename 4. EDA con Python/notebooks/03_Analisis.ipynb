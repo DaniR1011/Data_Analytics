{
 "cells": [
  {
   "cell_type": "markdown",
   "metadata": {},
   "source": [
    "# Fase 3: Análisis descriptivo de los datos"
   ]
  },
  {
   "cell_type": "markdown",
   "metadata": {},
   "source": [
    "#### 1. Importamos el archivo csv y procedemos a realizar el análisis de los datos"
   ]
  },
  {
   "cell_type": "code",
   "execution_count": null,
   "metadata": {},
   "outputs": [],
   "source": [
    "import pandas as pd\n",
    "df = pd.read_csv('../data/transform_data/transform_Data.csv', low_memory=False)"
   ]
  },
  {
   "cell_type": "markdown",
   "metadata": {},
   "source": [
    "#### 2. Analizamos las estadísticas de nuestras columnas numéricas"
   ]
  },
  {
   "cell_type": "code",
   "execution_count": null,
   "metadata": {},
   "outputs": [
    {
     "data": {
      "text/html": [
       "<div>\n",
       "<style scoped>\n",
       "    .dataframe tbody tr th:only-of-type {\n",
       "        vertical-align: middle;\n",
       "    }\n",
       "\n",
       "    .dataframe tbody tr th {\n",
       "        vertical-align: top;\n",
       "    }\n",
       "\n",
       "    .dataframe thead th {\n",
       "        text-align: right;\n",
       "    }\n",
       "</style>\n",
       "<table border=\"1\" class=\"dataframe\">\n",
       "  <thead>\n",
       "    <tr style=\"text-align: right;\">\n",
       "      <th></th>\n",
       "      <th>Unnamed: 0</th>\n",
       "      <th>age</th>\n",
       "      <th>default</th>\n",
       "      <th>housing</th>\n",
       "      <th>loan</th>\n",
       "      <th>duration</th>\n",
       "      <th>campaign</th>\n",
       "      <th>pdays</th>\n",
       "      <th>previous</th>\n",
       "      <th>emp.var.rate</th>\n",
       "      <th>latitude</th>\n",
       "      <th>longitude</th>\n",
       "      <th>Income</th>\n",
       "      <th>Kidhome</th>\n",
       "      <th>Teenhome</th>\n",
       "      <th>NumWebVisitsMonth</th>\n",
       "    </tr>\n",
       "  </thead>\n",
       "  <tbody>\n",
       "    <tr>\n",
       "      <th>count</th>\n",
       "      <td>86170.000000</td>\n",
       "      <td>37880.000000</td>\n",
       "      <td>34019.000000</td>\n",
       "      <td>41974.000000</td>\n",
       "      <td>41974.000000</td>\n",
       "      <td>43000.000000</td>\n",
       "      <td>43000.000000</td>\n",
       "      <td>43000.000000</td>\n",
       "      <td>43000.000000</td>\n",
       "      <td>43000.000000</td>\n",
       "      <td>43000.000000</td>\n",
       "      <td>43000.000000</td>\n",
       "      <td>43170.000000</td>\n",
       "      <td>43170.000000</td>\n",
       "      <td>43170.000000</td>\n",
       "      <td>43170.000000</td>\n",
       "    </tr>\n",
       "    <tr>\n",
       "      <th>mean</th>\n",
       "      <td>14270.998596</td>\n",
       "      <td>39.977112</td>\n",
       "      <td>0.000088</td>\n",
       "      <td>0.535998</td>\n",
       "      <td>0.155620</td>\n",
       "      <td>257.739279</td>\n",
       "      <td>2.567233</td>\n",
       "      <td>962.330953</td>\n",
       "      <td>0.174023</td>\n",
       "      <td>0.077128</td>\n",
       "      <td>36.856697</td>\n",
       "      <td>-95.939067</td>\n",
       "      <td>93227.389622</td>\n",
       "      <td>1.004749</td>\n",
       "      <td>0.998633</td>\n",
       "      <td>16.591290</td>\n",
       "    </tr>\n",
       "    <tr>\n",
       "      <th>std</th>\n",
       "      <td>11159.482173</td>\n",
       "      <td>10.437957</td>\n",
       "      <td>0.009390</td>\n",
       "      <td>0.498708</td>\n",
       "      <td>0.362499</td>\n",
       "      <td>258.666033</td>\n",
       "      <td>2.772294</td>\n",
       "      <td>187.260394</td>\n",
       "      <td>0.497366</td>\n",
       "      <td>1.573898</td>\n",
       "      <td>7.225948</td>\n",
       "      <td>16.752282</td>\n",
       "      <td>50498.181989</td>\n",
       "      <td>0.815996</td>\n",
       "      <td>0.816008</td>\n",
       "      <td>9.241769</td>\n",
       "    </tr>\n",
       "    <tr>\n",
       "      <th>min</th>\n",
       "      <td>0.000000</td>\n",
       "      <td>17.000000</td>\n",
       "      <td>0.000000</td>\n",
       "      <td>0.000000</td>\n",
       "      <td>0.000000</td>\n",
       "      <td>0.000000</td>\n",
       "      <td>1.000000</td>\n",
       "      <td>0.000000</td>\n",
       "      <td>0.000000</td>\n",
       "      <td>-3.400000</td>\n",
       "      <td>24.396000</td>\n",
       "      <td>-124.997000</td>\n",
       "      <td>5841.000000</td>\n",
       "      <td>0.000000</td>\n",
       "      <td>0.000000</td>\n",
       "      <td>1.000000</td>\n",
       "    </tr>\n",
       "    <tr>\n",
       "      <th>25%</th>\n",
       "      <td>5351.250000</td>\n",
       "      <td>32.000000</td>\n",
       "      <td>0.000000</td>\n",
       "      <td>0.000000</td>\n",
       "      <td>0.000000</td>\n",
       "      <td>102.000000</td>\n",
       "      <td>1.000000</td>\n",
       "      <td>999.000000</td>\n",
       "      <td>0.000000</td>\n",
       "      <td>-1.800000</td>\n",
       "      <td>30.614750</td>\n",
       "      <td>-110.494250</td>\n",
       "      <td>49608.000000</td>\n",
       "      <td>0.000000</td>\n",
       "      <td>0.000000</td>\n",
       "      <td>9.000000</td>\n",
       "    </tr>\n",
       "    <tr>\n",
       "      <th>50%</th>\n",
       "      <td>11235.500000</td>\n",
       "      <td>38.000000</td>\n",
       "      <td>0.000000</td>\n",
       "      <td>1.000000</td>\n",
       "      <td>0.000000</td>\n",
       "      <td>179.000000</td>\n",
       "      <td>2.000000</td>\n",
       "      <td>999.000000</td>\n",
       "      <td>0.000000</td>\n",
       "      <td>1.100000</td>\n",
       "      <td>36.761000</td>\n",
       "      <td>-95.899500</td>\n",
       "      <td>93009.500000</td>\n",
       "      <td>1.000000</td>\n",
       "      <td>1.000000</td>\n",
       "      <td>17.000000</td>\n",
       "    </tr>\n",
       "    <tr>\n",
       "      <th>75%</th>\n",
       "      <td>20600.750000</td>\n",
       "      <td>47.000000</td>\n",
       "      <td>0.000000</td>\n",
       "      <td>1.000000</td>\n",
       "      <td>0.000000</td>\n",
       "      <td>319.000000</td>\n",
       "      <td>3.000000</td>\n",
       "      <td>999.000000</td>\n",
       "      <td>0.000000</td>\n",
       "      <td>1.400000</td>\n",
       "      <td>43.113250</td>\n",
       "      <td>-81.427750</td>\n",
       "      <td>136740.500000</td>\n",
       "      <td>2.000000</td>\n",
       "      <td>2.000000</td>\n",
       "      <td>25.000000</td>\n",
       "    </tr>\n",
       "    <tr>\n",
       "      <th>max</th>\n",
       "      <td>41187.000000</td>\n",
       "      <td>98.000000</td>\n",
       "      <td>1.000000</td>\n",
       "      <td>1.000000</td>\n",
       "      <td>1.000000</td>\n",
       "      <td>4918.000000</td>\n",
       "      <td>56.000000</td>\n",
       "      <td>999.000000</td>\n",
       "      <td>7.000000</td>\n",
       "      <td>1.400000</td>\n",
       "      <td>49.384000</td>\n",
       "      <td>-66.937000</td>\n",
       "      <td>180802.000000</td>\n",
       "      <td>2.000000</td>\n",
       "      <td>2.000000</td>\n",
       "      <td>32.000000</td>\n",
       "    </tr>\n",
       "  </tbody>\n",
       "</table>\n",
       "</div>"
      ],
      "text/plain": [
       "         Unnamed: 0           age       default       housing          loan  \\\n",
       "count  86170.000000  37880.000000  34019.000000  41974.000000  41974.000000   \n",
       "mean   14270.998596     39.977112      0.000088      0.535998      0.155620   \n",
       "std    11159.482173     10.437957      0.009390      0.498708      0.362499   \n",
       "min        0.000000     17.000000      0.000000      0.000000      0.000000   \n",
       "25%     5351.250000     32.000000      0.000000      0.000000      0.000000   \n",
       "50%    11235.500000     38.000000      0.000000      1.000000      0.000000   \n",
       "75%    20600.750000     47.000000      0.000000      1.000000      0.000000   \n",
       "max    41187.000000     98.000000      1.000000      1.000000      1.000000   \n",
       "\n",
       "           duration      campaign         pdays      previous  emp.var.rate  \\\n",
       "count  43000.000000  43000.000000  43000.000000  43000.000000  43000.000000   \n",
       "mean     257.739279      2.567233    962.330953      0.174023      0.077128   \n",
       "std      258.666033      2.772294    187.260394      0.497366      1.573898   \n",
       "min        0.000000      1.000000      0.000000      0.000000     -3.400000   \n",
       "25%      102.000000      1.000000    999.000000      0.000000     -1.800000   \n",
       "50%      179.000000      2.000000    999.000000      0.000000      1.100000   \n",
       "75%      319.000000      3.000000    999.000000      0.000000      1.400000   \n",
       "max     4918.000000     56.000000    999.000000      7.000000      1.400000   \n",
       "\n",
       "           latitude     longitude         Income       Kidhome      Teenhome  \\\n",
       "count  43000.000000  43000.000000   43170.000000  43170.000000  43170.000000   \n",
       "mean      36.856697    -95.939067   93227.389622      1.004749      0.998633   \n",
       "std        7.225948     16.752282   50498.181989      0.815996      0.816008   \n",
       "min       24.396000   -124.997000    5841.000000      0.000000      0.000000   \n",
       "25%       30.614750   -110.494250   49608.000000      0.000000      0.000000   \n",
       "50%       36.761000    -95.899500   93009.500000      1.000000      1.000000   \n",
       "75%       43.113250    -81.427750  136740.500000      2.000000      2.000000   \n",
       "max       49.384000    -66.937000  180802.000000      2.000000      2.000000   \n",
       "\n",
       "       NumWebVisitsMonth  \n",
       "count       43170.000000  \n",
       "mean           16.591290  \n",
       "std             9.241769  \n",
       "min             1.000000  \n",
       "25%             9.000000  \n",
       "50%            17.000000  \n",
       "75%            25.000000  \n",
       "max            32.000000  "
      ]
     },
     "metadata": {},
     "output_type": "display_data"
    }
   ],
   "source": [
    "# Calculamos la media, mediana, mínimo, máximo, percentiles, desviación estándar.\n",
    "df.describe()"
   ]
  },
  {
   "cell_type": "markdown",
   "metadata": {},
   "source": [
    "#### 3. Confirmamos los valores recibidos en describe, calculando la duración media de las llamadas telefónicas"
   ]
  },
  {
   "cell_type": "code",
   "execution_count": null,
   "metadata": {},
   "outputs": [
    {
     "name": "stdout",
     "output_type": "stream",
     "text": [
      "257.73927906976746\n"
     ]
    }
   ],
   "source": [
    "# Calculamos la media de la columna 'duration' en segundos\n",
    "print(df['duration'].mean())"
   ]
  },
  {
   "cell_type": "markdown",
   "metadata": {},
   "source": [
    "#### 4. Calculamos la varianza"
   ]
  },
  {
   "cell_type": "code",
   "execution_count": null,
   "metadata": {},
   "outputs": [
    {
     "name": "stdout",
     "output_type": "stream",
     "text": [
      "66908.11679475455\n"
     ]
    }
   ],
   "source": [
    "# La varianza nos indica cómo de dispersos están los datos respecto de la duración media de la llamada\n",
    "print(df['duration'].var())"
   ]
  },
  {
   "cell_type": "markdown",
   "metadata": {},
   "source": [
    "#### 5. Calculamos el rango"
   ]
  },
  {
   "cell_type": "code",
   "execution_count": null,
   "metadata": {},
   "outputs": [
    {
     "name": "stdout",
     "output_type": "stream",
     "text": [
      "4918.0\n"
     ]
    }
   ],
   "source": [
    "# El rango es la diferencia entre el valor máximo y el valor mínimo, es decir, la diferencia entre la llamada de menor y mayor duración\n",
    "print(df['duration'].max() - df['duration'].min())"
   ]
  },
  {
   "cell_type": "markdown",
   "metadata": {},
   "source": [
    "#### 6. Calculamos el coeficiente de variación (cv)"
   ]
  },
  {
   "cell_type": "code",
   "execution_count": null,
   "metadata": {},
   "outputs": [
    {
     "name": "stdout",
     "output_type": "stream",
     "text": [
      "100.35957043722476\n"
     ]
    }
   ],
   "source": [
    "# El CV es la relación entre la desviación estándar y la media. La fórmula es: (DE / Media) * 100\n",
    "print(df['duration'].std() / df['duration'].mean() * 100)"
   ]
  },
  {
   "cell_type": "markdown",
   "metadata": {},
   "source": [
    "#### 7. Calculamos las estadísticas de variables categóricas"
   ]
  },
  {
   "cell_type": "code",
   "execution_count": null,
   "metadata": {},
   "outputs": [
    {
     "name": "stdout",
     "output_type": "stream",
     "text": [
      "age\n",
      "31.0    1810\n",
      "33.0    1704\n",
      "32.0    1672\n",
      "36.0    1649\n",
      "34.0    1608\n",
      "        ... \n",
      "98.0       2\n",
      "89.0       2\n",
      "95.0       1\n",
      "87.0       1\n",
      "94.0       1\n",
      "Name: count, Length: 78, dtype: int64\n"
     ]
    }
   ],
   "source": [
    "# Calculamos la frecuencia de la columna seleccionada\n",
    "print(df['age'].value_counts())"
   ]
  },
  {
   "cell_type": "markdown",
   "metadata": {},
   "source": [
    "#### 8. Calculamos el recuento total y el porcentaje de valores nulos"
   ]
  },
  {
   "cell_type": "code",
   "execution_count": null,
   "metadata": {},
   "outputs": [
    {
     "name": "stdout",
     "output_type": "stream",
     "text": [
      "Unnamed: 0            0.000000\n",
      "age                  56.040385\n",
      "job                  50.499014\n",
      "marital              50.197284\n",
      "education            52.195660\n",
      "default              60.521063\n",
      "housing              51.289312\n",
      "loan                 51.289312\n",
      "contact              50.098642\n",
      "duration             50.098642\n",
      "campaign             50.098642\n",
      "pdays                50.098642\n",
      "previous             50.098642\n",
      "poutcome             50.098642\n",
      "emp.var.rate         50.098642\n",
      "cons.price.idx       50.645236\n",
      "cons.conf.idx        50.098642\n",
      "euribor3m            60.840200\n",
      "nr.employed          50.098642\n",
      "y                    50.098642\n",
      "date                 50.386445\n",
      "latitude             50.098642\n",
      "longitude            50.098642\n",
      "id_                   0.000000\n",
      "Income               49.901358\n",
      "Kidhome              49.901358\n",
      "Teenhome             49.901358\n",
      "Dt_Customer          49.901358\n",
      "NumWebVisitsMonth    49.901358\n",
      "dtype: float64\n"
     ]
    }
   ],
   "source": [
    "# Calculamos el porcentaje con el * 100, y con el .mean() obtenemos la media de valores\n",
    "print(df.isnull().mean() * 100)"
   ]
  },
  {
   "cell_type": "markdown",
   "metadata": {},
   "source": [
    "#### 9. Calculamos el rango intercuartílico"
   ]
  },
  {
   "cell_type": "code",
   "execution_count": null,
   "metadata": {},
   "outputs": [
    {
     "name": "stdout",
     "output_type": "stream",
     "text": [
      "15.0\n"
     ]
    }
   ],
   "source": [
    "# Calculamos el rango intercuartílico. Q1 es el cuartil 1, Q3 es el cuartil 3. Los outliers son valores que se encuentran alejados de la media.\n",
    "Q1 = df['age'].quantile(0.25)\n",
    "Q3 = df['age'].quantile(0.75)\n",
    "IQR = Q3 - Q1\n",
    "print(IQR)"
   ]
  },
  {
   "cell_type": "markdown",
   "metadata": {},
   "source": [
    "#### 10. Con el groupby identificamos patrones cruzando en este caso 'education' y 'duration'"
   ]
  },
  {
   "cell_type": "code",
   "execution_count": 24,
   "metadata": {},
   "outputs": [
    {
     "name": "stdout",
     "output_type": "stream",
     "text": [
      "education\n",
      "basic.4y               264.402204\n",
      "basic.6y               263.083822\n",
      "basic.9y               260.404977\n",
      "high.school            260.479295\n",
      "illiterate             276.777778\n",
      "professional.course    252.658755\n",
      "university.degree      252.436567\n",
      "Name: duration, dtype: float64\n"
     ]
    }
   ],
   "source": [
    "# En este caso, groupby nos da la media de duración de la llamada telefónica, en base a la educación del cliente\n",
    "print(df.groupby('education')['duration'].mean())"
   ]
  },
  {
   "cell_type": "markdown",
   "metadata": {},
   "source": [
    "#### 11. Cálculo de frecuencias y proporciones"
   ]
  },
  {
   "cell_type": "code",
   "execution_count": null,
   "metadata": {},
   "outputs": [
    {
     "name": "stdout",
     "output_type": "stream",
     "text": [
      "marital\n",
      "MARRIED     0.605825\n",
      "SINGLE      0.282069\n",
      "DIVORCED    0.112105\n",
      "Name: proportion, dtype: float64\n"
     ]
    }
   ],
   "source": [
    "# Value_counts hace una proporción de los valores sobre la columna 'marital', respecto a 1 del total\n",
    "print(df['marital'].value_counts(normalize=True))"
   ]
  }
 ],
 "metadata": {
  "language_info": {
   "name": "python"
  },
  "orig_nbformat": 4
 },
 "nbformat": 4,
 "nbformat_minor": 2
}
