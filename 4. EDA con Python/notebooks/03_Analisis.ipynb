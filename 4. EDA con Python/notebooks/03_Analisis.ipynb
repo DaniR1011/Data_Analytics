{
 "cells": [
  {
   "cell_type": "markdown",
   "metadata": {},
   "source": [
    "# Fase 3: Análisis descriptivo de los datos"
   ]
  },
  {
   "cell_type": "markdown",
   "metadata": {},
   "source": [
    "#### 1. Importamos el archivo csv y procedemos a realizar el análisis de los datos"
   ]
  },
  {
   "cell_type": "code",
   "execution_count": null,
   "metadata": {},
   "outputs": [],
   "source": [
    "import pandas as pd\n",
    "import numpy as np\n",
    "df = pd.read_csv('../data/transform_data/bank_clean.csv', low_memory=False)"
   ]
  },
  {
   "cell_type": "markdown",
   "metadata": {},
   "source": [
    "#### 2. Analizamos las estadísticas de nuestras columnas numéricas"
   ]
  },
  {
   "cell_type": "code",
   "execution_count": null,
   "metadata": {},
   "outputs": [],
   "source": [
    "# Calculamos la media, mediana, mínimo, máximo, percentiles, desviación estándar.\n",
    "df.describe()"
   ]
  },
  {
   "cell_type": "markdown",
   "metadata": {},
   "source": [
    "#### 3. Detección de valores atípicos (Outliers)"
   ]
  },
  {
   "cell_type": "code",
   "execution_count": null,
   "metadata": {},
   "outputs": [],
   "source": [
    "# Detección de outliers con IQR\n",
    "Q1 = df[\"age\"].quantile(0.25)\n",
    "Q3 = df[\"age\"].quantile(0.75)\n",
    "IQR = Q3 - Q1\n",
    "\n",
    "# Rango de valores esperados\n",
    "lower_bound = Q1 - 1.5 * IQR\n",
    "upper_bound = Q3 + 1.5 * IQR\n",
    "\n",
    "# Filtramos valores atípicos\n",
    "outliers = df[(df[\"age\"] < lower_bound) | (df[\"age\"] > upper_bound)]\n",
    "outliers.shape"
   ]
  },
  {
   "cell_type": "markdown",
   "metadata": {},
   "source": [
    "#### 4. Análisis de variables categóricas"
   ]
  },
  {
   "cell_type": "code",
   "execution_count": null,
   "metadata": {},
   "outputs": [],
   "source": [
    "# Valores únicos en cada variable categórica\n",
    "for col in df.select_dtypes(include='object'):\n",
    "    print(f\"{col}: {df[col].unique()}\")"
   ]
  },
  {
   "cell_type": "markdown",
   "metadata": {},
   "source": [
    "#### 5. Análisis de correlación entre variables numéricas"
   ]
  },
  {
   "cell_type": "code",
   "execution_count": null,
   "metadata": {},
   "outputs": [],
   "source": [
    "# Seleccionar solo columnas numéricas\n",
    "df_num = df.select_dtypes(include=[\"number\"])\n",
    "\n",
    "# Calcular matriz de correlación\n",
    "correlaciones = df_num.corr()\n",
    "\n",
    "# Mostrar solo correlaciones significativas (> 0.5 o < -0.5)\n",
    "correlaciones[correlaciones.abs() > 0.5]"
   ]
  },
  {
   "cell_type": "markdown",
   "metadata": {},
   "source": [
    "#### 6. Análisis de la disitribución y asimetría"
   ]
  },
  {
   "cell_type": "code",
   "execution_count": null,
   "metadata": {},
   "outputs": [],
   "source": [
    "from scipy.stats import skew, kurtosis\n",
    "\n",
    "# Seleccionar una columna numérica específica\n",
    "columna = \"duration\"\n",
    "\n",
    "# Verificar si la columna es numérica\n",
    "if np.issubdtype(df[columna].dtype, np.number):\n",
    "    asimetria = skew(df[columna].dropna())\n",
    "    curt = kurtosis(df[columna].dropna())\n",
    "\n",
    "    # Mostrar resultados\n",
    "    print(f\"📊 Análisis de Asimetría y Curtosis\")\n",
    "    print(f\"- Asimetría: {asimetria:.2f}\")\n",
    "    print(f\"- Curtosis: {curt:.2f}\")\n",
    "\n",
    "    # Interpretación de la asimetría\n",
    "    if asimetria > 1:\n",
    "        print(\"🔸 Distribución sesgada positivamente (cola larga a la derecha).\")\n",
    "    elif asimetria < -1:\n",
    "        print(\"🔹 Distribución sesgada negativamente (cola larga a la izquierda).\")\n",
    "    else:\n",
    "        print(\"✅ Distribución aproximadamente simétrica.\")\n",
    "\n",
    "    # Interpretación de la curtosis\n",
    "    if curt > 3:\n",
    "        print(\"Alta curtosis: distribución con colas pesadas (leptocúrtica).\")\n",
    "    elif curt < 3:\n",
    "        print(\"Baja curtosis: distribución más plana de lo normal (platicúrtica).\")\n",
    "    else:\n",
    "        print(\"✅ Curtosis normal.\")\n",
    "\n",
    "else:\n",
    "    print(f\"⚠️ La columna '{columna}' no es numérica y no se puede analizar su distribución.\")"
   ]
  },
  {
   "cell_type": "markdown",
   "metadata": {},
   "source": [
    "#### 7. Con el groupby identificamos patrones cruzando en este caso 'education' y 'duration'"
   ]
  },
  {
   "cell_type": "code",
   "execution_count": null,
   "metadata": {},
   "outputs": [],
   "source": [
    "# En este caso, groupby nos da la media de duración de la llamada telefónica, en base a la educación del cliente\n",
    "df.groupby('education')['duration'].mean()"
   ]
  },
  {
   "cell_type": "markdown",
   "metadata": {},
   "source": [
    "#### 8. Cálculo de frecuencias y proporciones"
   ]
  },
  {
   "cell_type": "code",
   "execution_count": null,
   "metadata": {},
   "outputs": [],
   "source": [
    "# Value_counts hace una proporción de los valores sobre la columna 'marital', respecto a 1 del total\n",
    "df['marital'].value_counts(normalize=True)"
   ]
  },
  {
   "cell_type": "markdown",
   "metadata": {},
   "source": [
    "#### Conclusiones\n",
    "\n",
    "1. **Detección de Outliers**:<br>\n",
    "   Se indica que existen 10 filas de datos que contienen valores atípicos en la columna \"age\", y esas 10 filas tienen 29 columnas asociadas. \n",
    "   Aunque la mayoría de los valores de edad se encuentran dentro de los límites razonables establecidos por el IQR, existen algunos valores \n",
    "   extremos que se desvían significativamente del rango intercuartílico.<br><br>\n",
    "\n",
    "2. **Análisis de variables categóricas**:<br>\n",
    "   Al observar los valores únicos en cada variable categórica, se puede ver que algunas columnas tienen un número limitado de categorías, lo que facilita su interpretación. Sin embargo, otras columnas, como \"job\" o \"education\", contienen un número considerable de categorías, lo que puede hacer que el análisis de estas variables sea más complejo.<br><br>\n",
    "\n",
    "3. **Análisis de la distribución y asimetría**:<br>\n",
    "   La asimetría obtenida es 5, por lo que indica que es una distribución sesgada positivamente, es decir, hay una cola larga a la derecha (valores altos).\n",
    "   La curtosis es de 46.36, es decir, indica que es una distribución leptocúrtica, con colas más pesadas y picos más pronunciados que la distribución normal.<br><br>\n",
    "\n",
    "4. **Estructura de los datos**:<br>\n",
    "   Al calcular el promedio de la columna \"duration\" para cada categoría en \"education\", se obtiene una visión clara de cómo varía la duración promedio según el nivel educativo de las personas. Podemos observar como todas las categorías tienen una media cercana, por ello no hay un predominio concreto de una de las categorías.<br><br>\n",
    "\n",
    "5. **Cálculo de frecuencias y proporciones**:<br>\n",
    "   Podemos observar como existe un predominio de personas casadas, respecto solteras y divorciadas. La desigual distribución de las categorías de estado civil también debe tenerse en cuenta en futuros análisis o modelos, ya que la categoría \"casado\" podría influir de manera desproporcionada en los resultados.<br><br>"
   ]
  }
 ],
 "metadata": {
  "kernelspec": {
   "display_name": "Python 3.12.0 64-bit",
   "language": "python",
   "name": "python3"
  },
  "language_info": {
   "codemirror_mode": {
    "name": "ipython",
    "version": 3
   },
   "file_extension": ".py",
   "mimetype": "text/x-python",
   "name": "python",
   "nbconvert_exporter": "python",
   "pygments_lexer": "ipython3",
   "version": "3.12.0"
  },
  "orig_nbformat": 4,
  "vscode": {
   "interpreter": {
    "hash": "aee8b7b246df8f9039afb4144a1f6fd8d2ca17a180786b69acc140d282b71a49"
   }
  }
 },
 "nbformat": 4,
 "nbformat_minor": 2
}
