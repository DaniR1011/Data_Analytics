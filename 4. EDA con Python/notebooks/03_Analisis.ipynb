{
 "cells": [
  {
   "cell_type": "markdown",
   "metadata": {},
   "source": [
    "# Fase 3: Análisis descriptivo de los datos\n",
    "\n",
    "El análisis descriptivo tiene como objetivo proporcionar una comprensión profunda de la estructura y los patrones de los datos antes de aplicar cualquier modelo predictivo o transformaciones más complejas. A través de este proceso, no solo identificamos patrones, sino también problemas de calidad de los datos que deben ser abordados."
   ]
  },
  {
   "cell_type": "markdown",
   "metadata": {},
   "source": [
    "#### 1. Importamos el archivo csv y procedemos a realizar el análisis de los datos"
   ]
  },
  {
   "cell_type": "code",
   "execution_count": 81,
   "metadata": {},
   "outputs": [],
   "source": [
    "import pandas as pd\n",
    "import numpy as np\n",
    "df = pd.read_csv('../data/transform_data/bank_clean.csv', low_memory=False)"
   ]
  },
  {
   "cell_type": "markdown",
   "metadata": {},
   "source": [
    "#### **2. Cálculo de Estadísticas Descriptivas Básicas**\n",
    "\n",
    "Primero, es importante obtener las estadísticas descriptivas de las variables continuas. Esto nos permitirá obtener un panorama general sobre las medias, medianas, desviaciones estándar y valores atípicos. Este cálculo se debe realizar sobre las columnas numéricas: age, duration, campaign, pdays, previous, emp_var_rate, cons_price_idx, cons_conf_idx, euribor3m, nr_employed, income, kidhome, teenhome, numwebvisitsmonth. En nuestro caso, lo realizaremos para las columnas: age, duration y campaign. Para ello, usamos el método .describe() de Pandas:"
   ]
  },
  {
   "cell_type": "code",
   "execution_count": 82,
   "metadata": {},
   "outputs": [
    {
     "data": {
      "text/html": [
       "<div>\n",
       "<style scoped>\n",
       "    .dataframe tbody tr th:only-of-type {\n",
       "        vertical-align: middle;\n",
       "    }\n",
       "\n",
       "    .dataframe tbody tr th {\n",
       "        vertical-align: top;\n",
       "    }\n",
       "\n",
       "    .dataframe thead th {\n",
       "        text-align: right;\n",
       "    }\n",
       "</style>\n",
       "<table border=\"1\" class=\"dataframe\">\n",
       "  <thead>\n",
       "    <tr style=\"text-align: right;\">\n",
       "      <th></th>\n",
       "      <th>age</th>\n",
       "      <th>duration</th>\n",
       "      <th>campaign</th>\n",
       "    </tr>\n",
       "  </thead>\n",
       "  <tbody>\n",
       "    <tr>\n",
       "      <th>count</th>\n",
       "      <td>43170.000000</td>\n",
       "      <td>43170.000000</td>\n",
       "      <td>43170.000000</td>\n",
       "    </tr>\n",
       "    <tr>\n",
       "      <th>mean</th>\n",
       "      <td>35.078365</td>\n",
       "      <td>257.429210</td>\n",
       "      <td>2.564999</td>\n",
       "    </tr>\n",
       "    <tr>\n",
       "      <th>std</th>\n",
       "      <td>16.353714</td>\n",
       "      <td>258.203313</td>\n",
       "      <td>2.767058</td>\n",
       "    </tr>\n",
       "    <tr>\n",
       "      <th>min</th>\n",
       "      <td>0.000000</td>\n",
       "      <td>0.000000</td>\n",
       "      <td>1.000000</td>\n",
       "    </tr>\n",
       "    <tr>\n",
       "      <th>25%</th>\n",
       "      <td>30.000000</td>\n",
       "      <td>103.000000</td>\n",
       "      <td>1.000000</td>\n",
       "    </tr>\n",
       "    <tr>\n",
       "      <th>50%</th>\n",
       "      <td>36.000000</td>\n",
       "      <td>179.000000</td>\n",
       "      <td>2.000000</td>\n",
       "    </tr>\n",
       "    <tr>\n",
       "      <th>75%</th>\n",
       "      <td>46.000000</td>\n",
       "      <td>318.000000</td>\n",
       "      <td>3.000000</td>\n",
       "    </tr>\n",
       "    <tr>\n",
       "      <th>max</th>\n",
       "      <td>98.000000</td>\n",
       "      <td>4918.000000</td>\n",
       "      <td>56.000000</td>\n",
       "    </tr>\n",
       "  </tbody>\n",
       "</table>\n",
       "</div>"
      ],
      "text/plain": [
       "                age      duration      campaign\n",
       "count  43170.000000  43170.000000  43170.000000\n",
       "mean      35.078365    257.429210      2.564999\n",
       "std       16.353714    258.203313      2.767058\n",
       "min        0.000000      0.000000      1.000000\n",
       "25%       30.000000    103.000000      1.000000\n",
       "50%       36.000000    179.000000      2.000000\n",
       "75%       46.000000    318.000000      3.000000\n",
       "max       98.000000   4918.000000     56.000000"
      ]
     },
     "execution_count": 82,
     "metadata": {},
     "output_type": "execute_result"
    }
   ],
   "source": [
    "# Calculamos estadísticas descriptivas\n",
    "df[['age', 'duration', 'campaign']].describe()"
   ]
  },
  {
   "cell_type": "markdown",
   "metadata": {},
   "source": [
    "Obtenemos las siguientes conclusiones:\n",
    "1. Age:<br>\n",
    "La media de la edad es de aproximadamente 35 años, lo que indica que la mayoría de los contactos en la campaña provienen de personas relativamente jóvenes.<br>\n",
    "La desviación estándar de 16.35 años sugiere que hay una amplia variabilidad en las edades de las personas contactadas.\n",
    "\n",
    "2. Duration:<br>\n",
    "La media de la duración de la llamada es de aproximadamente 257 segundos, lo que sugiere que las llamadas, en promedio, duran alrededor de 4-5 minutos.<br>\n",
    "La desviación estándar es considerablemente alta (258.2 segundos), lo que indica una gran variabilidad en la duración de las llamadas.\n",
    "\n",
    "3. Campaign:<br>\n",
    "El promedio de contactos realizados por persona durante la campaña es de aproximadamente 2.56, lo que indica que, en general, los contactos no son demasiados repetitivos, pero tampoco aislados.<br>\n",
    "La desviación estándar de 2.77 muestra que hay algunas personas que recibieron muchos más contactos que la mayoría."
   ]
  },
  {
   "cell_type": "markdown",
   "metadata": {},
   "source": [
    "#### **3. Análisis de Frecuencia y Proporciones para Variables Categóricas**\n",
    "\n",
    "Las variables categóricas, como el marital, education, y y (resultado de la campaña), pueden analizarse mediante el cálculo de frecuencias y proporciones. Esto nos ayudará a entender la distribución de estas variables en el conjunto de datos."
   ]
  },
  {
   "cell_type": "markdown",
   "metadata": {},
   "source": [
    "#### 3.1 Frecuencia y Proporción de Estado Civil (marital):\n",
    "\n",
    "Para obtener las frecuencias de los diferentes estados civiles de los clientes, utilizamos value_counts():"
   ]
  },
  {
   "cell_type": "code",
   "execution_count": 83,
   "metadata": {},
   "outputs": [
    {
     "name": "stdout",
     "output_type": "stream",
     "text": [
      "marital\n",
      "MARRIED     26254\n",
      "SINGLE      12105\n",
      "DIVORCED     4811\n",
      "Name: count, dtype: int64\n",
      "marital\n",
      "MARRIED     0.608154\n",
      "SINGLE      0.280403\n",
      "DIVORCED    0.111443\n",
      "Name: proportion, dtype: float64\n"
     ]
    }
   ],
   "source": [
    "# Frecuencia de estado civil\n",
    "estado_civil_freq = df['marital'].value_counts()\n",
    "estado_civil_proporciones = df['marital'].value_counts(normalize=True)\n",
    "\n",
    "print(estado_civil_freq)\n",
    "print(estado_civil_proporciones)"
   ]
  },
  {
   "cell_type": "markdown",
   "metadata": {},
   "source": [
    "Obtenemos las siguientes conclusiones:\n",
    "1. La mayoría de las personas en el dataset están casadas (26,254), lo que representa 60.82% del total.\n",
    "2. Las personas solteras constituyen 28.04%, con 12,105 registros.\n",
    "3. Las personas divorciadas son la minoría, representando 11.14% con 4,811 registros."
   ]
  },
  {
   "cell_type": "markdown",
   "metadata": {},
   "source": [
    "#### 3.2 Frecuencia y Proporción de Nivel Educativo (education):\n",
    "\n",
    "De manera similar, calculamos la frecuencia y las proporciones para el nivel educativo:"
   ]
  },
  {
   "cell_type": "code",
   "execution_count": 84,
   "metadata": {},
   "outputs": [
    {
     "name": "stdout",
     "output_type": "stream",
     "text": [
      "education\n",
      "university.degree      14699\n",
      "high.school             9925\n",
      "basic.9y                6309\n",
      "professional.course     5477\n",
      "basic.4y                4356\n",
      "basic.6y                2386\n",
      "illiterate                18\n",
      "Name: count, dtype: int64\n",
      "education\n",
      "university.degree      0.340491\n",
      "high.school            0.229905\n",
      "basic.9y               0.146143\n",
      "professional.course    0.126871\n",
      "basic.4y               0.100903\n",
      "basic.6y               0.055270\n",
      "illiterate             0.000417\n",
      "Name: proportion, dtype: float64\n"
     ]
    }
   ],
   "source": [
    "# Frecuencia de nivel educativo\n",
    "education_freq = df['education'].value_counts()\n",
    "education_proporciones = df['education'].value_counts(normalize=True)\n",
    "\n",
    "print(education_freq)\n",
    "print(education_proporciones)"
   ]
  },
  {
   "cell_type": "markdown",
   "metadata": {},
   "source": [
    "Obtenemos las siguientes conclusiones:\n",
    "1. La mayor parte de los clientes tienen un título universitario (34.05%) o han completado secundaria (22.99%).\n",
    "2. La educación básica está dividida en varias categorías:<br>\n",
    "Básica 9 años: 14.61%<br>\n",
    "Básica 4 años: 10.09%<br>\n",
    "Básica 6 años: 5.53%\n",
    "3. La categoría \"illiterate\" (analfabetos) representa menos del 0.05% (solo 18 personas)."
   ]
  },
  {
   "cell_type": "markdown",
   "metadata": {},
   "source": [
    "#### 3.3 Análisis de la Variable Objetivo (y):\n",
    "\n",
    "Para entender la distribución de la variable de interés, que es el resultado de la campaña (y), también es útil calcular sus frecuencias y proporciones:"
   ]
  },
  {
   "cell_type": "code",
   "execution_count": 85,
   "metadata": {},
   "outputs": [
    {
     "name": "stdout",
     "output_type": "stream",
     "text": [
      "y\n",
      "no     38326\n",
      "yes     4844\n",
      "Name: count, dtype: int64\n",
      "y\n",
      "no     0.887792\n",
      "yes    0.112208\n",
      "Name: proportion, dtype: float64\n"
     ]
    }
   ],
   "source": [
    "# Frecuencia de resultados de la campaña\n",
    "resultado_freq = df['y'].value_counts()\n",
    "resultado_proporciones = df['y'].value_counts(normalize=True)\n",
    "\n",
    "print(resultado_freq)\n",
    "print(resultado_proporciones)"
   ]
  },
  {
   "cell_type": "markdown",
   "metadata": {},
   "source": [
    "Obtenemos las siguientes conclusiones:\n",
    "1. El bajo porcentaje de conversión sugiere que la campaña podría no estar bien dirigida o que los clientes requieren incentivos adicionales para suscribirse. \n",
    "2. 88.78% de las personas no se suscribieron.\n",
    "3. Solo 11.22% aceptaron la oferta."
   ]
  },
  {
   "cell_type": "markdown",
   "metadata": {},
   "source": [
    "#### **4. Análisis por Grupos (GroupBy)**\n",
    "\n",
    "El análisis por grupos es útil para obtener insights sobre cómo ciertas características afectan a otras variables, especialmente la variable objetivo y. Aquí analizamos cómo las variables categóricas impactan la variable objetivo."
   ]
  },
  {
   "cell_type": "markdown",
   "metadata": {},
   "source": [
    "#### 4.1 Análisis de la Variable 'marital' vs 'y'\n",
    "\n",
    "Podemos calcular las medias de las variables continuas segmentadas por el estado civil (marital), para ver si hay diferencias en la duración de la llamada, edad, ingresos, etc., según el estado civil:"
   ]
  },
  {
   "cell_type": "code",
   "execution_count": 86,
   "metadata": {},
   "outputs": [
    {
     "name": "stdout",
     "output_type": "stream",
     "text": [
      "marital\n",
      "DIVORCED    251.966951\n",
      "MARRIED     256.794279\n",
      "SINGLE      260.977200\n",
      "Name: duration, dtype: float64\n"
     ]
    }
   ],
   "source": [
    "# Análisis de duración por estado civil\n",
    "duracion_por_estado_civil = df.groupby('marital')['duration'].mean()\n",
    "print(duracion_por_estado_civil)"
   ]
  },
  {
   "cell_type": "markdown",
   "metadata": {},
   "source": [
    "Obtenemos las siguientes conclusiones:\n",
    "1. Se observa que las personas solteras tienen un valor más alto en la variable analizada.\n",
    "2. Las personas casadas y divorciadas presentan valores más bajos y similares.\n",
    "3. Esto sugiere que el estado civil podría estar relacionado con ciertas diferencias en el comportamiento del cliente dentro de la campaña."
   ]
  },
  {
   "cell_type": "markdown",
   "metadata": {},
   "source": [
    "#### 4.2 Análisis de la Variable 'education' vs 'y':\n",
    "Igual que en el análisis anterior, pero ahora segmentado por nivel educativo:"
   ]
  },
  {
   "cell_type": "code",
   "execution_count": 87,
   "metadata": {},
   "outputs": [
    {
     "name": "stdout",
     "output_type": "stream",
     "text": [
      "education\n",
      "basic.4y               264.402204\n",
      "basic.6y               263.083822\n",
      "basic.9y               260.404977\n",
      "high.school            260.479295\n",
      "illiterate             276.777778\n",
      "professional.course    252.658755\n",
      "university.degree      252.862031\n",
      "Name: duration, dtype: float64\n"
     ]
    }
   ],
   "source": [
    "# Análisis de duración por nivel educativo\n",
    "duracion_por_educacion = df.groupby('education')['duration'].mean()\n",
    "print(duracion_por_educacion)"
   ]
  },
  {
   "cell_type": "markdown",
   "metadata": {},
   "source": [
    "Obtenemos las siguientes conclusiones:\n",
    "1. Sorprendentemente, las personas con menor educación (analfabetos) tienen el valor más alto en la variable analizada.\n",
    "2. Los universitarios y quienes han tomado cursos profesionales tienen valores más bajos.\n",
    "3. Esto podría indicar que las campañas de marketing son más efectivas en personas con menor educación formal, lo que podría estar relacionado con factores socioeconómicos y de acceso a la información."
   ]
  },
  {
   "cell_type": "markdown",
   "metadata": {},
   "source": [
    "#### 4.3 Análisis de la Variable 'income' vs 'y':\n",
    "El análisis por grupo también se puede aplicar a variables continuas como los ingresos:"
   ]
  },
  {
   "cell_type": "code",
   "execution_count": 88,
   "metadata": {},
   "outputs": [
    {
     "name": "stdout",
     "output_type": "stream",
     "text": [
      "y\n",
      "no     93308.669180\n",
      "yes    92584.301197\n",
      "Name: Income, dtype: float64\n"
     ]
    }
   ],
   "source": [
    "# Análisis de ingresos por resultado de la campaña\n",
    "ingresos_por_resultado = df.groupby('y')['Income'].mean()\n",
    "print(ingresos_por_resultado)"
   ]
  },
  {
   "cell_type": "markdown",
   "metadata": {},
   "source": [
    "Obtenemos las siguientes conclusiones:\n",
    "1. Las diferencias entre los valores no son muy significativas, lo que sugiere que la suscripción a la campaña no está fuertemente correlacionada con los ingresos que reciben las personas.\n",
    "2. Sin embargo, la ligera diferencia puede indicar que quienes no se suscriben tienden a tener unos ingresos levemente más elevados."
   ]
  },
  {
   "cell_type": "markdown",
   "metadata": {},
   "source": [
    "#### **5. Análisis de la Distribución de Variables Continuas (Asimetría)**"
   ]
  },
  {
   "cell_type": "markdown",
   "metadata": {},
   "source": [
    "#### 5.1 Cálculo de asimetría de la columna 'age'\n",
    "\n",
    "Como se mencionó antes, la asimetría de la edad nos ayuda a entender si la distribución de edades está sesgada hacia un lado:"
   ]
  },
  {
   "cell_type": "code",
   "execution_count": 89,
   "metadata": {},
   "outputs": [
    {
     "name": "stdout",
     "output_type": "stream",
     "text": [
      "Asimetría de la edad: -0.6826750360913654\n"
     ]
    }
   ],
   "source": [
    "asimetria_age = df['age'].skew()\n",
    "print(f'Asimetría de la edad: {asimetria_age}')"
   ]
  },
  {
   "cell_type": "markdown",
   "metadata": {},
   "source": [
    "La asimetría de edad nos da un valor de -0.682, por lo que obtenemos las siguientes conclusiones:\n",
    "1. Un valor negativo indica que la distribución está sesgada a la izquierda.\n",
    "2. En este caso, hay una mayor concentración de valores en edades más altas, mientras que hay una menor cantidad de edades más bajas (cola más larga hacia la izquierda).\n",
    "3. No es una asimetría extrema, pero sí sugiere que la mayoría de las edades están en un rango medio-alto."
   ]
  },
  {
   "cell_type": "markdown",
   "metadata": {},
   "source": [
    "#### 5.2 Cálculo de asimetría de la columna 'income'\n",
    "\n",
    "De igual manera, calcular la asimetría de los ingresos nos dará una idea de si los datos están sesgados hacia valores bajos o altos:"
   ]
  },
  {
   "cell_type": "code",
   "execution_count": 90,
   "metadata": {},
   "outputs": [
    {
     "name": "stdout",
     "output_type": "stream",
     "text": [
      "Asimetría de los ingresos: 0.0040749853534228705\n"
     ]
    }
   ],
   "source": [
    "asimetria_income = df['Income'].skew()\n",
    "print(f'Asimetría de los ingresos: {asimetria_income}')"
   ]
  },
  {
   "cell_type": "markdown",
   "metadata": {},
   "source": [
    "La asimetría de ingresos nos da un valor de 0.004, por lo que obtenemos las siguientes conclusiones:\n",
    "1. Un valor cercano a 0 indica que la distribución es aproximadamente simétrica.\n",
    "2. Esto significa que los ingresos están distribuidos de manera bastante equilibrada, sin sesgo hacia valores más bajos o más altos.\n",
    "3. Es una señal de que la media y la mediana probablemente sean bastante similares."
   ]
  },
  {
   "cell_type": "markdown",
   "metadata": {},
   "source": [
    "#### **Conclusiones Generales**\n",
    "\n",
    "1. La mayoría de los clientes son casados y con educación universitaria o secundaria.<br>\n",
    "Más del 60% de los clientes están casados, mientras que los solteros y divorciados representan un 40% combinado.<br>\n",
    "Casi el 57% de los clientes tienen educación superior o secundaria, lo que sugiere que las estrategias de marketing deben estar alineadas con este nivel de educación.\n",
    "\n",
    "2. Existe una clara dificultad para convertir clientes en la campaña de marketing.<br>\n",
    "Menos del 12% de los clientes se suscribieron, lo que indica que la estrategia de contacto no ha sido del todo efectiva.<br>\n",
    "Sería clave analizar qué factores (como duración de llamada o canal de contacto) pueden estar influyendo en esta baja tasa de conversión.\n",
    "\n",
    "3. Las diferencias en estado civil y nivel educativo pueden influir en la suscripción.<br>\n",
    "Se observa que la distribución de la variable \"y\" (suscripción) no es uniforme entre los distintos grupos.<br>\n",
    "Los clientes con mayor educación pueden estar más dispuestos a considerar la oferta, mientras que los casados pueden ser más conservadores en sus decisiones financieras.\n",
    "\n",
    "4. La distribución de la edad y los ingresos sugiere tendencias interesantes.<br>\n",
    "La edad tiene una asimetría de -0.68, lo que indica que hay más clientes jóvenes que mayores en el dataset.<br>\n",
    "Los ingresos tienen una asimetría cercana a 0 (0.004), lo que sugiere una distribución más equilibrada.<br>\n",
    "Sería relevante cruzar estas variables con la tasa de suscripción para identificar patrones clave.<br>\n",
    "\n",
    "5. El perfil del cliente ideal podría definirse mejor para optimizar la campaña.<br>\n",
    "La información obtenida sugiere que se pueden segmentar mejor los clientes para mejorar la tasa de conversión.<br>\n",
    "Se recomienda realizar un análisis más profundo de las características de quienes sí se suscribieron, para adaptar la estrategia comercial en función de esos perfiles.\n",
    "\n"
   ]
  }
 ],
 "metadata": {
  "kernelspec": {
   "display_name": "Python 3.12.0 64-bit",
   "language": "python",
   "name": "python3"
  },
  "language_info": {
   "codemirror_mode": {
    "name": "ipython",
    "version": 3
   },
   "file_extension": ".py",
   "mimetype": "text/x-python",
   "name": "python",
   "nbconvert_exporter": "python",
   "pygments_lexer": "ipython3",
   "version": "3.12.0"
  },
  "orig_nbformat": 4,
  "vscode": {
   "interpreter": {
    "hash": "aee8b7b246df8f9039afb4144a1f6fd8d2ca17a180786b69acc140d282b71a49"
   }
  }
 },
 "nbformat": 4,
 "nbformat_minor": 2
}
